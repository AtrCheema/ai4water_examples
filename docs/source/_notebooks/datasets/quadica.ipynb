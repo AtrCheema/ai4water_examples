{
 "cells": [
  {
   "cell_type": "code",
   "execution_count": 1,
   "metadata": {},
   "outputs": [],
   "source": [
    "%matplotlib inline"
   ]
  },
  {
   "cell_type": "markdown",
   "metadata": {},
   "source": [
    "<a href=\"https://colab.research.google.com/github/AtrCheema/ai4water_examples/blob/master/docs/source/_notebooks/datasets/quadica.ipynb\" target=\"_parent\"><img src=\"https://colab.research.google.com/assets/colab-badge.svg\" alt=\"Open In Colab\"/></a>\n",
    "\n",
    "# Quadica dataset\n"
   ]
  },
  {
   "cell_type": "code",
   "execution_count": 2,
   "metadata": {},
   "outputs": [
    {
     "name": "stdout",
     "output_type": "stream",
     "text": [
      "\n",
      "**********Tensorflow models could not be imported **********\n",
      "\n"
     ]
    },
    {
     "name": "stderr",
     "output_type": "stream",
     "text": [
      "D:\\C\\Anaconda3\\envs\\ai4w_dataset\\lib\\site-packages\\sklearn\\experimental\\enable_hist_gradient_boosting.py:16: UserWarning: Since version 1.0, it is not needed to import enable_hist_gradient_boosting anymore. HistGradientBoostingClassifier and HistGradientBoostingRegressor are now stable and can be normally imported from sklearn.ensemble.\n",
      "  warnings.warn(\n"
     ]
    }
   ],
   "source": [
    "\n",
    "import pandas as pd\n",
    "import matplotlib.pyplot as plt\n",
    "from easy_mpl import hist, ridge\n",
    "from ai4water.datasets import Quadica\n",
    "from easy_mpl.utils import create_subplots\n",
    "from ai4water.utils.utils import get_version_info"
   ]
  },
  {
   "cell_type": "code",
   "execution_count": 3,
   "metadata": {},
   "outputs": [
    {
     "name": "stdout",
     "output_type": "stream",
     "text": [
      "python 3.8.12 | packaged by conda-forge | (default, Oct 12 2021, 21:19:05) [MSC v.1916 64 bit (AMD64)]\n",
      "os nt\n",
      "ai4water 1.06\n",
      "easy_mpl 0.21.3\n",
      "SeqMetrics 1.3.3\n",
      "numpy 1.22.2\n",
      "pandas 1.4.0\n",
      "matplotlib 3.5.1\n",
      "h5py 3.6.0\n",
      "joblib 1.2.0\n",
      "sklearn 1.2.1\n",
      "xarray 0.21.1\n",
      "netCDF4 1.5.8\n",
      "seaborn 0.12.0\n"
     ]
    }
   ],
   "source": [
    "for k,v in get_version_info().items():\n",
    "    print(k, v)"
   ]
  },
  {
   "cell_type": "code",
   "execution_count": 4,
   "metadata": {},
   "outputs": [
    {
     "name": "stdout",
     "output_type": "stream",
     "text": [
      "\n",
      "    Not downloading the data since the directory \n",
      "    D:\\C\\Anaconda3\\envs\\ai4w_dataset\\lib\\site-packages\\ai4water\\datasets\\data\\Quadica already exists.\n",
      "    Use overwrite=True to remove previously saved files and download again\n",
      "(828, 1386)\n"
     ]
    }
   ],
   "source": [
    "dataset = Quadica()\n",
    "\n",
    "avg_temp = dataset.avg_temp()\n",
    "print(avg_temp.shape)"
   ]
  },
  {
   "cell_type": "code",
   "execution_count": 5,
   "metadata": {},
   "outputs": [
    {
     "data": {
      "text/html": [
       "<div>\n",
       "<style scoped>\n",
       "    .dataframe tbody tr th:only-of-type {\n",
       "        vertical-align: middle;\n",
       "    }\n",
       "\n",
       "    .dataframe tbody tr th {\n",
       "        vertical-align: top;\n",
       "    }\n",
       "\n",
       "    .dataframe thead th {\n",
       "        text-align: right;\n",
       "    }\n",
       "</style>\n",
       "<table border=\"1\" class=\"dataframe\">\n",
       "  <thead>\n",
       "    <tr style=\"text-align: right;\">\n",
       "      <th></th>\n",
       "      <th>1</th>\n",
       "      <th>2</th>\n",
       "      <th>3</th>\n",
       "      <th>4</th>\n",
       "      <th>8</th>\n",
       "      <th>9</th>\n",
       "      <th>10</th>\n",
       "      <th>11</th>\n",
       "      <th>12</th>\n",
       "      <th>16</th>\n",
       "      <th>...</th>\n",
       "      <th>651</th>\n",
       "      <th>655</th>\n",
       "      <th>660</th>\n",
       "      <th>1002</th>\n",
       "      <th>1007</th>\n",
       "      <th>1012</th>\n",
       "      <th>1013</th>\n",
       "      <th>1277</th>\n",
       "      <th>1279</th>\n",
       "      <th>1281</th>\n",
       "    </tr>\n",
       "    <tr>\n",
       "      <th>Year_Month</th>\n",
       "      <th></th>\n",
       "      <th></th>\n",
       "      <th></th>\n",
       "      <th></th>\n",
       "      <th></th>\n",
       "      <th></th>\n",
       "      <th></th>\n",
       "      <th></th>\n",
       "      <th></th>\n",
       "      <th></th>\n",
       "      <th></th>\n",
       "      <th></th>\n",
       "      <th></th>\n",
       "      <th></th>\n",
       "      <th></th>\n",
       "      <th></th>\n",
       "      <th></th>\n",
       "      <th></th>\n",
       "      <th></th>\n",
       "      <th></th>\n",
       "      <th></th>\n",
       "    </tr>\n",
       "  </thead>\n",
       "  <tbody>\n",
       "    <tr>\n",
       "      <th>1950-01-01</th>\n",
       "      <td>-2.297333</td>\n",
       "      <td>-2.459127</td>\n",
       "      <td>-2.342236</td>\n",
       "      <td>-2.014634</td>\n",
       "      <td>-1.537954</td>\n",
       "      <td>-1.470925</td>\n",
       "      <td>-2.055828</td>\n",
       "      <td>-2.097191</td>\n",
       "      <td>-2.068334</td>\n",
       "      <td>-1.822387</td>\n",
       "      <td>...</td>\n",
       "      <td>-1.627405</td>\n",
       "      <td>-2.270952</td>\n",
       "      <td>-2.310768</td>\n",
       "      <td>0.328745</td>\n",
       "      <td>0.124732</td>\n",
       "      <td>-0.292483</td>\n",
       "      <td>0.567522</td>\n",
       "      <td>-4.408611</td>\n",
       "      <td>-4.568310</td>\n",
       "      <td>-4.675208</td>\n",
       "    </tr>\n",
       "    <tr>\n",
       "      <th>1950-10-01</th>\n",
       "      <td>7.961588</td>\n",
       "      <td>8.154172</td>\n",
       "      <td>8.073226</td>\n",
       "      <td>8.199285</td>\n",
       "      <td>7.843346</td>\n",
       "      <td>7.887170</td>\n",
       "      <td>8.030769</td>\n",
       "      <td>8.013243</td>\n",
       "      <td>8.092491</td>\n",
       "      <td>7.503624</td>\n",
       "      <td>...</td>\n",
       "      <td>8.462639</td>\n",
       "      <td>8.232144</td>\n",
       "      <td>8.088379</td>\n",
       "      <td>8.616307</td>\n",
       "      <td>8.907722</td>\n",
       "      <td>8.254993</td>\n",
       "      <td>8.664533</td>\n",
       "      <td>4.981876</td>\n",
       "      <td>4.807424</td>\n",
       "      <td>4.693177</td>\n",
       "    </tr>\n",
       "    <tr>\n",
       "      <th>1950-11-01</th>\n",
       "      <td>4.387634</td>\n",
       "      <td>4.434822</td>\n",
       "      <td>4.156425</td>\n",
       "      <td>4.526889</td>\n",
       "      <td>4.255621</td>\n",
       "      <td>4.334019</td>\n",
       "      <td>4.359056</td>\n",
       "      <td>4.304337</td>\n",
       "      <td>4.374317</td>\n",
       "      <td>3.918750</td>\n",
       "      <td>...</td>\n",
       "      <td>4.312323</td>\n",
       "      <td>4.267094</td>\n",
       "      <td>4.137416</td>\n",
       "      <td>4.930104</td>\n",
       "      <td>5.048923</td>\n",
       "      <td>4.665080</td>\n",
       "      <td>4.964220</td>\n",
       "      <td>1.274203</td>\n",
       "      <td>1.065288</td>\n",
       "      <td>0.925376</td>\n",
       "    </tr>\n",
       "    <tr>\n",
       "      <th>1950-12-01</th>\n",
       "      <td>-1.291138</td>\n",
       "      <td>-1.312995</td>\n",
       "      <td>-0.986580</td>\n",
       "      <td>-1.682717</td>\n",
       "      <td>-1.870502</td>\n",
       "      <td>-1.807383</td>\n",
       "      <td>-1.876309</td>\n",
       "      <td>-1.883287</td>\n",
       "      <td>-1.772402</td>\n",
       "      <td>-1.421752</td>\n",
       "      <td>...</td>\n",
       "      <td>-0.261073</td>\n",
       "      <td>-0.820888</td>\n",
       "      <td>-0.987980</td>\n",
       "      <td>-0.022088</td>\n",
       "      <td>0.577974</td>\n",
       "      <td>-0.173298</td>\n",
       "      <td>0.067284</td>\n",
       "      <td>-4.234557</td>\n",
       "      <td>-4.388704</td>\n",
       "      <td>-4.488470</td>\n",
       "    </tr>\n",
       "    <tr>\n",
       "      <th>1950-02-01</th>\n",
       "      <td>2.526310</td>\n",
       "      <td>2.694384</td>\n",
       "      <td>2.198610</td>\n",
       "      <td>2.699495</td>\n",
       "      <td>2.684751</td>\n",
       "      <td>2.752606</td>\n",
       "      <td>2.562898</td>\n",
       "      <td>2.520741</td>\n",
       "      <td>2.582700</td>\n",
       "      <td>2.225678</td>\n",
       "      <td>...</td>\n",
       "      <td>2.099005</td>\n",
       "      <td>2.235437</td>\n",
       "      <td>2.112160</td>\n",
       "      <td>2.358829</td>\n",
       "      <td>2.370221</td>\n",
       "      <td>2.440856</td>\n",
       "      <td>2.475693</td>\n",
       "      <td>0.020008</td>\n",
       "      <td>-0.113062</td>\n",
       "      <td>-0.189216</td>\n",
       "    </tr>\n",
       "  </tbody>\n",
       "</table>\n",
       "<p>5 rows × 1386 columns</p>\n",
       "</div>"
      ],
      "text/plain": [
       "                   1         2         3         4         8         9  \\\n",
       "Year_Month                                                               \n",
       "1950-01-01 -2.297333 -2.459127 -2.342236 -2.014634 -1.537954 -1.470925   \n",
       "1950-10-01  7.961588  8.154172  8.073226  8.199285  7.843346  7.887170   \n",
       "1950-11-01  4.387634  4.434822  4.156425  4.526889  4.255621  4.334019   \n",
       "1950-12-01 -1.291138 -1.312995 -0.986580 -1.682717 -1.870502 -1.807383   \n",
       "1950-02-01  2.526310  2.694384  2.198610  2.699495  2.684751  2.752606   \n",
       "\n",
       "                  10        11        12        16  ...       651       655  \\\n",
       "Year_Month                                          ...                       \n",
       "1950-01-01 -2.055828 -2.097191 -2.068334 -1.822387  ... -1.627405 -2.270952   \n",
       "1950-10-01  8.030769  8.013243  8.092491  7.503624  ...  8.462639  8.232144   \n",
       "1950-11-01  4.359056  4.304337  4.374317  3.918750  ...  4.312323  4.267094   \n",
       "1950-12-01 -1.876309 -1.883287 -1.772402 -1.421752  ... -0.261073 -0.820888   \n",
       "1950-02-01  2.562898  2.520741  2.582700  2.225678  ...  2.099005  2.235437   \n",
       "\n",
       "                 660      1002      1007      1012      1013      1277  \\\n",
       "Year_Month                                                               \n",
       "1950-01-01 -2.310768  0.328745  0.124732 -0.292483  0.567522 -4.408611   \n",
       "1950-10-01  8.088379  8.616307  8.907722  8.254993  8.664533  4.981876   \n",
       "1950-11-01  4.137416  4.930104  5.048923  4.665080  4.964220  1.274203   \n",
       "1950-12-01 -0.987980 -0.022088  0.577974 -0.173298  0.067284 -4.234557   \n",
       "1950-02-01  2.112160  2.358829  2.370221  2.440856  2.475693  0.020008   \n",
       "\n",
       "                1279      1281  \n",
       "Year_Month                      \n",
       "1950-01-01 -4.568310 -4.675208  \n",
       "1950-10-01  4.807424  4.693177  \n",
       "1950-11-01  1.065288  0.925376  \n",
       "1950-12-01 -4.388704 -4.488470  \n",
       "1950-02-01 -0.113062 -0.189216  \n",
       "\n",
       "[5 rows x 1386 columns]"
      ]
     },
     "execution_count": 5,
     "metadata": {},
     "output_type": "execute_result"
    }
   ],
   "source": [
    "avg_temp.head()"
   ]
  },
  {
   "cell_type": "markdown",
   "metadata": {},
   "source": [
    "## pet\n",
    "\n"
   ]
  },
  {
   "cell_type": "code",
   "execution_count": 6,
   "metadata": {},
   "outputs": [
    {
     "name": "stdout",
     "output_type": "stream",
     "text": [
      "(828, 1386)\n"
     ]
    }
   ],
   "source": [
    "pet = dataset.pet()\n",
    "print(pet.shape)"
   ]
  },
  {
   "cell_type": "markdown",
   "metadata": {},
   "source": [
    "## precipitation\n",
    "\n"
   ]
  },
  {
   "cell_type": "code",
   "execution_count": 7,
   "metadata": {},
   "outputs": [
    {
     "name": "stdout",
     "output_type": "stream",
     "text": [
      "(828, 1386)\n"
     ]
    }
   ],
   "source": [
    "pcp = dataset.precipitation()\n",
    "print(pcp.shape)"
   ]
  },
  {
   "cell_type": "markdown",
   "metadata": {},
   "source": [
    "## monthly median values\n",
    "\n"
   ]
  },
  {
   "cell_type": "code",
   "execution_count": 8,
   "metadata": {},
   "outputs": [
    {
     "name": "stdout",
     "output_type": "stream",
     "text": [
      "(16629, 18)\n"
     ]
    }
   ],
   "source": [
    "mon_medians = dataset.monthly_medians()\n",
    "print(mon_medians.shape)"
   ]
  },
  {
   "cell_type": "code",
   "execution_count": 9,
   "metadata": {},
   "outputs": [
    {
     "data": {
      "text/html": [
       "<div>\n",
       "<style scoped>\n",
       "    .dataframe tbody tr th:only-of-type {\n",
       "        vertical-align: middle;\n",
       "    }\n",
       "\n",
       "    .dataframe tbody tr th {\n",
       "        vertical-align: top;\n",
       "    }\n",
       "\n",
       "    .dataframe thead th {\n",
       "        text-align: right;\n",
       "    }\n",
       "</style>\n",
       "<table border=\"1\" class=\"dataframe\">\n",
       "  <thead>\n",
       "    <tr style=\"text-align: right;\">\n",
       "      <th></th>\n",
       "      <th>OBJECTID</th>\n",
       "      <th>Month</th>\n",
       "      <th>n_Q</th>\n",
       "      <th>median_Q</th>\n",
       "      <th>n_NO3</th>\n",
       "      <th>median_NO3N</th>\n",
       "      <th>n_NMin</th>\n",
       "      <th>median_NMin</th>\n",
       "      <th>n_TN</th>\n",
       "      <th>median_TN</th>\n",
       "      <th>n_PO4</th>\n",
       "      <th>median_PO4P</th>\n",
       "      <th>n_TP</th>\n",
       "      <th>median_TP</th>\n",
       "      <th>n_DOC</th>\n",
       "      <th>median_DOC</th>\n",
       "      <th>n_TOC</th>\n",
       "      <th>median_TOC</th>\n",
       "    </tr>\n",
       "  </thead>\n",
       "  <tbody>\n",
       "    <tr>\n",
       "      <th>0</th>\n",
       "      <td>1</td>\n",
       "      <td>1</td>\n",
       "      <td>0</td>\n",
       "      <td>NaN</td>\n",
       "      <td>11</td>\n",
       "      <td>1.700</td>\n",
       "      <td>11</td>\n",
       "      <td>1.960</td>\n",
       "      <td>11</td>\n",
       "      <td>3.60</td>\n",
       "      <td>11</td>\n",
       "      <td>0.0250</td>\n",
       "      <td>11</td>\n",
       "      <td>0.1180</td>\n",
       "      <td>0</td>\n",
       "      <td>NaN</td>\n",
       "      <td>11</td>\n",
       "      <td>6.60</td>\n",
       "    </tr>\n",
       "    <tr>\n",
       "      <th>1</th>\n",
       "      <td>1</td>\n",
       "      <td>2</td>\n",
       "      <td>0</td>\n",
       "      <td>NaN</td>\n",
       "      <td>12</td>\n",
       "      <td>1.740</td>\n",
       "      <td>12</td>\n",
       "      <td>1.975</td>\n",
       "      <td>12</td>\n",
       "      <td>4.30</td>\n",
       "      <td>12</td>\n",
       "      <td>0.0285</td>\n",
       "      <td>12</td>\n",
       "      <td>0.1375</td>\n",
       "      <td>0</td>\n",
       "      <td>NaN</td>\n",
       "      <td>12</td>\n",
       "      <td>6.85</td>\n",
       "    </tr>\n",
       "    <tr>\n",
       "      <th>2</th>\n",
       "      <td>1</td>\n",
       "      <td>3</td>\n",
       "      <td>0</td>\n",
       "      <td>NaN</td>\n",
       "      <td>11</td>\n",
       "      <td>1.900</td>\n",
       "      <td>11</td>\n",
       "      <td>2.100</td>\n",
       "      <td>11</td>\n",
       "      <td>4.70</td>\n",
       "      <td>11</td>\n",
       "      <td>0.0220</td>\n",
       "      <td>11</td>\n",
       "      <td>0.0880</td>\n",
       "      <td>0</td>\n",
       "      <td>NaN</td>\n",
       "      <td>11</td>\n",
       "      <td>7.50</td>\n",
       "    </tr>\n",
       "    <tr>\n",
       "      <th>3</th>\n",
       "      <td>1</td>\n",
       "      <td>4</td>\n",
       "      <td>0</td>\n",
       "      <td>NaN</td>\n",
       "      <td>10</td>\n",
       "      <td>1.405</td>\n",
       "      <td>10</td>\n",
       "      <td>1.580</td>\n",
       "      <td>10</td>\n",
       "      <td>2.95</td>\n",
       "      <td>10</td>\n",
       "      <td>0.0150</td>\n",
       "      <td>10</td>\n",
       "      <td>0.1115</td>\n",
       "      <td>0</td>\n",
       "      <td>NaN</td>\n",
       "      <td>10</td>\n",
       "      <td>7.00</td>\n",
       "    </tr>\n",
       "    <tr>\n",
       "      <th>4</th>\n",
       "      <td>1</td>\n",
       "      <td>5</td>\n",
       "      <td>0</td>\n",
       "      <td>NaN</td>\n",
       "      <td>11</td>\n",
       "      <td>1.000</td>\n",
       "      <td>11</td>\n",
       "      <td>1.260</td>\n",
       "      <td>11</td>\n",
       "      <td>2.60</td>\n",
       "      <td>11</td>\n",
       "      <td>0.0280</td>\n",
       "      <td>11</td>\n",
       "      <td>0.1550</td>\n",
       "      <td>0</td>\n",
       "      <td>NaN</td>\n",
       "      <td>11</td>\n",
       "      <td>9.00</td>\n",
       "    </tr>\n",
       "  </tbody>\n",
       "</table>\n",
       "</div>"
      ],
      "text/plain": [
       "   OBJECTID  Month  n_Q  median_Q  n_NO3  median_NO3N  n_NMin  median_NMin  \\\n",
       "0         1      1    0       NaN     11        1.700      11        1.960   \n",
       "1         1      2    0       NaN     12        1.740      12        1.975   \n",
       "2         1      3    0       NaN     11        1.900      11        2.100   \n",
       "3         1      4    0       NaN     10        1.405      10        1.580   \n",
       "4         1      5    0       NaN     11        1.000      11        1.260   \n",
       "\n",
       "   n_TN  median_TN  n_PO4  median_PO4P  n_TP  median_TP  n_DOC  median_DOC  \\\n",
       "0    11       3.60     11       0.0250    11     0.1180      0         NaN   \n",
       "1    12       4.30     12       0.0285    12     0.1375      0         NaN   \n",
       "2    11       4.70     11       0.0220    11     0.0880      0         NaN   \n",
       "3    10       2.95     10       0.0150    10     0.1115      0         NaN   \n",
       "4    11       2.60     11       0.0280    11     0.1550      0         NaN   \n",
       "\n",
       "   n_TOC  median_TOC  \n",
       "0     11        6.60  \n",
       "1     12        6.85  \n",
       "2     11        7.50  \n",
       "3     10        7.00  \n",
       "4     11        9.00  "
      ]
     },
     "execution_count": 9,
     "metadata": {},
     "output_type": "execute_result"
    }
   ],
   "source": [
    "mon_medians.head()"
   ]
  },
  {
   "cell_type": "code",
   "execution_count": 10,
   "metadata": {},
   "outputs": [
    {
     "name": "stdout",
     "output_type": "stream",
     "text": [
      "(50186, 47)\n"
     ]
    }
   ],
   "source": [
    "wrtds_mon = dataset.wrtds_monthly()\n",
    "print(wrtds_mon.shape)"
   ]
  },
  {
   "cell_type": "markdown",
   "metadata": {},
   "source": [
    "## catchment attributes\n",
    "\n"
   ]
  },
  {
   "cell_type": "code",
   "execution_count": 11,
   "metadata": {},
   "outputs": [
    {
     "name": "stdout",
     "output_type": "stream",
     "text": [
      "(1386, 113)\n"
     ]
    }
   ],
   "source": [
    "cat_attrs = dataset.catchment_attributes()\n",
    "print(cat_attrs.shape)"
   ]
  },
  {
   "cell_type": "code",
   "execution_count": 12,
   "metadata": {},
   "outputs": [
    {
     "name": "stdout",
     "output_type": "stream",
     "text": [
      "Index(['OBJECTID', 'Station', 'Area_km2', 'f_AreaGer', 'dem.mean',\n",
      "       'dem.median', 'slo.mean', 'slo.median', 'twi.mean', 'twi.med',\n",
      "       ...\n",
      "       'flashi', 'BFI', 'P_mm', 'P_SIsw', 'P_SI', 'P_lambda', 'P_alpha',\n",
      "       'PET_mm', 'AI', 'T_mean'],\n",
      "      dtype='object', length=113)\n"
     ]
    }
   ],
   "source": [
    "print(cat_attrs.columns)"
   ]
  },
  {
   "cell_type": "code",
   "execution_count": 13,
   "metadata": {},
   "outputs": [
    {
     "data": {
      "text/html": [
       "<div>\n",
       "<style scoped>\n",
       "    .dataframe tbody tr th:only-of-type {\n",
       "        vertical-align: middle;\n",
       "    }\n",
       "\n",
       "    .dataframe tbody tr th {\n",
       "        vertical-align: top;\n",
       "    }\n",
       "\n",
       "    .dataframe thead th {\n",
       "        text-align: right;\n",
       "    }\n",
       "</style>\n",
       "<table border=\"1\" class=\"dataframe\">\n",
       "  <thead>\n",
       "    <tr style=\"text-align: right;\">\n",
       "      <th></th>\n",
       "      <th>OBJECTID</th>\n",
       "      <th>Station</th>\n",
       "      <th>Area_km2</th>\n",
       "      <th>f_AreaGer</th>\n",
       "      <th>dem.mean</th>\n",
       "      <th>dem.median</th>\n",
       "      <th>slo.mean</th>\n",
       "      <th>slo.median</th>\n",
       "      <th>twi.mean</th>\n",
       "      <th>twi.med</th>\n",
       "      <th>...</th>\n",
       "      <th>flashi</th>\n",
       "      <th>BFI</th>\n",
       "      <th>P_mm</th>\n",
       "      <th>P_SIsw</th>\n",
       "      <th>P_SI</th>\n",
       "      <th>P_lambda</th>\n",
       "      <th>P_alpha</th>\n",
       "      <th>PET_mm</th>\n",
       "      <th>AI</th>\n",
       "      <th>T_mean</th>\n",
       "    </tr>\n",
       "  </thead>\n",
       "  <tbody>\n",
       "    <tr>\n",
       "      <th>0</th>\n",
       "      <td>1</td>\n",
       "      <td>BB_AMFL_0010</td>\n",
       "      <td>21.65</td>\n",
       "      <td>1.0</td>\n",
       "      <td>74.683632</td>\n",
       "      <td>72.135452</td>\n",
       "      <td>0.750141</td>\n",
       "      <td>0.678210</td>\n",
       "      <td>15.002993</td>\n",
       "      <td>14.357248</td>\n",
       "      <td>...</td>\n",
       "      <td>NaN</td>\n",
       "      <td>NaN</td>\n",
       "      <td>589.535167</td>\n",
       "      <td>1.338849</td>\n",
       "      <td>2.044286</td>\n",
       "      <td>0.322334</td>\n",
       "      <td>5.007660</td>\n",
       "      <td>760.654789</td>\n",
       "      <td>1.290294</td>\n",
       "      <td>9.425497</td>\n",
       "    </tr>\n",
       "    <tr>\n",
       "      <th>1</th>\n",
       "      <td>2</td>\n",
       "      <td>BB_AZMFL_0010</td>\n",
       "      <td>50.47</td>\n",
       "      <td>1.0</td>\n",
       "      <td>61.898052</td>\n",
       "      <td>56.878677</td>\n",
       "      <td>1.157724</td>\n",
       "      <td>0.823584</td>\n",
       "      <td>14.753934</td>\n",
       "      <td>14.246800</td>\n",
       "      <td>...</td>\n",
       "      <td>0.0</td>\n",
       "      <td>0.878186</td>\n",
       "      <td>544.733603</td>\n",
       "      <td>1.661279</td>\n",
       "      <td>2.726427</td>\n",
       "      <td>0.306447</td>\n",
       "      <td>4.866778</td>\n",
       "      <td>774.804494</td>\n",
       "      <td>1.422743</td>\n",
       "      <td>9.381932</td>\n",
       "    </tr>\n",
       "    <tr>\n",
       "      <th>2</th>\n",
       "      <td>3</td>\n",
       "      <td>BB_BAFL_0010</td>\n",
       "      <td>56.19</td>\n",
       "      <td>1.0</td>\n",
       "      <td>48.056680</td>\n",
       "      <td>50.443848</td>\n",
       "      <td>0.973699</td>\n",
       "      <td>0.846759</td>\n",
       "      <td>14.805566</td>\n",
       "      <td>14.195425</td>\n",
       "      <td>...</td>\n",
       "      <td>NaN</td>\n",
       "      <td>NaN</td>\n",
       "      <td>535.680048</td>\n",
       "      <td>1.813461</td>\n",
       "      <td>3.034012</td>\n",
       "      <td>0.308551</td>\n",
       "      <td>4.753558</td>\n",
       "      <td>719.133840</td>\n",
       "      <td>1.342496</td>\n",
       "      <td>8.983454</td>\n",
       "    </tr>\n",
       "  </tbody>\n",
       "</table>\n",
       "<p>3 rows × 113 columns</p>\n",
       "</div>"
      ],
      "text/plain": [
       "   OBJECTID        Station  Area_km2  f_AreaGer   dem.mean  dem.median  \\\n",
       "0         1   BB_AMFL_0010     21.65        1.0  74.683632   72.135452   \n",
       "1         2  BB_AZMFL_0010     50.47        1.0  61.898052   56.878677   \n",
       "2         3   BB_BAFL_0010     56.19        1.0  48.056680   50.443848   \n",
       "\n",
       "   slo.mean  slo.median   twi.mean    twi.med  ...  flashi       BFI  \\\n",
       "0  0.750141    0.678210  15.002993  14.357248  ...     NaN       NaN   \n",
       "1  1.157724    0.823584  14.753934  14.246800  ...     0.0  0.878186   \n",
       "2  0.973699    0.846759  14.805566  14.195425  ...     NaN       NaN   \n",
       "\n",
       "         P_mm    P_SIsw      P_SI  P_lambda   P_alpha      PET_mm        AI  \\\n",
       "0  589.535167  1.338849  2.044286  0.322334  5.007660  760.654789  1.290294   \n",
       "1  544.733603  1.661279  2.726427  0.306447  4.866778  774.804494  1.422743   \n",
       "2  535.680048  1.813461  3.034012  0.308551  4.753558  719.133840  1.342496   \n",
       "\n",
       "     T_mean  \n",
       "0  9.425497  \n",
       "1  9.381932  \n",
       "2  8.983454  \n",
       "\n",
       "[3 rows x 113 columns]"
      ]
     },
     "execution_count": 13,
     "metadata": {},
     "output_type": "execute_result"
    }
   ],
   "source": [
    "dataset.catchment_attributes(stations=[1,2,3])"
   ]
  },
  {
   "cell_type": "markdown",
   "metadata": {},
   "source": [
    "## monthly data\n",
    "\n"
   ]
  },
  {
   "cell_type": "code",
   "execution_count": 14,
   "metadata": {},
   "outputs": [
    {
     "name": "stdout",
     "output_type": "stream",
     "text": [
      "(29484, 33)\n"
     ]
    }
   ],
   "source": [
    "dyn, cat = dataset.fetch_monthly(max_nan_tol=None)\n",
    "print(dyn.shape)"
   ]
  },
  {
   "cell_type": "code",
   "execution_count": 15,
   "metadata": {},
   "outputs": [
    {
     "data": {
      "text/plain": [
       "array([ 333,  334,  335,  336,  337,  340,  341,  342,  345,  346,  347,\n",
       "        348,  349,  350,  352,  355,  358,  359,  360,  362,  363,  364,\n",
       "        365,  368,  370,  373,  374,  376,  380,  381,  391,  393,  637,\n",
       "        663,  667,  673,  678,  686,  687,  688,  690,  692,  696,  701,\n",
       "        705,  711,  716,  718,  722,  723,  728,  730,  734,  735,  736,\n",
       "        737,  739,  740,  742,  744,  745,  746,  750,  752,  754,  769,\n",
       "        773,  774,  775,  776,  778,  782,  783,  785,  786,  787,  789,\n",
       "        796,  797,  874,  885,  899,  985,  986,  991, 1011, 1016, 1017,\n",
       "       1019, 1082, 1113, 1186, 1237, 1238, 1255, 1270, 1271, 1275, 1287,\n",
       "       1303, 1332, 1467, 1473, 1482, 1495, 1570, 1571, 1573, 1672, 1677,\n",
       "       1678, 1679, 1680, 1683, 1688, 1690, 1691], dtype=int64)"
      ]
     },
     "execution_count": 15,
     "metadata": {},
     "output_type": "execute_result"
    }
   ],
   "source": [
    "dyn['OBJECTID'].unique()"
   ]
  },
  {
   "cell_type": "code",
   "execution_count": 16,
   "metadata": {},
   "outputs": [
    {
     "name": "stdout",
     "output_type": "stream",
     "text": [
      "Index(['median_C_NO3', 'median_C_NMin', 'median_FNC_TP', 'median_FNC_PO4',\n",
      "       'mean_FNFlux_TN', 'median_FNC_NO3', 'mean_FNFlux_DOC', 'mean_FNFlux_TP',\n",
      "       'median_C_TP', 'mean_Flux_TOC', 'median_FNC_NMin', 'mean_FNFlux_PO4',\n",
      "       'mean_Flux_DOC', 'mean_Flux_NMin', 'mean_FNFlux_NO3',\n",
      "       'mean_FNFlux_NMin', 'median_FNC_TOC', 'mean_Flux_TN', 'median_C_TOC',\n",
      "       'mean_Flux_NO3', 'mean_Flux_PO4', 'mean_Flux_TP', 'median_FNC_DOC',\n",
      "       'median_C_TN', 'mean_FNFlux_TOC', 'median_Q', 'median_C_DOC',\n",
      "       'median_C_PO4', 'median_FNC_TN', 'OBJECTID', 'avg_temp', 'precip',\n",
      "       'pet'],\n",
      "      dtype='object')\n"
     ]
    }
   ],
   "source": [
    "print(dyn.columns)"
   ]
  },
  {
   "cell_type": "code",
   "execution_count": 17,
   "metadata": {},
   "outputs": [
    {
     "name": "stdout",
     "output_type": "stream",
     "text": [
      "median_C_NO3         2691\n",
      "median_C_NMin        9161\n",
      "median_FNC_TP        1819\n",
      "median_FNC_PO4       1988\n",
      "mean_FNFlux_TN      18880\n",
      "median_FNC_NO3       2709\n",
      "mean_FNFlux_DOC     16361\n",
      "mean_FNFlux_TP       1819\n",
      "median_C_TP          1819\n",
      "mean_Flux_TOC       15456\n",
      "median_FNC_NMin      9161\n",
      "mean_FNFlux_PO4      1988\n",
      "mean_Flux_DOC       16361\n",
      "mean_Flux_NMin       9161\n",
      "mean_FNFlux_NO3      2709\n",
      "mean_FNFlux_NMin     9161\n",
      "median_FNC_TOC      15469\n",
      "mean_Flux_TN        18880\n",
      "median_C_TOC        15456\n",
      "mean_Flux_NO3        2691\n",
      "mean_Flux_PO4        1988\n",
      "mean_Flux_TP         1819\n",
      "median_FNC_DOC      16361\n",
      "median_C_TN         18880\n",
      "mean_FNFlux_TOC     15469\n",
      "median_Q               13\n",
      "median_C_DOC        16361\n",
      "median_C_PO4         1988\n",
      "median_FNC_TN       18880\n",
      "OBJECTID                0\n",
      "avg_temp                0\n",
      "precip                  0\n",
      "pet                     0\n",
      "dtype: int64\n"
     ]
    }
   ],
   "source": [
    "print(dyn.isna().sum())"
   ]
  },
  {
   "cell_type": "code",
   "execution_count": 18,
   "metadata": {},
   "outputs": [
    {
     "name": "stdout",
     "output_type": "stream",
     "text": [
      "(29484, 113)\n"
     ]
    }
   ],
   "source": [
    "print(cat.shape)"
   ]
  },
  {
   "cell_type": "markdown",
   "metadata": {},
   "source": [
    "## monthly TN\n",
    "\n"
   ]
  },
  {
   "cell_type": "code",
   "execution_count": 19,
   "metadata": {},
   "outputs": [
    {
     "name": "stdout",
     "output_type": "stream",
     "text": [
      "(6300, 9)\n"
     ]
    }
   ],
   "source": [
    "dyn, cat = dataset.fetch_monthly(features=\"TN\", max_nan_tol=0)\n",
    "print(dyn.shape)"
   ]
  },
  {
   "cell_type": "code",
   "execution_count": 20,
   "metadata": {},
   "outputs": [
    {
     "data": {
      "text/html": [
       "<div>\n",
       "<style scoped>\n",
       "    .dataframe tbody tr th:only-of-type {\n",
       "        vertical-align: middle;\n",
       "    }\n",
       "\n",
       "    .dataframe tbody tr th {\n",
       "        vertical-align: top;\n",
       "    }\n",
       "\n",
       "    .dataframe thead th {\n",
       "        text-align: right;\n",
       "    }\n",
       "</style>\n",
       "<table border=\"1\" class=\"dataframe\">\n",
       "  <thead>\n",
       "    <tr style=\"text-align: right;\">\n",
       "      <th></th>\n",
       "      <th>median_C_TN</th>\n",
       "      <th>mean_Flux_TN</th>\n",
       "      <th>mean_FNFlux_TN</th>\n",
       "      <th>median_Q</th>\n",
       "      <th>median_FNC_TN</th>\n",
       "      <th>OBJECTID</th>\n",
       "      <th>avg_temp</th>\n",
       "      <th>precip</th>\n",
       "      <th>pet</th>\n",
       "    </tr>\n",
       "  </thead>\n",
       "  <tbody>\n",
       "    <tr>\n",
       "      <th>1993-01-01</th>\n",
       "      <td>7.973254</td>\n",
       "      <td>4854.350816</td>\n",
       "      <td>3785.002788</td>\n",
       "      <td>6.70</td>\n",
       "      <td>8.143008</td>\n",
       "      <td>663</td>\n",
       "      <td>3.807984</td>\n",
       "      <td>121.793169</td>\n",
       "      <td>11.415899</td>\n",
       "    </tr>\n",
       "    <tr>\n",
       "      <th>1993-02-01</th>\n",
       "      <td>7.955991</td>\n",
       "      <td>3698.383160</td>\n",
       "      <td>3531.640525</td>\n",
       "      <td>5.29</td>\n",
       "      <td>8.062551</td>\n",
       "      <td>663</td>\n",
       "      <td>8.473467</td>\n",
       "      <td>116.131558</td>\n",
       "      <td>28.869268</td>\n",
       "    </tr>\n",
       "    <tr>\n",
       "      <th>1993-03-01</th>\n",
       "      <td>8.138089</td>\n",
       "      <td>2249.559645</td>\n",
       "      <td>3076.825302</td>\n",
       "      <td>3.17</td>\n",
       "      <td>7.878655</td>\n",
       "      <td>663</td>\n",
       "      <td>1.430167</td>\n",
       "      <td>35.333157</td>\n",
       "      <td>9.847851</td>\n",
       "    </tr>\n",
       "    <tr>\n",
       "      <th>1993-04-01</th>\n",
       "      <td>7.665461</td>\n",
       "      <td>2272.942794</td>\n",
       "      <td>2298.055504</td>\n",
       "      <td>3.28</td>\n",
       "      <td>7.780824</td>\n",
       "      <td>663</td>\n",
       "      <td>4.333394</td>\n",
       "      <td>180.090165</td>\n",
       "      <td>8.050768</td>\n",
       "    </tr>\n",
       "    <tr>\n",
       "      <th>1993-05-01</th>\n",
       "      <td>7.843202</td>\n",
       "      <td>1551.660935</td>\n",
       "      <td>1607.637873</td>\n",
       "      <td>2.28</td>\n",
       "      <td>7.807650</td>\n",
       "      <td>663</td>\n",
       "      <td>0.830066</td>\n",
       "      <td>30.062856</td>\n",
       "      <td>13.271998</td>\n",
       "    </tr>\n",
       "  </tbody>\n",
       "</table>\n",
       "</div>"
      ],
      "text/plain": [
       "            median_C_TN  mean_Flux_TN  mean_FNFlux_TN  median_Q  \\\n",
       "1993-01-01     7.973254   4854.350816     3785.002788      6.70   \n",
       "1993-02-01     7.955991   3698.383160     3531.640525      5.29   \n",
       "1993-03-01     8.138089   2249.559645     3076.825302      3.17   \n",
       "1993-04-01     7.665461   2272.942794     2298.055504      3.28   \n",
       "1993-05-01     7.843202   1551.660935     1607.637873      2.28   \n",
       "\n",
       "            median_FNC_TN  OBJECTID  avg_temp      precip        pet  \n",
       "1993-01-01       8.143008       663  3.807984  121.793169  11.415899  \n",
       "1993-02-01       8.062551       663  8.473467  116.131558  28.869268  \n",
       "1993-03-01       7.878655       663  1.430167   35.333157   9.847851  \n",
       "1993-04-01       7.780824       663  4.333394  180.090165   8.050768  \n",
       "1993-05-01       7.807650       663  0.830066   30.062856  13.271998  "
      ]
     },
     "execution_count": 20,
     "metadata": {},
     "output_type": "execute_result"
    }
   ],
   "source": [
    "dyn.head()"
   ]
  },
  {
   "cell_type": "code",
   "execution_count": 21,
   "metadata": {},
   "outputs": [
    {
     "data": {
      "text/html": [
       "<div>\n",
       "<style scoped>\n",
       "    .dataframe tbody tr th:only-of-type {\n",
       "        vertical-align: middle;\n",
       "    }\n",
       "\n",
       "    .dataframe tbody tr th {\n",
       "        vertical-align: top;\n",
       "    }\n",
       "\n",
       "    .dataframe thead th {\n",
       "        text-align: right;\n",
       "    }\n",
       "</style>\n",
       "<table border=\"1\" class=\"dataframe\">\n",
       "  <thead>\n",
       "    <tr style=\"text-align: right;\">\n",
       "      <th></th>\n",
       "      <th>median_C_TN</th>\n",
       "      <th>mean_Flux_TN</th>\n",
       "      <th>mean_FNFlux_TN</th>\n",
       "      <th>median_Q</th>\n",
       "      <th>median_FNC_TN</th>\n",
       "      <th>OBJECTID</th>\n",
       "      <th>avg_temp</th>\n",
       "      <th>precip</th>\n",
       "      <th>pet</th>\n",
       "    </tr>\n",
       "  </thead>\n",
       "  <tbody>\n",
       "    <tr>\n",
       "      <th>2013-08-01</th>\n",
       "      <td>3.035308</td>\n",
       "      <td>6315.751380</td>\n",
       "      <td>7280.583175</td>\n",
       "      <td>21.62</td>\n",
       "      <td>3.065682</td>\n",
       "      <td>1019</td>\n",
       "      <td>11.212706</td>\n",
       "      <td>148.730218</td>\n",
       "      <td>90.947478</td>\n",
       "    </tr>\n",
       "    <tr>\n",
       "      <th>2013-09-01</th>\n",
       "      <td>3.288561</td>\n",
       "      <td>12811.035546</td>\n",
       "      <td>8107.321967</td>\n",
       "      <td>38.94</td>\n",
       "      <td>3.194456</td>\n",
       "      <td>1019</td>\n",
       "      <td>16.430328</td>\n",
       "      <td>74.409189</td>\n",
       "      <td>130.848008</td>\n",
       "    </tr>\n",
       "    <tr>\n",
       "      <th>2013-10-01</th>\n",
       "      <td>3.444130</td>\n",
       "      <td>30742.345242</td>\n",
       "      <td>12261.944444</td>\n",
       "      <td>84.51</td>\n",
       "      <td>3.452440</td>\n",
       "      <td>1019</td>\n",
       "      <td>20.729773</td>\n",
       "      <td>43.103508</td>\n",
       "      <td>154.377919</td>\n",
       "    </tr>\n",
       "    <tr>\n",
       "      <th>2013-11-01</th>\n",
       "      <td>3.732225</td>\n",
       "      <td>45608.256567</td>\n",
       "      <td>22491.901904</td>\n",
       "      <td>136.87</td>\n",
       "      <td>3.742268</td>\n",
       "      <td>1019</td>\n",
       "      <td>18.462523</td>\n",
       "      <td>54.366963</td>\n",
       "      <td>122.983270</td>\n",
       "    </tr>\n",
       "    <tr>\n",
       "      <th>2013-12-01</th>\n",
       "      <td>4.176698</td>\n",
       "      <td>30066.266276</td>\n",
       "      <td>37932.025054</td>\n",
       "      <td>61.38</td>\n",
       "      <td>3.963254</td>\n",
       "      <td>1019</td>\n",
       "      <td>14.342434</td>\n",
       "      <td>96.153852</td>\n",
       "      <td>70.408549</td>\n",
       "    </tr>\n",
       "  </tbody>\n",
       "</table>\n",
       "</div>"
      ],
      "text/plain": [
       "            median_C_TN  mean_Flux_TN  mean_FNFlux_TN  median_Q  \\\n",
       "2013-08-01     3.035308   6315.751380     7280.583175     21.62   \n",
       "2013-09-01     3.288561  12811.035546     8107.321967     38.94   \n",
       "2013-10-01     3.444130  30742.345242    12261.944444     84.51   \n",
       "2013-11-01     3.732225  45608.256567    22491.901904    136.87   \n",
       "2013-12-01     4.176698  30066.266276    37932.025054     61.38   \n",
       "\n",
       "            median_FNC_TN  OBJECTID   avg_temp      precip         pet  \n",
       "2013-08-01       3.065682      1019  11.212706  148.730218   90.947478  \n",
       "2013-09-01       3.194456      1019  16.430328   74.409189  130.848008  \n",
       "2013-10-01       3.452440      1019  20.729773   43.103508  154.377919  \n",
       "2013-11-01       3.742268      1019  18.462523   54.366963  122.983270  \n",
       "2013-12-01       3.963254      1019  14.342434   96.153852   70.408549  "
      ]
     },
     "execution_count": 21,
     "metadata": {},
     "output_type": "execute_result"
    }
   ],
   "source": [
    "dyn.tail()"
   ]
  },
  {
   "cell_type": "code",
   "execution_count": 22,
   "metadata": {},
   "outputs": [
    {
     "name": "stdout",
     "output_type": "stream",
     "text": [
      "median_C_TN       0\n",
      "mean_Flux_TN      0\n",
      "mean_FNFlux_TN    0\n",
      "median_Q          0\n",
      "median_FNC_TN     0\n",
      "OBJECTID          0\n",
      "avg_temp          0\n",
      "precip            0\n",
      "pet               0\n",
      "dtype: int64\n"
     ]
    }
   ],
   "source": [
    "print(dyn.isna().sum())"
   ]
  },
  {
   "cell_type": "code",
   "execution_count": 23,
   "metadata": {},
   "outputs": [
    {
     "data": {
      "text/plain": [
       "array([ 663,  673,  678,  686,  687,  688,  690,  728,  730,  734,  744,\n",
       "        745,  746,  750,  754,  782,  783,  785,  786,  985,  986,  991,\n",
       "       1016, 1017, 1019], dtype=int64)"
      ]
     },
     "execution_count": 23,
     "metadata": {},
     "output_type": "execute_result"
    }
   ],
   "source": [
    "dyn['OBJECTID'].unique()"
   ]
  },
  {
   "cell_type": "code",
   "execution_count": 24,
   "metadata": {},
   "outputs": [
    {
     "name": "stdout",
     "output_type": "stream",
     "text": [
      "25\n"
     ]
    }
   ],
   "source": [
    "print(len(dyn['OBJECTID'].unique()))"
   ]
  },
  {
   "cell_type": "code",
   "execution_count": 25,
   "metadata": {},
   "outputs": [
    {
     "name": "stdout",
     "output_type": "stream",
     "text": [
      "(6300, 113)\n"
     ]
    }
   ],
   "source": [
    "print(cat.shape)"
   ]
  },
  {
   "cell_type": "code",
   "execution_count": 26,
   "metadata": {},
   "outputs": [
    {
     "data": {
      "image/png": "[encoded data removed]",
      "text/plain": [
       "<Figure size 720x720 with 25 Axes>"
      ]
     },
     "metadata": {
      "needs_background": "light"
     },
     "output_type": "display_data"
    }
   ],
   "source": [
    "df = pd.concat([grp['median_C_TN'] for idx,grp in dyn.groupby('OBJECTID')], axis=1)\n",
    "df.columns = dyn['OBJECTID'].unique()\n",
    "_ = ridge(df, figsize=(10, 10), color=\"GnBu\", title=\"median_C_TN\")"
   ]
  },
  {
   "cell_type": "markdown",
   "metadata": {},
   "source": [
    "## monthly TP\n",
    "\n"
   ]
  },
  {
   "cell_type": "code",
   "execution_count": 27,
   "metadata": {},
   "outputs": [
    {
     "name": "stdout",
     "output_type": "stream",
     "text": [
      "(21420, 9)\n"
     ]
    }
   ],
   "source": [
    "dyn, cat = dataset.fetch_monthly(features=\"TP\", max_nan_tol=0)\n",
    "print(dyn.shape)"
   ]
  },
  {
   "cell_type": "code",
   "execution_count": 28,
   "metadata": {},
   "outputs": [
    {
     "data": {
      "text/plain": [
       "array([ 334,  335,  336,  337,  340,  341,  342,  345,  347,  350,  352,\n",
       "        355,  358,  359,  360,  362,  363,  364,  365,  368,  370,  374,\n",
       "        376,  380,  381,  391,  663,  673,  678,  686,  687,  688,  690,\n",
       "        692,  696,  701,  705,  711,  716,  718,  722,  723,  728,  730,\n",
       "        734,  735,  736,  737,  739,  740,  742,  744,  745,  746,  750,\n",
       "        754,  769,  773,  776,  778,  782,  783,  785,  786,  874,  885,\n",
       "        899,  985,  986,  991, 1016, 1017, 1019, 1082, 1113, 1186, 1271,\n",
       "       1275, 1570, 1571, 1573, 1677, 1678, 1680, 1683], dtype=int64)"
      ]
     },
     "execution_count": 28,
     "metadata": {},
     "output_type": "execute_result"
    }
   ],
   "source": [
    "dyn['OBJECTID'].unique()"
   ]
  },
  {
   "cell_type": "code",
   "execution_count": 29,
   "metadata": {},
   "outputs": [
    {
     "name": "stdout",
     "output_type": "stream",
     "text": [
      "85\n"
     ]
    }
   ],
   "source": [
    "print(len(dyn['OBJECTID'].unique()))"
   ]
  },
  {
   "cell_type": "code",
   "execution_count": 30,
   "metadata": {},
   "outputs": [
    {
     "data": {
      "text/html": [
       "<div>\n",
       "<style scoped>\n",
       "    .dataframe tbody tr th:only-of-type {\n",
       "        vertical-align: middle;\n",
       "    }\n",
       "\n",
       "    .dataframe tbody tr th {\n",
       "        vertical-align: top;\n",
       "    }\n",
       "\n",
       "    .dataframe thead th {\n",
       "        text-align: right;\n",
       "    }\n",
       "</style>\n",
       "<table border=\"1\" class=\"dataframe\">\n",
       "  <thead>\n",
       "    <tr style=\"text-align: right;\">\n",
       "      <th></th>\n",
       "      <th>mean_Flux_TP</th>\n",
       "      <th>mean_FNFlux_TP</th>\n",
       "      <th>median_C_TP</th>\n",
       "      <th>median_FNC_TP</th>\n",
       "      <th>median_Q</th>\n",
       "      <th>OBJECTID</th>\n",
       "      <th>avg_temp</th>\n",
       "      <th>precip</th>\n",
       "      <th>pet</th>\n",
       "    </tr>\n",
       "  </thead>\n",
       "  <tbody>\n",
       "    <tr>\n",
       "      <th>1993-01-01</th>\n",
       "      <td>396.554076</td>\n",
       "      <td>320.694272</td>\n",
       "      <td>0.074464</td>\n",
       "      <td>0.062897</td>\n",
       "      <td>53.20</td>\n",
       "      <td>334</td>\n",
       "      <td>1.593407</td>\n",
       "      <td>80.646032</td>\n",
       "      <td>14.305556</td>\n",
       "    </tr>\n",
       "    <tr>\n",
       "      <th>1993-02-01</th>\n",
       "      <td>119.576067</td>\n",
       "      <td>273.244117</td>\n",
       "      <td>0.046901</td>\n",
       "      <td>0.054044</td>\n",
       "      <td>25.15</td>\n",
       "      <td>334</td>\n",
       "      <td>5.956323</td>\n",
       "      <td>105.239667</td>\n",
       "      <td>32.282010</td>\n",
       "    </tr>\n",
       "    <tr>\n",
       "      <th>1993-03-01</th>\n",
       "      <td>247.820224</td>\n",
       "      <td>436.670327</td>\n",
       "      <td>0.045366</td>\n",
       "      <td>0.060441</td>\n",
       "      <td>33.50</td>\n",
       "      <td>334</td>\n",
       "      <td>-1.057203</td>\n",
       "      <td>38.820471</td>\n",
       "      <td>10.558618</td>\n",
       "    </tr>\n",
       "    <tr>\n",
       "      <th>1993-04-01</th>\n",
       "      <td>245.905231</td>\n",
       "      <td>447.722065</td>\n",
       "      <td>0.054396</td>\n",
       "      <td>0.064261</td>\n",
       "      <td>52.10</td>\n",
       "      <td>334</td>\n",
       "      <td>1.455312</td>\n",
       "      <td>126.850398</td>\n",
       "      <td>12.198744</td>\n",
       "    </tr>\n",
       "    <tr>\n",
       "      <th>1993-05-01</th>\n",
       "      <td>213.419345</td>\n",
       "      <td>686.400592</td>\n",
       "      <td>0.051911</td>\n",
       "      <td>0.069937</td>\n",
       "      <td>47.70</td>\n",
       "      <td>334</td>\n",
       "      <td>-2.350673</td>\n",
       "      <td>26.185855</td>\n",
       "      <td>13.697404</td>\n",
       "    </tr>\n",
       "  </tbody>\n",
       "</table>\n",
       "</div>"
      ],
      "text/plain": [
       "            mean_Flux_TP  mean_FNFlux_TP  median_C_TP  median_FNC_TP  \\\n",
       "1993-01-01    396.554076      320.694272     0.074464       0.062897   \n",
       "1993-02-01    119.576067      273.244117     0.046901       0.054044   \n",
       "1993-03-01    247.820224      436.670327     0.045366       0.060441   \n",
       "1993-04-01    245.905231      447.722065     0.054396       0.064261   \n",
       "1993-05-01    213.419345      686.400592     0.051911       0.069937   \n",
       "\n",
       "            median_Q  OBJECTID  avg_temp      precip        pet  \n",
       "1993-01-01     53.20       334  1.593407   80.646032  14.305556  \n",
       "1993-02-01     25.15       334  5.956323  105.239667  32.282010  \n",
       "1993-03-01     33.50       334 -1.057203   38.820471  10.558618  \n",
       "1993-04-01     52.10       334  1.455312  126.850398  12.198744  \n",
       "1993-05-01     47.70       334 -2.350673   26.185855  13.697404  "
      ]
     },
     "execution_count": 30,
     "metadata": {},
     "output_type": "execute_result"
    }
   ],
   "source": [
    "dyn.head()"
   ]
  },
  {
   "cell_type": "code",
   "execution_count": 31,
   "metadata": {},
   "outputs": [
    {
     "data": {
      "text/html": [
       "<div>\n",
       "<style scoped>\n",
       "    .dataframe tbody tr th:only-of-type {\n",
       "        vertical-align: middle;\n",
       "    }\n",
       "\n",
       "    .dataframe tbody tr th {\n",
       "        vertical-align: top;\n",
       "    }\n",
       "\n",
       "    .dataframe thead th {\n",
       "        text-align: right;\n",
       "    }\n",
       "</style>\n",
       "<table border=\"1\" class=\"dataframe\">\n",
       "  <thead>\n",
       "    <tr style=\"text-align: right;\">\n",
       "      <th></th>\n",
       "      <th>mean_Flux_TP</th>\n",
       "      <th>mean_FNFlux_TP</th>\n",
       "      <th>median_C_TP</th>\n",
       "      <th>median_FNC_TP</th>\n",
       "      <th>median_Q</th>\n",
       "      <th>OBJECTID</th>\n",
       "      <th>avg_temp</th>\n",
       "      <th>precip</th>\n",
       "      <th>pet</th>\n",
       "    </tr>\n",
       "  </thead>\n",
       "  <tbody>\n",
       "    <tr>\n",
       "      <th>2013-08-01</th>\n",
       "      <td>68.195512</td>\n",
       "      <td>83.103094</td>\n",
       "      <td>0.171760</td>\n",
       "      <td>0.174829</td>\n",
       "      <td>4.33</td>\n",
       "      <td>1683</td>\n",
       "      <td>10.229236</td>\n",
       "      <td>147.140054</td>\n",
       "      <td>87.170391</td>\n",
       "    </tr>\n",
       "    <tr>\n",
       "      <th>2013-09-01</th>\n",
       "      <td>83.325140</td>\n",
       "      <td>90.632953</td>\n",
       "      <td>0.137811</td>\n",
       "      <td>0.150251</td>\n",
       "      <td>6.11</td>\n",
       "      <td>1683</td>\n",
       "      <td>14.173561</td>\n",
       "      <td>99.925348</td>\n",
       "      <td>117.320530</td>\n",
       "    </tr>\n",
       "    <tr>\n",
       "      <th>2013-10-01</th>\n",
       "      <td>56.504054</td>\n",
       "      <td>92.819774</td>\n",
       "      <td>0.116680</td>\n",
       "      <td>0.124092</td>\n",
       "      <td>5.25</td>\n",
       "      <td>1683</td>\n",
       "      <td>18.329772</td>\n",
       "      <td>42.926368</td>\n",
       "      <td>146.748663</td>\n",
       "    </tr>\n",
       "    <tr>\n",
       "      <th>2013-11-01</th>\n",
       "      <td>111.452591</td>\n",
       "      <td>133.620403</td>\n",
       "      <td>0.095941</td>\n",
       "      <td>0.105120</td>\n",
       "      <td>11.85</td>\n",
       "      <td>1683</td>\n",
       "      <td>16.463807</td>\n",
       "      <td>49.014143</td>\n",
       "      <td>116.420306</td>\n",
       "    </tr>\n",
       "    <tr>\n",
       "      <th>2013-12-01</th>\n",
       "      <td>77.797496</td>\n",
       "      <td>149.404412</td>\n",
       "      <td>0.081465</td>\n",
       "      <td>0.090173</td>\n",
       "      <td>9.61</td>\n",
       "      <td>1683</td>\n",
       "      <td>11.541938</td>\n",
       "      <td>78.161588</td>\n",
       "      <td>58.856660</td>\n",
       "    </tr>\n",
       "  </tbody>\n",
       "</table>\n",
       "</div>"
      ],
      "text/plain": [
       "            mean_Flux_TP  mean_FNFlux_TP  median_C_TP  median_FNC_TP  \\\n",
       "2013-08-01     68.195512       83.103094     0.171760       0.174829   \n",
       "2013-09-01     83.325140       90.632953     0.137811       0.150251   \n",
       "2013-10-01     56.504054       92.819774     0.116680       0.124092   \n",
       "2013-11-01    111.452591      133.620403     0.095941       0.105120   \n",
       "2013-12-01     77.797496      149.404412     0.081465       0.090173   \n",
       "\n",
       "            median_Q  OBJECTID   avg_temp      precip         pet  \n",
       "2013-08-01      4.33      1683  10.229236  147.140054   87.170391  \n",
       "2013-09-01      6.11      1683  14.173561   99.925348  117.320530  \n",
       "2013-10-01      5.25      1683  18.329772   42.926368  146.748663  \n",
       "2013-11-01     11.85      1683  16.463807   49.014143  116.420306  \n",
       "2013-12-01      9.61      1683  11.541938   78.161588   58.856660  "
      ]
     },
     "execution_count": 31,
     "metadata": {},
     "output_type": "execute_result"
    }
   ],
   "source": [
    "dyn.tail()"
   ]
  },
  {
   "cell_type": "code",
   "execution_count": 32,
   "metadata": {},
   "outputs": [
    {
     "name": "stdout",
     "output_type": "stream",
     "text": [
      "mean_Flux_TP      0\n",
      "mean_FNFlux_TP    0\n",
      "median_C_TP       0\n",
      "median_FNC_TP     0\n",
      "median_Q          0\n",
      "OBJECTID          0\n",
      "avg_temp          0\n",
      "precip            0\n",
      "pet               0\n",
      "dtype: int64\n"
     ]
    }
   ],
   "source": [
    "print(dyn.isna().sum())"
   ]
  },
  {
   "cell_type": "code",
   "execution_count": 33,
   "metadata": {},
   "outputs": [
    {
     "name": "stdout",
     "output_type": "stream",
     "text": [
      "(21420, 113)\n"
     ]
    }
   ],
   "source": [
    "print(cat.shape)"
   ]
  },
  {
   "cell_type": "markdown",
   "metadata": {},
   "source": [
    "## monthly TOC\n",
    "\n"
   ]
  },
  {
   "cell_type": "code",
   "execution_count": 34,
   "metadata": {},
   "outputs": [
    {
     "name": "stdout",
     "output_type": "stream",
     "text": [
      "(5796, 9)\n"
     ]
    }
   ],
   "source": [
    "dyn, cat = dataset.fetch_monthly(features=\"TOC\", max_nan_tol=0)\n",
    "print(dyn.shape)"
   ]
  },
  {
   "cell_type": "code",
   "execution_count": 35,
   "metadata": {},
   "outputs": [
    {
     "data": {
      "text/plain": [
       "array([ 352,  355,  358,  359,  370,  374,  796,  797,  985,  991, 1016,\n",
       "       1019, 1473, 1482, 1570, 1571, 1573, 1677, 1678, 1680, 1683, 1688,\n",
       "       1690], dtype=int64)"
      ]
     },
     "execution_count": 35,
     "metadata": {},
     "output_type": "execute_result"
    }
   ],
   "source": [
    "dyn['OBJECTID'].unique()"
   ]
  },
  {
   "cell_type": "code",
   "execution_count": 36,
   "metadata": {},
   "outputs": [
    {
     "name": "stdout",
     "output_type": "stream",
     "text": [
      "23\n"
     ]
    },
    {
     "data": {
      "image/png": "[encoded data removed]",
      "text/plain": [
       "<Figure size 864x720 with 25 Axes>"
      ]
     },
     "metadata": {
      "needs_background": "light"
     },
     "output_type": "display_data"
    }
   ],
   "source": [
    "print(len(dyn['OBJECTID'].unique()))\n",
    "\n",
    "grouper = dyn.groupby(\"OBJECTID\")\n",
    "\n",
    "\n",
    "\n",
    "fig, axes = create_subplots(grouper.ngroups, figsize=(12, 10))\n",
    "for (idx, grp), ax in zip(grouper, axes.flat):\n",
    "    hist(grp['median_C_TOC'], ax=ax, show=False, ax_kws=dict(title=idx))\n",
    "plt.show()"
   ]
  },
  {
   "cell_type": "code",
   "execution_count": 37,
   "metadata": {
    "nbsphinx-thumbnail": {
     "tooltip": "QUADICA"
    },
    "tags": [
     "nbsphinx-thumbnail"
    ]
   },
   "outputs": [
    {
     "data": {
      "image/png": "[encoded data removed]",
      "text/plain": [
       "<Figure size 720x720 with 23 Axes>"
      ]
     },
     "metadata": {
      "needs_background": "light"
     },
     "output_type": "display_data"
    }
   ],
   "source": [
    "df = pd.concat([grp['median_C_TOC'] for idx,grp in dyn.groupby('OBJECTID')], axis=1)\n",
    "df.columns = dyn['OBJECTID'].unique()\n",
    "\n",
    "_ = ridge(df, figsize=(10, 10), color=\"GnBu\", title=\"median_C_TOC\")"
   ]
  },
  {
   "cell_type": "code",
   "execution_count": 38,
   "metadata": {},
   "outputs": [
    {
     "data": {
      "text/html": [
       "<div>\n",
       "<style scoped>\n",
       "    .dataframe tbody tr th:only-of-type {\n",
       "        vertical-align: middle;\n",
       "    }\n",
       "\n",
       "    .dataframe tbody tr th {\n",
       "        vertical-align: top;\n",
       "    }\n",
       "\n",
       "    .dataframe thead th {\n",
       "        text-align: right;\n",
       "    }\n",
       "</style>\n",
       "<table border=\"1\" class=\"dataframe\">\n",
       "  <thead>\n",
       "    <tr style=\"text-align: right;\">\n",
       "      <th></th>\n",
       "      <th>median_FNC_TOC</th>\n",
       "      <th>mean_Flux_TOC</th>\n",
       "      <th>mean_FNFlux_TOC</th>\n",
       "      <th>median_C_TOC</th>\n",
       "      <th>median_Q</th>\n",
       "      <th>OBJECTID</th>\n",
       "      <th>avg_temp</th>\n",
       "      <th>precip</th>\n",
       "      <th>pet</th>\n",
       "    </tr>\n",
       "  </thead>\n",
       "  <tbody>\n",
       "    <tr>\n",
       "      <th>1993-01-01</th>\n",
       "      <td>4.205242</td>\n",
       "      <td>849.784539</td>\n",
       "      <td>1768.257729</td>\n",
       "      <td>3.582176</td>\n",
       "      <td>2.49</td>\n",
       "      <td>352</td>\n",
       "      <td>1.874273</td>\n",
       "      <td>45.230158</td>\n",
       "      <td>13.236276</td>\n",
       "    </tr>\n",
       "    <tr>\n",
       "      <th>1993-02-01</th>\n",
       "      <td>4.473708</td>\n",
       "      <td>553.020333</td>\n",
       "      <td>2043.161550</td>\n",
       "      <td>3.076343</td>\n",
       "      <td>1.94</td>\n",
       "      <td>352</td>\n",
       "      <td>8.082227</td>\n",
       "      <td>70.054926</td>\n",
       "      <td>34.415847</td>\n",
       "    </tr>\n",
       "    <tr>\n",
       "      <th>1993-03-01</th>\n",
       "      <td>4.774344</td>\n",
       "      <td>802.060684</td>\n",
       "      <td>2314.616099</td>\n",
       "      <td>3.596575</td>\n",
       "      <td>2.30</td>\n",
       "      <td>352</td>\n",
       "      <td>0.408168</td>\n",
       "      <td>25.903097</td>\n",
       "      <td>10.312989</td>\n",
       "    </tr>\n",
       "    <tr>\n",
       "      <th>1993-04-01</th>\n",
       "      <td>4.386409</td>\n",
       "      <td>545.261698</td>\n",
       "      <td>1247.634582</td>\n",
       "      <td>3.678589</td>\n",
       "      <td>1.71</td>\n",
       "      <td>352</td>\n",
       "      <td>2.823309</td>\n",
       "      <td>119.545130</td>\n",
       "      <td>11.483053</td>\n",
       "    </tr>\n",
       "    <tr>\n",
       "      <th>1993-05-01</th>\n",
       "      <td>4.580450</td>\n",
       "      <td>411.800177</td>\n",
       "      <td>959.253376</td>\n",
       "      <td>3.825010</td>\n",
       "      <td>1.24</td>\n",
       "      <td>352</td>\n",
       "      <td>-2.816553</td>\n",
       "      <td>20.795173</td>\n",
       "      <td>9.571560</td>\n",
       "    </tr>\n",
       "  </tbody>\n",
       "</table>\n",
       "</div>"
      ],
      "text/plain": [
       "            median_FNC_TOC  mean_Flux_TOC  mean_FNFlux_TOC  median_C_TOC  \\\n",
       "1993-01-01        4.205242     849.784539      1768.257729      3.582176   \n",
       "1993-02-01        4.473708     553.020333      2043.161550      3.076343   \n",
       "1993-03-01        4.774344     802.060684      2314.616099      3.596575   \n",
       "1993-04-01        4.386409     545.261698      1247.634582      3.678589   \n",
       "1993-05-01        4.580450     411.800177       959.253376      3.825010   \n",
       "\n",
       "            median_Q  OBJECTID  avg_temp      precip        pet  \n",
       "1993-01-01      2.49       352  1.874273   45.230158  13.236276  \n",
       "1993-02-01      1.94       352  8.082227   70.054926  34.415847  \n",
       "1993-03-01      2.30       352  0.408168   25.903097  10.312989  \n",
       "1993-04-01      1.71       352  2.823309  119.545130  11.483053  \n",
       "1993-05-01      1.24       352 -2.816553   20.795173   9.571560  "
      ]
     },
     "execution_count": 38,
     "metadata": {},
     "output_type": "execute_result"
    }
   ],
   "source": [
    "dyn.head()"
   ]
  },
  {
   "cell_type": "code",
   "execution_count": 39,
   "metadata": {},
   "outputs": [
    {
     "data": {
      "text/html": [
       "<div>\n",
       "<style scoped>\n",
       "    .dataframe tbody tr th:only-of-type {\n",
       "        vertical-align: middle;\n",
       "    }\n",
       "\n",
       "    .dataframe tbody tr th {\n",
       "        vertical-align: top;\n",
       "    }\n",
       "\n",
       "    .dataframe thead th {\n",
       "        text-align: right;\n",
       "    }\n",
       "</style>\n",
       "<table border=\"1\" class=\"dataframe\">\n",
       "  <thead>\n",
       "    <tr style=\"text-align: right;\">\n",
       "      <th></th>\n",
       "      <th>median_FNC_TOC</th>\n",
       "      <th>mean_Flux_TOC</th>\n",
       "      <th>mean_FNFlux_TOC</th>\n",
       "      <th>median_C_TOC</th>\n",
       "      <th>median_Q</th>\n",
       "      <th>OBJECTID</th>\n",
       "      <th>avg_temp</th>\n",
       "      <th>precip</th>\n",
       "      <th>pet</th>\n",
       "    </tr>\n",
       "  </thead>\n",
       "  <tbody>\n",
       "    <tr>\n",
       "      <th>2013-08-01</th>\n",
       "      <td>3.352540</td>\n",
       "      <td>439.230872</td>\n",
       "      <td>577.937111</td>\n",
       "      <td>3.252773</td>\n",
       "      <td>1.560</td>\n",
       "      <td>1690</td>\n",
       "      <td>10.204866</td>\n",
       "      <td>236.756149</td>\n",
       "      <td>85.705574</td>\n",
       "    </tr>\n",
       "    <tr>\n",
       "      <th>2013-09-01</th>\n",
       "      <td>3.508932</td>\n",
       "      <td>571.347176</td>\n",
       "      <td>840.649765</td>\n",
       "      <td>3.384114</td>\n",
       "      <td>1.845</td>\n",
       "      <td>1690</td>\n",
       "      <td>14.447392</td>\n",
       "      <td>54.103719</td>\n",
       "      <td>119.770443</td>\n",
       "    </tr>\n",
       "    <tr>\n",
       "      <th>2013-10-01</th>\n",
       "      <td>3.564205</td>\n",
       "      <td>640.434776</td>\n",
       "      <td>859.957624</td>\n",
       "      <td>3.476477</td>\n",
       "      <td>2.160</td>\n",
       "      <td>1690</td>\n",
       "      <td>18.357580</td>\n",
       "      <td>52.262876</td>\n",
       "      <td>144.086108</td>\n",
       "    </tr>\n",
       "    <tr>\n",
       "      <th>2013-11-01</th>\n",
       "      <td>3.800113</td>\n",
       "      <td>1367.471649</td>\n",
       "      <td>1534.585561</td>\n",
       "      <td>3.774498</td>\n",
       "      <td>3.695</td>\n",
       "      <td>1690</td>\n",
       "      <td>16.688504</td>\n",
       "      <td>39.944479</td>\n",
       "      <td>114.876081</td>\n",
       "    </tr>\n",
       "    <tr>\n",
       "      <th>2013-12-01</th>\n",
       "      <td>3.686678</td>\n",
       "      <td>1278.301345</td>\n",
       "      <td>2066.823176</td>\n",
       "      <td>3.517463</td>\n",
       "      <td>3.950</td>\n",
       "      <td>1690</td>\n",
       "      <td>11.801535</td>\n",
       "      <td>101.380651</td>\n",
       "      <td>59.491577</td>\n",
       "    </tr>\n",
       "  </tbody>\n",
       "</table>\n",
       "</div>"
      ],
      "text/plain": [
       "            median_FNC_TOC  mean_Flux_TOC  mean_FNFlux_TOC  median_C_TOC  \\\n",
       "2013-08-01        3.352540     439.230872       577.937111      3.252773   \n",
       "2013-09-01        3.508932     571.347176       840.649765      3.384114   \n",
       "2013-10-01        3.564205     640.434776       859.957624      3.476477   \n",
       "2013-11-01        3.800113    1367.471649      1534.585561      3.774498   \n",
       "2013-12-01        3.686678    1278.301345      2066.823176      3.517463   \n",
       "\n",
       "            median_Q  OBJECTID   avg_temp      precip         pet  \n",
       "2013-08-01     1.560      1690  10.204866  236.756149   85.705574  \n",
       "2013-09-01     1.845      1690  14.447392   54.103719  119.770443  \n",
       "2013-10-01     2.160      1690  18.357580   52.262876  144.086108  \n",
       "2013-11-01     3.695      1690  16.688504   39.944479  114.876081  \n",
       "2013-12-01     3.950      1690  11.801535  101.380651   59.491577  "
      ]
     },
     "execution_count": 39,
     "metadata": {},
     "output_type": "execute_result"
    }
   ],
   "source": [
    "dyn.tail()"
   ]
  },
  {
   "cell_type": "code",
   "execution_count": 40,
   "metadata": {},
   "outputs": [
    {
     "name": "stdout",
     "output_type": "stream",
     "text": [
      "median_FNC_TOC     0\n",
      "mean_Flux_TOC      0\n",
      "mean_FNFlux_TOC    0\n",
      "median_C_TOC       0\n",
      "median_Q           0\n",
      "OBJECTID           0\n",
      "avg_temp           0\n",
      "precip             0\n",
      "pet                0\n",
      "dtype: int64\n"
     ]
    }
   ],
   "source": [
    "print(dyn.isna().sum())"
   ]
  },
  {
   "cell_type": "code",
   "execution_count": 41,
   "metadata": {},
   "outputs": [
    {
     "name": "stdout",
     "output_type": "stream",
     "text": [
      "(5796, 113)\n"
     ]
    }
   ],
   "source": [
    "print(cat.shape)"
   ]
  },
  {
   "cell_type": "markdown",
   "metadata": {},
   "source": [
    "## monthly DOC\n",
    "\n"
   ]
  },
  {
   "cell_type": "code",
   "execution_count": 42,
   "metadata": {},
   "outputs": [
    {
     "name": "stdout",
     "output_type": "stream",
     "text": [
      "(6804, 9)\n"
     ]
    }
   ],
   "source": [
    "dyn, cat = dataset.fetch_monthly(features=\"DOC\", max_nan_tol=0)\n",
    "print(dyn.shape)"
   ]
  },
  {
   "cell_type": "code",
   "execution_count": 43,
   "metadata": {},
   "outputs": [
    {
     "data": {
      "text/plain": [
       "array([ 663,  678,  690,  696,  701,  705,  711,  718,  722,  723,  728,\n",
       "        734,  744,  745,  746,  750,  754,  776,  782,  783,  785,  786,\n",
       "       1016, 1017, 1019, 1082, 1271], dtype=int64)"
      ]
     },
     "execution_count": 43,
     "metadata": {},
     "output_type": "execute_result"
    }
   ],
   "source": [
    "dyn['OBJECTID'].unique()"
   ]
  },
  {
   "cell_type": "code",
   "execution_count": 44,
   "metadata": {},
   "outputs": [
    {
     "name": "stdout",
     "output_type": "stream",
     "text": [
      "27\n"
     ]
    }
   ],
   "source": [
    "print(len(dyn['OBJECTID'].unique()))"
   ]
  },
  {
   "cell_type": "code",
   "execution_count": 45,
   "metadata": {},
   "outputs": [
    {
     "data": {
      "text/html": [
       "<div>\n",
       "<style scoped>\n",
       "    .dataframe tbody tr th:only-of-type {\n",
       "        vertical-align: middle;\n",
       "    }\n",
       "\n",
       "    .dataframe tbody tr th {\n",
       "        vertical-align: top;\n",
       "    }\n",
       "\n",
       "    .dataframe thead th {\n",
       "        text-align: right;\n",
       "    }\n",
       "</style>\n",
       "<table border=\"1\" class=\"dataframe\">\n",
       "  <thead>\n",
       "    <tr style=\"text-align: right;\">\n",
       "      <th></th>\n",
       "      <th>median_FNC_DOC</th>\n",
       "      <th>mean_Flux_DOC</th>\n",
       "      <th>median_C_DOC</th>\n",
       "      <th>median_Q</th>\n",
       "      <th>mean_FNFlux_DOC</th>\n",
       "      <th>OBJECTID</th>\n",
       "      <th>avg_temp</th>\n",
       "      <th>precip</th>\n",
       "      <th>pet</th>\n",
       "    </tr>\n",
       "  </thead>\n",
       "  <tbody>\n",
       "    <tr>\n",
       "      <th>1993-01-01</th>\n",
       "      <td>7.570729</td>\n",
       "      <td>5290.522451</td>\n",
       "      <td>8.168849</td>\n",
       "      <td>6.70</td>\n",
       "      <td>3880.725444</td>\n",
       "      <td>663</td>\n",
       "      <td>3.807984</td>\n",
       "      <td>121.793169</td>\n",
       "      <td>11.415899</td>\n",
       "    </tr>\n",
       "    <tr>\n",
       "      <th>1993-02-01</th>\n",
       "      <td>7.409652</td>\n",
       "      <td>3562.398652</td>\n",
       "      <td>7.576350</td>\n",
       "      <td>5.29</td>\n",
       "      <td>3470.252080</td>\n",
       "      <td>663</td>\n",
       "      <td>8.473467</td>\n",
       "      <td>116.131558</td>\n",
       "      <td>28.869268</td>\n",
       "    </tr>\n",
       "    <tr>\n",
       "      <th>1993-03-01</th>\n",
       "      <td>7.138509</td>\n",
       "      <td>1840.949964</td>\n",
       "      <td>6.624830</td>\n",
       "      <td>3.17</td>\n",
       "      <td>3071.222351</td>\n",
       "      <td>663</td>\n",
       "      <td>1.430167</td>\n",
       "      <td>35.333157</td>\n",
       "      <td>9.847851</td>\n",
       "    </tr>\n",
       "    <tr>\n",
       "      <th>1993-04-01</th>\n",
       "      <td>6.763954</td>\n",
       "      <td>2064.170897</td>\n",
       "      <td>6.769762</td>\n",
       "      <td>3.28</td>\n",
       "      <td>2187.148516</td>\n",
       "      <td>663</td>\n",
       "      <td>4.333394</td>\n",
       "      <td>180.090165</td>\n",
       "      <td>8.050768</td>\n",
       "    </tr>\n",
       "    <tr>\n",
       "      <th>1993-05-01</th>\n",
       "      <td>6.355921</td>\n",
       "      <td>1291.672996</td>\n",
       "      <td>6.305964</td>\n",
       "      <td>2.28</td>\n",
       "      <td>1380.674341</td>\n",
       "      <td>663</td>\n",
       "      <td>0.830066</td>\n",
       "      <td>30.062856</td>\n",
       "      <td>13.271998</td>\n",
       "    </tr>\n",
       "  </tbody>\n",
       "</table>\n",
       "</div>"
      ],
      "text/plain": [
       "            median_FNC_DOC  mean_Flux_DOC  median_C_DOC  median_Q  \\\n",
       "1993-01-01        7.570729    5290.522451      8.168849      6.70   \n",
       "1993-02-01        7.409652    3562.398652      7.576350      5.29   \n",
       "1993-03-01        7.138509    1840.949964      6.624830      3.17   \n",
       "1993-04-01        6.763954    2064.170897      6.769762      3.28   \n",
       "1993-05-01        6.355921    1291.672996      6.305964      2.28   \n",
       "\n",
       "            mean_FNFlux_DOC  OBJECTID  avg_temp      precip        pet  \n",
       "1993-01-01      3880.725444       663  3.807984  121.793169  11.415899  \n",
       "1993-02-01      3470.252080       663  8.473467  116.131558  28.869268  \n",
       "1993-03-01      3071.222351       663  1.430167   35.333157   9.847851  \n",
       "1993-04-01      2187.148516       663  4.333394  180.090165   8.050768  \n",
       "1993-05-01      1380.674341       663  0.830066   30.062856  13.271998  "
      ]
     },
     "execution_count": 45,
     "metadata": {},
     "output_type": "execute_result"
    }
   ],
   "source": [
    "dyn.head()"
   ]
  },
  {
   "cell_type": "code",
   "execution_count": 46,
   "metadata": {},
   "outputs": [
    {
     "data": {
      "text/html": [
       "<div>\n",
       "<style scoped>\n",
       "    .dataframe tbody tr th:only-of-type {\n",
       "        vertical-align: middle;\n",
       "    }\n",
       "\n",
       "    .dataframe tbody tr th {\n",
       "        vertical-align: top;\n",
       "    }\n",
       "\n",
       "    .dataframe thead th {\n",
       "        text-align: right;\n",
       "    }\n",
       "</style>\n",
       "<table border=\"1\" class=\"dataframe\">\n",
       "  <thead>\n",
       "    <tr style=\"text-align: right;\">\n",
       "      <th></th>\n",
       "      <th>median_FNC_DOC</th>\n",
       "      <th>mean_Flux_DOC</th>\n",
       "      <th>median_C_DOC</th>\n",
       "      <th>median_Q</th>\n",
       "      <th>mean_FNFlux_DOC</th>\n",
       "      <th>OBJECTID</th>\n",
       "      <th>avg_temp</th>\n",
       "      <th>precip</th>\n",
       "      <th>pet</th>\n",
       "    </tr>\n",
       "  </thead>\n",
       "  <tbody>\n",
       "    <tr>\n",
       "      <th>2013-08-01</th>\n",
       "      <td>4.061765</td>\n",
       "      <td>3158.773568</td>\n",
       "      <td>4.031046</td>\n",
       "      <td>7.952220</td>\n",
       "      <td>4779.806779</td>\n",
       "      <td>1271</td>\n",
       "      <td>10.167641</td>\n",
       "      <td>163.066607</td>\n",
       "      <td>87.326095</td>\n",
       "    </tr>\n",
       "    <tr>\n",
       "      <th>2013-09-01</th>\n",
       "      <td>4.048447</td>\n",
       "      <td>2794.135418</td>\n",
       "      <td>3.949723</td>\n",
       "      <td>7.275374</td>\n",
       "      <td>5032.150952</td>\n",
       "      <td>1271</td>\n",
       "      <td>13.999010</td>\n",
       "      <td>186.180472</td>\n",
       "      <td>116.162897</td>\n",
       "    </tr>\n",
       "    <tr>\n",
       "      <th>2013-10-01</th>\n",
       "      <td>3.936584</td>\n",
       "      <td>2445.844458</td>\n",
       "      <td>3.826177</td>\n",
       "      <td>5.771638</td>\n",
       "      <td>4011.788115</td>\n",
       "      <td>1271</td>\n",
       "      <td>17.790892</td>\n",
       "      <td>33.659651</td>\n",
       "      <td>144.276601</td>\n",
       "    </tr>\n",
       "    <tr>\n",
       "      <th>2013-11-01</th>\n",
       "      <td>4.007867</td>\n",
       "      <td>2187.576948</td>\n",
       "      <td>3.717356</td>\n",
       "      <td>6.491699</td>\n",
       "      <td>6221.995187</td>\n",
       "      <td>1271</td>\n",
       "      <td>16.185475</td>\n",
       "      <td>72.816926</td>\n",
       "      <td>115.142294</td>\n",
       "    </tr>\n",
       "    <tr>\n",
       "      <th>2013-12-01</th>\n",
       "      <td>3.923625</td>\n",
       "      <td>3324.340569</td>\n",
       "      <td>3.687420</td>\n",
       "      <td>9.265053</td>\n",
       "      <td>6167.013957</td>\n",
       "      <td>1271</td>\n",
       "      <td>11.191066</td>\n",
       "      <td>75.990604</td>\n",
       "      <td>55.997746</td>\n",
       "    </tr>\n",
       "  </tbody>\n",
       "</table>\n",
       "</div>"
      ],
      "text/plain": [
       "            median_FNC_DOC  mean_Flux_DOC  median_C_DOC  median_Q  \\\n",
       "2013-08-01        4.061765    3158.773568      4.031046  7.952220   \n",
       "2013-09-01        4.048447    2794.135418      3.949723  7.275374   \n",
       "2013-10-01        3.936584    2445.844458      3.826177  5.771638   \n",
       "2013-11-01        4.007867    2187.576948      3.717356  6.491699   \n",
       "2013-12-01        3.923625    3324.340569      3.687420  9.265053   \n",
       "\n",
       "            mean_FNFlux_DOC  OBJECTID   avg_temp      precip         pet  \n",
       "2013-08-01      4779.806779      1271  10.167641  163.066607   87.326095  \n",
       "2013-09-01      5032.150952      1271  13.999010  186.180472  116.162897  \n",
       "2013-10-01      4011.788115      1271  17.790892   33.659651  144.276601  \n",
       "2013-11-01      6221.995187      1271  16.185475   72.816926  115.142294  \n",
       "2013-12-01      6167.013957      1271  11.191066   75.990604   55.997746  "
      ]
     },
     "execution_count": 46,
     "metadata": {},
     "output_type": "execute_result"
    }
   ],
   "source": [
    "dyn.tail()"
   ]
  },
  {
   "cell_type": "code",
   "execution_count": 47,
   "metadata": {},
   "outputs": [
    {
     "name": "stdout",
     "output_type": "stream",
     "text": [
      "median_FNC_DOC     0\n",
      "mean_Flux_DOC      0\n",
      "median_C_DOC       0\n",
      "median_Q           0\n",
      "mean_FNFlux_DOC    0\n",
      "OBJECTID           0\n",
      "avg_temp           0\n",
      "precip             0\n",
      "pet                0\n",
      "dtype: int64\n"
     ]
    }
   ],
   "source": [
    "print(dyn.isna().sum())"
   ]
  },
  {
   "cell_type": "code",
   "execution_count": 48,
   "metadata": {},
   "outputs": [
    {
     "name": "stdout",
     "output_type": "stream",
     "text": [
      "(6804, 113)\n"
     ]
    }
   ],
   "source": [
    "print(cat.shape)"
   ]
  }
 ],
 "metadata": {
  "celltoolbar": "Edit Metadata",
  "kernelspec": {
   "display_name": "Python 3 (ipykernel)",
   "language": "python",
   "name": "python3"
  },
  "language_info": {
   "codemirror_mode": {
    "name": "ipython",
    "version": 3
   },
   "file_extension": ".py",
   "mimetype": "text/x-python",
   "name": "python",
   "nbconvert_exporter": "python",
   "pygments_lexer": "ipython3",
   "version": "3.8.13"
  }
 },
 "nbformat": 4,
 "nbformat_minor": 1
}