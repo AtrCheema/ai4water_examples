{
 "cells": [
  {
   "cell_type": "code",
   "execution_count": 1,
   "metadata": {
    "execution": {
     "iopub.execute_input": "2023-02-02T05:47:21.886833Z",
     "iopub.status.busy": "2023-02-02T05:47:21.865832Z",
     "iopub.status.idle": "2023-02-02T05:47:22.636833Z",
     "shell.execute_reply": "2023-02-02T05:47:22.635804Z"
    }
   },
   "outputs": [],
   "source": [
    "%matplotlib inline"
   ]
  },
  {
   "cell_type": "markdown",
   "metadata": {},
   "source": [
    "<a href=\"https://colab.research.google.com/github/AtrCheema/ai4water_examples/blob/master/docs/source/_notebooks/datasets/mtropics_laos.ipynb\" target=\"_parent\"><img src=\"https://colab.research.google.com/assets/colab-badge.svg\" alt=\"Open In Colab\"/></a>\n",
    "\n",
    "\n",
    "# Rainfall-runoff dataset of Laos\n"
   ]
  },
  {
   "cell_type": "code",
   "execution_count": 2,
   "metadata": {
    "execution": {
     "iopub.execute_input": "2023-02-02T05:47:22.639804Z",
     "iopub.status.busy": "2023-02-02T05:47:22.638806Z",
     "iopub.status.idle": "2023-02-02T05:47:24.017826Z",
     "shell.execute_reply": "2023-02-02T05:47:24.017826Z"
    }
   },
   "outputs": [
    {
     "name": "stdout",
     "output_type": "stream",
     "text": [
      "\n",
      "**********Tensorflow models could not be imported **********\n",
      "\n",
      "python 3.8.12 | packaged by conda-forge | (default, Oct 12 2021, 21:19:05) [MSC v.1916 64 bit (AMD64)]\n",
      "os nt\n",
      "ai4water 1.06\n",
      "easy_mpl 0.21.3\n",
      "SeqMetrics 1.3.3\n",
      "numpy 1.22.2\n",
      "pandas 1.4.0\n",
      "matplotlib 3.5.1\n",
      "h5py 3.6.0\n",
      "joblib 1.2.0\n",
      "sklearn 1.2.1\n",
      "xarray 0.21.1\n",
      "netCDF4 1.5.8\n",
      "seaborn 0.12.0\n"
     ]
    },
    {
     "name": "stderr",
     "output_type": "stream",
     "text": [
      "D:\\C\\Anaconda3\\envs\\ai4w_dataset\\lib\\site-packages\\sklearn\\experimental\\enable_hist_gradient_boosting.py:16: UserWarning: Since version 1.0, it is not needed to import enable_hist_gradient_boosting anymore. HistGradientBoostingClassifier and HistGradientBoostingRegressor are now stable and can be normally imported from sklearn.ensemble.\n",
      "  warnings.warn(\n"
     ]
    }
   ],
   "source": [
    "\n",
    "from easy_mpl import pie\n",
    "from ai4water.eda import EDA\n",
    "from ai4water.datasets import MtropicsLaos, ecoli_mekong\n",
    "from ai4water.utils.utils import get_version_info\n",
    "\n",
    "for lib, ver in get_version_info().items():\n",
    "    print(lib, ver)\n"
   ]
  },
  {
   "cell_type": "code",
   "execution_count": 3,
   "metadata": {},
   "outputs": [
    {
     "name": "stdout",
     "output_type": "stream",
     "text": [
      "\n",
      "    Not downloading the data since the directory \n",
      "    F:\\data\\MtropicsLaos already exists.\n",
      "    Use overwrite=True to remove previously saved files and download again\n"
     ]
    },
    {
     "name": "stderr",
     "output_type": "stream",
     "text": [
      "D:\\C\\Anaconda3\\envs\\ai4w_dataset\\lib\\site-packages\\ai4water\\datasets\\mtropics.py:907: UserWarning: preprocessing of shapefiles can not be done because no fiona installation is found.\n",
      "  warnings.warn(\"preprocessing of shapefiles can not be done because no fiona installation is found.\")\n"
     ]
    }
   ],
   "source": [
    "   \n",
    "laos = MtropicsLaos(path=\"F:\\\\data\\\\MtropicsLaos\")"
   ]
  },
  {
   "cell_type": "markdown",
   "metadata": {},
   "source": [
    "## precipitation\n",
    "\n"
   ]
  },
  {
   "cell_type": "code",
   "execution_count": 4,
   "metadata": {
    "execution": {
     "iopub.execute_input": "2023-02-02T05:47:24.020851Z",
     "iopub.status.busy": "2023-02-02T05:47:24.019850Z",
     "iopub.status.idle": "2023-02-02T05:47:24.081826Z",
     "shell.execute_reply": "2023-02-02T05:47:24.080826Z"
    }
   },
   "outputs": [
    {
     "name": "stdout",
     "output_type": "stream",
     "text": [
      "(1665361, 1)\n"
     ]
    }
   ],
   "source": [
    "pcp = laos.fetch_pcp()\n",
    "print(pcp.shape)\n"
   ]
  },
  {
   "cell_type": "markdown",
   "metadata": {},
   "source": [
    "## weather station\n",
    "\n"
   ]
  },
  {
   "cell_type": "code",
   "execution_count": 5,
   "metadata": {
    "execution": {
     "iopub.execute_input": "2023-02-02T05:47:24.084853Z",
     "iopub.status.busy": "2023-02-02T05:47:24.083852Z",
     "iopub.status.idle": "2023-02-02T05:47:24.193855Z",
     "shell.execute_reply": "2023-02-02T05:47:24.192830Z"
    }
   },
   "outputs": [
    {
     "name": "stdout",
     "output_type": "stream",
     "text": [
      "(166536, 4)\n"
     ]
    }
   ],
   "source": [
    "w = laos.fetch_weather_station_data()\n",
    "print(w.shape)"
   ]
  },
  {
   "cell_type": "code",
   "execution_count": 6,
   "metadata": {
    "execution": {
     "iopub.execute_input": "2023-02-02T05:47:24.196828Z",
     "iopub.status.busy": "2023-02-02T05:47:24.195827Z",
     "iopub.status.idle": "2023-02-02T05:47:24.760472Z",
     "shell.execute_reply": "2023-02-02T05:47:24.759453Z"
    }
   },
   "outputs": [
    {
     "name": "stdout",
     "output_type": "stream",
     "text": [
      "(454694, 1)\n"
     ]
    },
    {
     "name": "stderr",
     "output_type": "stream",
     "text": [
      "D:\\C\\Anaconda3\\envs\\ai4w_dataset\\lib\\site-packages\\ai4water\\datasets\\mtropics.py:576: FutureWarning: Value based partial slicing on non-monotonic DatetimeIndexes with non-existing keys is deprecated and will raise a KeyError in a future Version.\n",
      "  return wl.loc[st:en], spm.loc[st:en]\n"
     ]
    }
   ],
   "source": [
    "wl, spm = laos.fetch_hydro()\n",
    "print(wl.shape)"
   ]
  },
  {
   "cell_type": "code",
   "execution_count": 7,
   "metadata": {
    "execution": {
     "iopub.execute_input": "2023-02-02T05:47:24.762448Z",
     "iopub.status.busy": "2023-02-02T05:47:24.762448Z",
     "iopub.status.idle": "2023-02-02T05:47:24.776474Z",
     "shell.execute_reply": "2023-02-02T05:47:24.775446Z"
    }
   },
   "outputs": [
    {
     "name": "stdout",
     "output_type": "stream",
     "text": [
      "(6428, 1)\n"
     ]
    }
   ],
   "source": [
    "print(spm.shape)"
   ]
  },
  {
   "cell_type": "code",
   "execution_count": 8,
   "metadata": {
    "execution": {
     "iopub.execute_input": "2023-02-02T05:47:24.779475Z",
     "iopub.status.busy": "2023-02-02T05:47:24.778446Z",
     "iopub.status.idle": "2023-02-02T05:47:24.855474Z",
     "shell.execute_reply": "2023-02-02T05:47:24.854450Z"
    }
   },
   "outputs": [
    {
     "name": "stdout",
     "output_type": "stream",
     "text": [
      "(409, 1)\n"
     ]
    }
   ],
   "source": [
    "ecoli = laos.fetch_ecoli()\n",
    "print(ecoli.shape)"
   ]
  },
  {
   "cell_type": "code",
   "execution_count": 9,
   "metadata": {
    "execution": {
     "iopub.execute_input": "2023-02-02T05:47:24.857447Z",
     "iopub.status.busy": "2023-02-02T05:47:24.857447Z",
     "iopub.status.idle": "2023-02-02T05:47:24.870450Z",
     "shell.execute_reply": "2023-02-02T05:47:24.870450Z"
    }
   },
   "outputs": [
    {
     "name": "stdout",
     "output_type": "stream",
     "text": [
      "                     Ecoli_mpn100\n",
      "Date_Time                        \n",
      "2011-05-25 10:00:00           NaN\n",
      "2011-05-25 16:40:00        1100.0\n",
      "2011-05-25 17:06:00        1400.0\n",
      "2011-05-25 17:10:00           NaN\n",
      "2011-05-25 17:24:00       14000.0\n"
     ]
    }
   ],
   "source": [
    "print(ecoli.head())"
   ]
  },
  {
   "cell_type": "code",
   "execution_count": 10,
   "metadata": {
    "execution": {
     "iopub.execute_input": "2023-02-02T05:47:24.874476Z",
     "iopub.status.busy": "2023-02-02T05:47:24.873453Z",
     "iopub.status.idle": "2023-02-02T05:47:24.917449Z",
     "shell.execute_reply": "2023-02-02T05:47:24.917449Z"
    }
   },
   "outputs": [
    {
     "name": "stdout",
     "output_type": "stream",
     "text": [
      "                     Ecoli_mpn100\n",
      "Date_Time                        \n",
      "2021-02-25 14:10:00         250.0\n",
      "2021-03-07 14:10:00         200.0\n",
      "2021-03-17 15:11:00         290.0\n",
      "2021-03-27 15:22:00         720.0\n",
      "2021-04-06 15:05:00         560.0\n",
      "(409, 3)\n"
     ]
    }
   ],
   "source": [
    "print(ecoli.tail())\n",
    "\n",
    "# # %%\n",
    "ecoli_all = laos.fetch_ecoli(features='all')\n",
    "print(ecoli_all.shape)"
   ]
  },
  {
   "cell_type": "code",
   "execution_count": 11,
   "metadata": {
    "execution": {
     "iopub.execute_input": "2023-02-02T05:47:24.920474Z",
     "iopub.status.busy": "2023-02-02T05:47:24.919475Z",
     "iopub.status.idle": "2023-02-02T05:47:24.933450Z",
     "shell.execute_reply": "2023-02-02T05:47:24.933450Z"
    }
   },
   "outputs": [
    {
     "data": {
      "text/html": [
       "<div>\n",
       "<style scoped>\n",
       "    .dataframe tbody tr th:only-of-type {\n",
       "        vertical-align: middle;\n",
       "    }\n",
       "\n",
       "    .dataframe tbody tr th {\n",
       "        vertical-align: top;\n",
       "    }\n",
       "\n",
       "    .dataframe thead th {\n",
       "        text-align: right;\n",
       "    }\n",
       "</style>\n",
       "<table border=\"1\" class=\"dataframe\">\n",
       "  <thead>\n",
       "    <tr style=\"text-align: right;\">\n",
       "      <th></th>\n",
       "      <th>Ecoli_LL_mpn100</th>\n",
       "      <th>Ecoli_mpn100</th>\n",
       "      <th>Ecoli_UL_mpn100</th>\n",
       "    </tr>\n",
       "    <tr>\n",
       "      <th>Date_Time</th>\n",
       "      <th></th>\n",
       "      <th></th>\n",
       "      <th></th>\n",
       "    </tr>\n",
       "  </thead>\n",
       "  <tbody>\n",
       "    <tr>\n",
       "      <th>2011-05-25 10:00:00</th>\n",
       "      <td>NaN</td>\n",
       "      <td>NaN</td>\n",
       "      <td>NaN</td>\n",
       "    </tr>\n",
       "    <tr>\n",
       "      <th>2011-05-25 16:40:00</th>\n",
       "      <td>715.0</td>\n",
       "      <td>1100.0</td>\n",
       "      <td>1550.0</td>\n",
       "    </tr>\n",
       "    <tr>\n",
       "      <th>2011-05-25 17:06:00</th>\n",
       "      <td>1000.0</td>\n",
       "      <td>1400.0</td>\n",
       "      <td>1900.0</td>\n",
       "    </tr>\n",
       "    <tr>\n",
       "      <th>2011-05-25 17:10:00</th>\n",
       "      <td>NaN</td>\n",
       "      <td>NaN</td>\n",
       "      <td>NaN</td>\n",
       "    </tr>\n",
       "    <tr>\n",
       "      <th>2011-05-25 17:24:00</th>\n",
       "      <td>9000.0</td>\n",
       "      <td>14000.0</td>\n",
       "      <td>22000.0</td>\n",
       "    </tr>\n",
       "  </tbody>\n",
       "</table>\n",
       "</div>"
      ],
      "text/plain": [
       "                     Ecoli_LL_mpn100  Ecoli_mpn100  Ecoli_UL_mpn100\n",
       "Date_Time                                                          \n",
       "2011-05-25 10:00:00              NaN           NaN              NaN\n",
       "2011-05-25 16:40:00            715.0        1100.0           1550.0\n",
       "2011-05-25 17:06:00           1000.0        1400.0           1900.0\n",
       "2011-05-25 17:10:00              NaN           NaN              NaN\n",
       "2011-05-25 17:24:00           9000.0       14000.0          22000.0"
      ]
     },
     "execution_count": 11,
     "metadata": {},
     "output_type": "execute_result"
    }
   ],
   "source": [
    "ecoli_all.head()"
   ]
  },
  {
   "cell_type": "code",
   "execution_count": 12,
   "metadata": {
    "execution": {
     "iopub.execute_input": "2023-02-02T05:47:24.936474Z",
     "iopub.status.busy": "2023-02-02T05:47:24.935476Z",
     "iopub.status.idle": "2023-02-02T05:47:24.980715Z",
     "shell.execute_reply": "2023-02-02T05:47:24.980715Z"
    }
   },
   "outputs": [
    {
     "name": "stdout",
     "output_type": "stream",
     "text": [
      "(411, 1)\n"
     ]
    }
   ],
   "source": [
    "phy_chem = laos.fetch_physiochem('T_deg')\n",
    "print(phy_chem.shape)"
   ]
  },
  {
   "cell_type": "markdown",
   "metadata": {},
   "source": [
    "## pysiochemical attributes\n",
    "\n"
   ]
  },
  {
   "cell_type": "code",
   "execution_count": 13,
   "metadata": {
    "execution": {
     "iopub.execute_input": "2023-02-02T05:47:24.983714Z",
     "iopub.status.busy": "2023-02-02T05:47:24.982714Z",
     "iopub.status.idle": "2023-02-02T05:47:25.028714Z",
     "shell.execute_reply": "2023-02-02T05:47:25.028714Z"
    }
   },
   "outputs": [
    {
     "name": "stdout",
     "output_type": "stream",
     "text": [
      "(411, 8)\n"
     ]
    }
   ],
   "source": [
    "phy_chem_all = laos.fetch_physiochem(features='all')\n",
    "print(phy_chem_all.shape)"
   ]
  },
  {
   "cell_type": "markdown",
   "metadata": {},
   "source": [
    "## rain gauages\n",
    "\n"
   ]
  },
  {
   "cell_type": "code",
   "execution_count": 14,
   "metadata": {
    "execution": {
     "iopub.execute_input": "2023-02-02T05:47:25.031742Z",
     "iopub.status.busy": "2023-02-02T05:47:25.030741Z",
     "iopub.status.idle": "2023-02-02T05:47:25.043926Z",
     "shell.execute_reply": "2023-02-02T05:47:25.043926Z"
    }
   },
   "outputs": [
    {
     "name": "stdout",
     "output_type": "stream",
     "text": [
      "(6939, 7)\n"
     ]
    }
   ],
   "source": [
    "rg = laos.fetch_rain_gauges()\n",
    "print(rg.shape)"
   ]
  },
  {
   "cell_type": "markdown",
   "metadata": {},
   "source": [
    "## regression\n",
    "\n"
   ]
  },
  {
   "cell_type": "code",
   "execution_count": 15,
   "metadata": {
    "execution": {
     "iopub.execute_input": "2023-02-02T05:47:25.046951Z",
     "iopub.status.busy": "2023-02-02T05:47:25.045952Z",
     "iopub.status.idle": "2023-02-02T05:47:26.126204Z",
     "shell.execute_reply": "2023-02-02T05:47:26.125202Z"
    }
   },
   "outputs": [
    {
     "name": "stderr",
     "output_type": "stream",
     "text": [
      "D:\\C\\Anaconda3\\envs\\ai4w_dataset\\lib\\site-packages\\ai4water\\datasets\\mtropics.py:576: FutureWarning: Value based partial slicing on non-monotonic DatetimeIndexes with non-existing keys is deprecated and will raise a KeyError in a future Version.\n",
      "  return wl.loc[st:en], spm.loc[st:en]\n"
     ]
    },
    {
     "name": "stdout",
     "output_type": "stream",
     "text": [
      "(650741, 9)\n"
     ]
    }
   ],
   "source": [
    "df = laos.make_regression()\n",
    "print(df.shape)"
   ]
  },
  {
   "cell_type": "code",
   "execution_count": 16,
   "metadata": {
    "execution": {
     "iopub.execute_input": "2023-02-02T05:47:26.128203Z",
     "iopub.status.busy": "2023-02-02T05:47:26.128203Z",
     "iopub.status.idle": "2023-02-02T05:47:26.140462Z",
     "shell.execute_reply": "2023-02-02T05:47:26.140462Z"
    }
   },
   "outputs": [
    {
     "data": {
      "text/html": [
       "<div>\n",
       "<style scoped>\n",
       "    .dataframe tbody tr th:only-of-type {\n",
       "        vertical-align: middle;\n",
       "    }\n",
       "\n",
       "    .dataframe tbody tr th {\n",
       "        vertical-align: top;\n",
       "    }\n",
       "\n",
       "    .dataframe thead th {\n",
       "        text-align: right;\n",
       "    }\n",
       "</style>\n",
       "<table border=\"1\" class=\"dataframe\">\n",
       "  <thead>\n",
       "    <tr style=\"text-align: right;\">\n",
       "      <th></th>\n",
       "      <th>air_temp</th>\n",
       "      <th>rel_hum</th>\n",
       "      <th>wind_speed</th>\n",
       "      <th>sol_rad</th>\n",
       "      <th>water_level</th>\n",
       "      <th>pcp</th>\n",
       "      <th>susp_pm</th>\n",
       "      <th>Ecoli_source</th>\n",
       "      <th>Ecoli_mpn100</th>\n",
       "    </tr>\n",
       "  </thead>\n",
       "  <tbody>\n",
       "    <tr>\n",
       "      <th>2011-05-25 14:00:00</th>\n",
       "      <td>22.536906</td>\n",
       "      <td>96.167816</td>\n",
       "      <td>7.0</td>\n",
       "      <td>256.0</td>\n",
       "      <td>133.0</td>\n",
       "      <td>0.0</td>\n",
       "      <td>0.9</td>\n",
       "      <td>NaN</td>\n",
       "      <td>NaN</td>\n",
       "    </tr>\n",
       "    <tr>\n",
       "      <th>2011-05-25 14:06:00</th>\n",
       "      <td>22.537042</td>\n",
       "      <td>96.168046</td>\n",
       "      <td>6.7</td>\n",
       "      <td>246.2</td>\n",
       "      <td>133.0</td>\n",
       "      <td>0.0</td>\n",
       "      <td>0.9</td>\n",
       "      <td>NaN</td>\n",
       "      <td>NaN</td>\n",
       "    </tr>\n",
       "    <tr>\n",
       "      <th>2011-05-25 14:12:00</th>\n",
       "      <td>22.537179</td>\n",
       "      <td>96.168276</td>\n",
       "      <td>6.4</td>\n",
       "      <td>236.4</td>\n",
       "      <td>133.0</td>\n",
       "      <td>0.0</td>\n",
       "      <td>0.9</td>\n",
       "      <td>NaN</td>\n",
       "      <td>NaN</td>\n",
       "    </tr>\n",
       "    <tr>\n",
       "      <th>2011-05-25 14:18:00</th>\n",
       "      <td>22.537315</td>\n",
       "      <td>96.168506</td>\n",
       "      <td>6.1</td>\n",
       "      <td>226.6</td>\n",
       "      <td>133.0</td>\n",
       "      <td>0.0</td>\n",
       "      <td>0.9</td>\n",
       "      <td>NaN</td>\n",
       "      <td>NaN</td>\n",
       "    </tr>\n",
       "    <tr>\n",
       "      <th>2011-05-25 14:24:00</th>\n",
       "      <td>22.537452</td>\n",
       "      <td>96.168736</td>\n",
       "      <td>5.8</td>\n",
       "      <td>216.8</td>\n",
       "      <td>133.0</td>\n",
       "      <td>0.0</td>\n",
       "      <td>0.9</td>\n",
       "      <td>NaN</td>\n",
       "      <td>NaN</td>\n",
       "    </tr>\n",
       "  </tbody>\n",
       "</table>\n",
       "</div>"
      ],
      "text/plain": [
       "                      air_temp    rel_hum  wind_speed  sol_rad  water_level  \\\n",
       "2011-05-25 14:00:00  22.536906  96.167816         7.0    256.0        133.0   \n",
       "2011-05-25 14:06:00  22.537042  96.168046         6.7    246.2        133.0   \n",
       "2011-05-25 14:12:00  22.537179  96.168276         6.4    236.4        133.0   \n",
       "2011-05-25 14:18:00  22.537315  96.168506         6.1    226.6        133.0   \n",
       "2011-05-25 14:24:00  22.537452  96.168736         5.8    216.8        133.0   \n",
       "\n",
       "                     pcp  susp_pm  Ecoli_source  Ecoli_mpn100  \n",
       "2011-05-25 14:00:00  0.0      0.9           NaN           NaN  \n",
       "2011-05-25 14:06:00  0.0      0.9           NaN           NaN  \n",
       "2011-05-25 14:12:00  0.0      0.9           NaN           NaN  \n",
       "2011-05-25 14:18:00  0.0      0.9           NaN           NaN  \n",
       "2011-05-25 14:24:00  0.0      0.9           NaN           NaN  "
      ]
     },
     "execution_count": 16,
     "metadata": {},
     "output_type": "execute_result"
    }
   ],
   "source": [
    "df.head()"
   ]
  },
  {
   "cell_type": "code",
   "execution_count": 17,
   "metadata": {
    "execution": {
     "iopub.execute_input": "2023-02-02T05:47:26.143462Z",
     "iopub.status.busy": "2023-02-02T05:47:26.143462Z",
     "iopub.status.idle": "2023-02-02T05:47:27.298007Z",
     "shell.execute_reply": "2023-02-02T05:47:27.298007Z"
    }
   },
   "outputs": [
    {
     "name": "stderr",
     "output_type": "stream",
     "text": [
      "D:\\C\\Anaconda3\\envs\\ai4w_dataset\\lib\\site-packages\\ai4water\\datasets\\mtropics.py:576: FutureWarning: Value based partial slicing on non-monotonic DatetimeIndexes with non-existing keys is deprecated and will raise a KeyError in a future Version.\n",
      "  return wl.loc[st:en], spm.loc[st:en]\n"
     ]
    },
    {
     "name": "stdout",
     "output_type": "stream",
     "text": [
      "(5948, 9)\n"
     ]
    }
   ],
   "source": [
    "df = laos.make_regression(lookback_steps=30)\n",
    "print(df.shape)"
   ]
  },
  {
   "cell_type": "code",
   "execution_count": 18,
   "metadata": {
    "execution": {
     "iopub.execute_input": "2023-02-02T05:47:27.301012Z",
     "iopub.status.busy": "2023-02-02T05:47:27.299985Z",
     "iopub.status.idle": "2023-02-02T05:47:27.314016Z",
     "shell.execute_reply": "2023-02-02T05:47:27.314016Z"
    }
   },
   "outputs": [
    {
     "data": {
      "text/html": [
       "<div>\n",
       "<style scoped>\n",
       "    .dataframe tbody tr th:only-of-type {\n",
       "        vertical-align: middle;\n",
       "    }\n",
       "\n",
       "    .dataframe tbody tr th {\n",
       "        vertical-align: top;\n",
       "    }\n",
       "\n",
       "    .dataframe thead th {\n",
       "        text-align: right;\n",
       "    }\n",
       "</style>\n",
       "<table border=\"1\" class=\"dataframe\">\n",
       "  <thead>\n",
       "    <tr style=\"text-align: right;\">\n",
       "      <th></th>\n",
       "      <th>air_temp</th>\n",
       "      <th>rel_hum</th>\n",
       "      <th>wind_speed</th>\n",
       "      <th>sol_rad</th>\n",
       "      <th>water_level</th>\n",
       "      <th>pcp</th>\n",
       "      <th>susp_pm</th>\n",
       "      <th>Ecoli_source</th>\n",
       "      <th>Ecoli_mpn100</th>\n",
       "    </tr>\n",
       "  </thead>\n",
       "  <tbody>\n",
       "    <tr>\n",
       "      <th>2011-05-25 14:00:00</th>\n",
       "      <td>22.536906</td>\n",
       "      <td>96.167816</td>\n",
       "      <td>7.0</td>\n",
       "      <td>256.0</td>\n",
       "      <td>133.0</td>\n",
       "      <td>0.0</td>\n",
       "      <td>0.9</td>\n",
       "      <td>NaN</td>\n",
       "      <td>NaN</td>\n",
       "    </tr>\n",
       "    <tr>\n",
       "      <th>2011-05-25 14:06:00</th>\n",
       "      <td>22.537042</td>\n",
       "      <td>96.168046</td>\n",
       "      <td>6.7</td>\n",
       "      <td>246.2</td>\n",
       "      <td>133.0</td>\n",
       "      <td>0.0</td>\n",
       "      <td>0.9</td>\n",
       "      <td>NaN</td>\n",
       "      <td>NaN</td>\n",
       "    </tr>\n",
       "    <tr>\n",
       "      <th>2011-05-25 14:12:00</th>\n",
       "      <td>22.537179</td>\n",
       "      <td>96.168276</td>\n",
       "      <td>6.4</td>\n",
       "      <td>236.4</td>\n",
       "      <td>133.0</td>\n",
       "      <td>0.0</td>\n",
       "      <td>0.9</td>\n",
       "      <td>NaN</td>\n",
       "      <td>NaN</td>\n",
       "    </tr>\n",
       "    <tr>\n",
       "      <th>2011-05-25 14:18:00</th>\n",
       "      <td>22.537315</td>\n",
       "      <td>96.168506</td>\n",
       "      <td>6.1</td>\n",
       "      <td>226.6</td>\n",
       "      <td>133.0</td>\n",
       "      <td>0.0</td>\n",
       "      <td>0.9</td>\n",
       "      <td>NaN</td>\n",
       "      <td>NaN</td>\n",
       "    </tr>\n",
       "    <tr>\n",
       "      <th>2011-05-25 14:24:00</th>\n",
       "      <td>22.537452</td>\n",
       "      <td>96.168736</td>\n",
       "      <td>5.8</td>\n",
       "      <td>216.8</td>\n",
       "      <td>133.0</td>\n",
       "      <td>0.0</td>\n",
       "      <td>0.9</td>\n",
       "      <td>NaN</td>\n",
       "      <td>NaN</td>\n",
       "    </tr>\n",
       "  </tbody>\n",
       "</table>\n",
       "</div>"
      ],
      "text/plain": [
       "                      air_temp    rel_hum  wind_speed  sol_rad  water_level  \\\n",
       "2011-05-25 14:00:00  22.536906  96.167816         7.0    256.0        133.0   \n",
       "2011-05-25 14:06:00  22.537042  96.168046         6.7    246.2        133.0   \n",
       "2011-05-25 14:12:00  22.537179  96.168276         6.4    236.4        133.0   \n",
       "2011-05-25 14:18:00  22.537315  96.168506         6.1    226.6        133.0   \n",
       "2011-05-25 14:24:00  22.537452  96.168736         5.8    216.8        133.0   \n",
       "\n",
       "                     pcp  susp_pm  Ecoli_source  Ecoli_mpn100  \n",
       "2011-05-25 14:00:00  0.0      0.9           NaN           NaN  \n",
       "2011-05-25 14:06:00  0.0      0.9           NaN           NaN  \n",
       "2011-05-25 14:12:00  0.0      0.9           NaN           NaN  \n",
       "2011-05-25 14:18:00  0.0      0.9           NaN           NaN  \n",
       "2011-05-25 14:24:00  0.0      0.9           NaN           NaN  "
      ]
     },
     "execution_count": 18,
     "metadata": {},
     "output_type": "execute_result"
    }
   ],
   "source": [
    "df.head()"
   ]
  },
  {
   "cell_type": "code",
   "execution_count": 19,
   "metadata": {
    "execution": {
     "iopub.execute_input": "2023-02-02T05:47:27.317011Z",
     "iopub.status.busy": "2023-02-02T05:47:27.316011Z",
     "iopub.status.idle": "2023-02-02T05:47:27.329119Z",
     "shell.execute_reply": "2023-02-02T05:47:27.329119Z"
    }
   },
   "outputs": [
    {
     "name": "stdout",
     "output_type": "stream",
     "text": [
      "air_temp           0\n",
      "rel_hum            0\n",
      "wind_speed         0\n",
      "sol_rad            0\n",
      "water_level        0\n",
      "pcp                0\n",
      "susp_pm            0\n",
      "Ecoli_source     105\n",
      "Ecoli_mpn100    5690\n",
      "dtype: int64\n"
     ]
    }
   ],
   "source": [
    "print(df.isna().sum())"
   ]
  },
  {
   "cell_type": "code",
   "execution_count": 20,
   "metadata": {
    "execution": {
     "iopub.execute_input": "2023-02-02T05:47:27.332154Z",
     "iopub.status.busy": "2023-02-02T05:47:27.332154Z",
     "iopub.status.idle": "2023-02-02T05:47:29.387337Z",
     "shell.execute_reply": "2023-02-02T05:47:29.387337Z"
    }
   },
   "outputs": [
    {
     "data": {
      "image/png": "[encoded data removed]",
      "text/plain": [
       "<Figure size 1008x1440 with 9 Axes>"
      ]
     },
     "metadata": {
      "needs_background": "light"
     },
     "output_type": "display_data"
    }
   ],
   "source": [
    "eda = EDA(data=df)\n",
    "eda.plot_data(subplots=True, figsize=(14, 20),\n",
    "              ignore_datetime_index=True)"
   ]
  },
  {
   "cell_type": "markdown",
   "metadata": {},
   "source": [
    "## classification\n",
    "\n"
   ]
  },
  {
   "cell_type": "code",
   "execution_count": 21,
   "metadata": {
    "execution": {
     "iopub.execute_input": "2023-02-02T05:47:29.390336Z",
     "iopub.status.busy": "2023-02-02T05:47:29.389365Z",
     "iopub.status.idle": "2023-02-02T05:47:30.574353Z",
     "shell.execute_reply": "2023-02-02T05:47:30.574353Z"
    }
   },
   "outputs": [
    {
     "name": "stderr",
     "output_type": "stream",
     "text": [
      "D:\\C\\Anaconda3\\envs\\ai4w_dataset\\lib\\site-packages\\ai4water\\datasets\\mtropics.py:576: FutureWarning: Value based partial slicing on non-monotonic DatetimeIndexes with non-existing keys is deprecated and will raise a KeyError in a future Version.\n",
      "  return wl.loc[st:en], spm.loc[st:en]\n"
     ]
    },
    {
     "name": "stdout",
     "output_type": "stream",
     "text": [
      "(5948, 9)\n"
     ]
    }
   ],
   "source": [
    "df = laos.make_classification(lookback_steps=30)\n",
    "print(df.shape)"
   ]
  },
  {
   "cell_type": "code",
   "execution_count": 22,
   "metadata": {
    "execution": {
     "iopub.execute_input": "2023-02-02T05:47:30.577354Z",
     "iopub.status.busy": "2023-02-02T05:47:30.576380Z",
     "iopub.status.idle": "2023-02-02T05:47:30.590354Z",
     "shell.execute_reply": "2023-02-02T05:47:30.590354Z"
    }
   },
   "outputs": [
    {
     "data": {
      "text/html": [
       "<div>\n",
       "<style scoped>\n",
       "    .dataframe tbody tr th:only-of-type {\n",
       "        vertical-align: middle;\n",
       "    }\n",
       "\n",
       "    .dataframe tbody tr th {\n",
       "        vertical-align: top;\n",
       "    }\n",
       "\n",
       "    .dataframe thead th {\n",
       "        text-align: right;\n",
       "    }\n",
       "</style>\n",
       "<table border=\"1\" class=\"dataframe\">\n",
       "  <thead>\n",
       "    <tr style=\"text-align: right;\">\n",
       "      <th></th>\n",
       "      <th>air_temp</th>\n",
       "      <th>rel_hum</th>\n",
       "      <th>wind_speed</th>\n",
       "      <th>sol_rad</th>\n",
       "      <th>water_level</th>\n",
       "      <th>pcp</th>\n",
       "      <th>susp_pm</th>\n",
       "      <th>Ecoli_source</th>\n",
       "      <th>Ecoli_mpn100</th>\n",
       "    </tr>\n",
       "  </thead>\n",
       "  <tbody>\n",
       "    <tr>\n",
       "      <th>2011-05-25 14:00:00</th>\n",
       "      <td>22.536906</td>\n",
       "      <td>96.167816</td>\n",
       "      <td>7.0</td>\n",
       "      <td>256.0</td>\n",
       "      <td>133.0</td>\n",
       "      <td>0.0</td>\n",
       "      <td>0.9</td>\n",
       "      <td>NaN</td>\n",
       "      <td>NaN</td>\n",
       "    </tr>\n",
       "    <tr>\n",
       "      <th>2011-05-25 14:06:00</th>\n",
       "      <td>22.537042</td>\n",
       "      <td>96.168046</td>\n",
       "      <td>6.7</td>\n",
       "      <td>246.2</td>\n",
       "      <td>133.0</td>\n",
       "      <td>0.0</td>\n",
       "      <td>0.9</td>\n",
       "      <td>NaN</td>\n",
       "      <td>NaN</td>\n",
       "    </tr>\n",
       "    <tr>\n",
       "      <th>2011-05-25 14:12:00</th>\n",
       "      <td>22.537179</td>\n",
       "      <td>96.168276</td>\n",
       "      <td>6.4</td>\n",
       "      <td>236.4</td>\n",
       "      <td>133.0</td>\n",
       "      <td>0.0</td>\n",
       "      <td>0.9</td>\n",
       "      <td>NaN</td>\n",
       "      <td>NaN</td>\n",
       "    </tr>\n",
       "    <tr>\n",
       "      <th>2011-05-25 14:18:00</th>\n",
       "      <td>22.537315</td>\n",
       "      <td>96.168506</td>\n",
       "      <td>6.1</td>\n",
       "      <td>226.6</td>\n",
       "      <td>133.0</td>\n",
       "      <td>0.0</td>\n",
       "      <td>0.9</td>\n",
       "      <td>NaN</td>\n",
       "      <td>NaN</td>\n",
       "    </tr>\n",
       "    <tr>\n",
       "      <th>2011-05-25 14:24:00</th>\n",
       "      <td>22.537452</td>\n",
       "      <td>96.168736</td>\n",
       "      <td>5.8</td>\n",
       "      <td>216.8</td>\n",
       "      <td>133.0</td>\n",
       "      <td>0.0</td>\n",
       "      <td>0.9</td>\n",
       "      <td>NaN</td>\n",
       "      <td>NaN</td>\n",
       "    </tr>\n",
       "  </tbody>\n",
       "</table>\n",
       "</div>"
      ],
      "text/plain": [
       "                      air_temp    rel_hum  wind_speed  sol_rad  water_level  \\\n",
       "2011-05-25 14:00:00  22.536906  96.167816         7.0    256.0        133.0   \n",
       "2011-05-25 14:06:00  22.537042  96.168046         6.7    246.2        133.0   \n",
       "2011-05-25 14:12:00  22.537179  96.168276         6.4    236.4        133.0   \n",
       "2011-05-25 14:18:00  22.537315  96.168506         6.1    226.6        133.0   \n",
       "2011-05-25 14:24:00  22.537452  96.168736         5.8    216.8        133.0   \n",
       "\n",
       "                     pcp  susp_pm  Ecoli_source  Ecoli_mpn100  \n",
       "2011-05-25 14:00:00  0.0      0.9           NaN           NaN  \n",
       "2011-05-25 14:06:00  0.0      0.9           NaN           NaN  \n",
       "2011-05-25 14:12:00  0.0      0.9           NaN           NaN  \n",
       "2011-05-25 14:18:00  0.0      0.9           NaN           NaN  \n",
       "2011-05-25 14:24:00  0.0      0.9           NaN           NaN  "
      ]
     },
     "execution_count": 22,
     "metadata": {},
     "output_type": "execute_result"
    }
   ],
   "source": [
    "df.head()"
   ]
  },
  {
   "cell_type": "code",
   "execution_count": 23,
   "metadata": {
    "execution": {
     "iopub.execute_input": "2023-02-02T05:47:30.593382Z",
     "iopub.status.busy": "2023-02-02T05:47:30.592353Z",
     "iopub.status.idle": "2023-02-02T05:47:30.605353Z",
     "shell.execute_reply": "2023-02-02T05:47:30.605353Z"
    }
   },
   "outputs": [
    {
     "name": "stdout",
     "output_type": "stream",
     "text": [
      "air_temp           0\n",
      "rel_hum            0\n",
      "wind_speed         0\n",
      "sol_rad            0\n",
      "water_level        0\n",
      "pcp                0\n",
      "susp_pm            0\n",
      "Ecoli_source     105\n",
      "Ecoli_mpn100    5690\n",
      "dtype: int64\n"
     ]
    }
   ],
   "source": [
    "print(df.isna().sum())"
   ]
  },
  {
   "cell_type": "markdown",
   "metadata": {},
   "source": [
    "## ecoli_mekong\n",
    "\n"
   ]
  },
  {
   "cell_type": "code",
   "execution_count": 24,
   "metadata": {
    "execution": {
     "iopub.execute_input": "2023-02-02T05:47:30.608379Z",
     "iopub.status.busy": "2023-02-02T05:47:30.608379Z",
     "iopub.status.idle": "2023-02-02T05:47:30.804421Z",
     "shell.execute_reply": "2023-02-02T05:47:30.804421Z"
    }
   },
   "outputs": [
    {
     "name": "stdout",
     "output_type": "stream",
     "text": [
      "\n",
      "    Not downloading the data since the directory \n",
      "    D:\\C\\Anaconda3\\envs\\ai4w_dataset\\lib\\site-packages\\ai4water\\datasets\\data\\ecoli_houay_pano already exists.\n",
      "    Use overwrite=True to remove previously saved files and download again\n",
      "\n",
      "    Not downloading the data since the directory \n",
      "    D:\\C\\Anaconda3\\envs\\ai4w_dataset\\lib\\site-packages\\ai4water\\datasets\\data\\ecoli_mekong_2016 already exists.\n",
      "    Use overwrite=True to remove previously saved files and download again\n",
      "\n",
      "    Not downloading the data since the directory \n",
      "    D:\\C\\Anaconda3\\envs\\ai4w_dataset\\lib\\site-packages\\ai4water\\datasets\\data\\ecoli_mekong_loas already exists.\n",
      "    Use overwrite=True to remove previously saved files and download again\n",
      "(1602, 10)\n"
     ]
    },
    {
     "name": "stderr",
     "output_type": "stream",
     "text": [
      "D:\\C\\Anaconda3\\envs\\ai4w_dataset\\lib\\site-packages\\ai4water\\datasets\\mtropics.py:1222: FutureWarning: Value based partial slicing on non-monotonic DatetimeIndexes with non-existing keys is deprecated and will raise a KeyError in a future Version.\n",
      "  df = df.loc[st:en]\n",
      "D:\\C\\Anaconda3\\envs\\ai4w_dataset\\lib\\site-packages\\ai4water\\datasets\\mtropics.py:1222: FutureWarning: Value based partial slicing on non-monotonic DatetimeIndexes with non-existing keys is deprecated and will raise a KeyError in a future Version.\n",
      "  df = df.loc[st:en]\n",
      "D:\\C\\Anaconda3\\envs\\ai4w_dataset\\lib\\site-packages\\ai4water\\datasets\\mtropics.py:1222: FutureWarning: Value based partial slicing on non-monotonic DatetimeIndexes with non-existing keys is deprecated and will raise a KeyError in a future Version.\n",
      "  df = df.loc[st:en]\n"
     ]
    }
   ],
   "source": [
    "ecoli = ecoli_mekong()\n",
    "print(ecoli.shape)"
   ]
  },
  {
   "cell_type": "code",
   "execution_count": 25,
   "metadata": {
    "execution": {
     "iopub.execute_input": "2023-02-02T05:47:30.807421Z",
     "iopub.status.busy": "2023-02-02T05:47:30.806421Z",
     "iopub.status.idle": "2023-02-02T05:47:30.821493Z",
     "shell.execute_reply": "2023-02-02T05:47:30.822520Z"
    }
   },
   "outputs": [
    {
     "name": "stdout",
     "output_type": "stream",
     "text": [
      "                    station_name      T     EC  DOpercent    DO    pH   ORP  \\\n",
      "Date_Time                                                                     \n",
      "2011-05-25 10:00:00   Houay Pano  24.11  273.0       87.5  7.34  7.67  53.5   \n",
      "2011-05-25 16:40:00   Houay Pano    NaN    NaN        NaN   NaN   NaN   NaN   \n",
      "2011-05-25 17:06:00   Houay Pano    NaN    NaN        NaN   NaN   NaN   NaN   \n",
      "2011-05-25 17:10:00   Houay Pano    NaN    NaN        NaN   NaN   NaN   NaN   \n",
      "2011-05-25 17:24:00   Houay Pano    NaN    NaN        NaN   NaN   NaN   NaN   \n",
      "\n",
      "                     Turbidity       TSS  E-coli_4dilutions  \n",
      "Date_Time                                                    \n",
      "2011-05-25 10:00:00      13.47       NaN                NaN  \n",
      "2011-05-25 16:40:00    1380.00  0.899281             1100.0  \n",
      "2011-05-25 17:06:00    1116.00  0.993190             1400.0  \n",
      "2011-05-25 17:10:00    1392.00  1.107880                NaN  \n",
      "2011-05-25 17:24:00     702.00  1.325030            14000.0  \n"
     ]
    }
   ],
   "source": [
    "print(ecoli.head())"
   ]
  },
  {
   "cell_type": "code",
   "execution_count": 26,
   "metadata": {
    "execution": {
     "iopub.execute_input": "2023-02-02T05:47:30.828514Z",
     "iopub.status.busy": "2023-02-02T05:47:30.827515Z",
     "iopub.status.idle": "2023-02-02T05:47:30.900490Z",
     "shell.execute_reply": "2023-02-02T05:47:30.899490Z"
    },
    "nbsphinx-thumbnail": {
     "tooltip": "MTROPICS Laos"
    },
    "tags": [
     "nbsphinx-thumbnail"
    ]
   },
   "outputs": [
    {
     "data": {
      "image/png": "[encoded data removed]",
      "text/plain": [
       "<Figure size 432x288 with 1 Axes>"
      ]
     },
     "metadata": {},
     "output_type": "display_data"
    }
   ],
   "source": [
    "_ = pie(df.dropna().iloc[:, -1].values.astype(int), explode=(0, 0.05))"
   ]
  }
 ],
 "metadata": {
  "celltoolbar": "Edit Metadata",
  "kernelspec": {
   "display_name": "Python 3 (ipykernel)",
   "language": "python",
   "name": "python3"
  },
  "language_info": {
   "codemirror_mode": {
    "name": "ipython",
    "version": 3
   },
   "file_extension": ".py",
   "mimetype": "text/x-python",
   "name": "python",
   "nbconvert_exporter": "python",
   "pygments_lexer": "ipython3",
   "version": "3.8.13"
  }
 },
 "nbformat": 4,
 "nbformat_minor": 1
}