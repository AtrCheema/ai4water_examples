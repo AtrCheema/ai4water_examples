{
 "cells": [
  {
   "cell_type": "markdown",
   "id": "0f7e0f50",
   "metadata": {},
   "source": [
    "[![Open In Colab](https://colab.research.google.com/assets/colab-badge.svg)](https://colab.research.google.com/github/AtrCheema/ai4water_examples/blob/master/docs/source/_notebooks/preprocessing/transformations.ipynb)\n",
    "\n",
    "[![View Source on GitHub](https://img.shields.io/badge/github-view%20source-black.svg)](https://github.com/AtrCheema/ai4water_examples/blob/master/docs/source/_notebooks/preprocessing/transformations.ipynb)\n",
    "\n",
    "## Transformations\n",
    "\n",
    "This notebook shows how to apply different transformations in input and output features and their impact on model perofrmance.\n"
   ]
  },
  {
   "cell_type": "code",
   "execution_count": 1,
   "id": "4f51440c",
   "metadata": {},
   "outputs": [
    {
     "name": "stderr",
     "output_type": "stream",
     "text": [
      "D:\\C\\Anaconda3\\envs\\tfcpu27_py39\\lib\\site-packages\\numpy\\_distributor_init.py:30: UserWarning: loaded more than 1 DLL from .libs:\n",
      "D:\\C\\Anaconda3\\envs\\tfcpu27_py39\\lib\\site-packages\\numpy\\.libs\\libopenblas.EL2C6PLE4ZYW3ECEVIV3OXXGRN2NRFM2.gfortran-win_amd64.dll\n",
      "D:\\C\\Anaconda3\\envs\\tfcpu27_py39\\lib\\site-packages\\numpy\\.libs\\libopenblas.GK7GX5KEQ4F6UYO3P26ULGBQYHGQO7J4.gfortran-win_amd64.dll\n",
      "  warnings.warn(\"loaded more than 1 DLL from .libs:\"\n",
      "D:\\C\\Anaconda3\\envs\\tfcpu27_py39\\lib\\site-packages\\sklearn\\experimental\\enable_hist_gradient_boosting.py:16: UserWarning: Since version 1.0, it is not needed to import enable_hist_gradient_boosting anymore. HistGradientBoostingClassifier and HistGradientBoostingRegressor are now stable and can be normally imported from sklearn.ensemble.\n",
      "  warnings.warn(\n"
     ]
    }
   ],
   "source": [
    "\n",
    "\n",
    "from ai4water import Model\n",
    "from ai4water.datasets import MtropicsLaos\n",
    "from ai4water.utils.utils import get_version_info\n",
    "\n",
    "from easy_mpl import boxplot, ridge"
   ]
  },
  {
   "cell_type": "code",
   "execution_count": 2,
   "id": "24d6b592",
   "metadata": {},
   "outputs": [
    {
     "name": "stdout",
     "output_type": "stream",
     "text": [
      "python 3.9.7 | packaged by conda-forge | (default, Sep 29 2021, 19:20:16) [MSC v.1916 64 bit (AMD64)]\n",
      "os nt\n",
      "ai4water 1.06\n",
      "lightgbm 3.3.1\n",
      "tcn 3.4.0\n",
      "catboost 0.26\n",
      "xgboost 1.5.0\n",
      "easy_mpl 0.21.3\n",
      "SeqMetrics 1.3.3\n",
      "tensorflow 2.7.0\n",
      "keras.api._v2.keras 2.7.0\n",
      "numpy 1.21.0\n",
      "pandas 1.3.4\n",
      "matplotlib 3.4.3\n",
      "h5py 3.5.0\n",
      "sklearn 1.0.1\n",
      "shapefile 2.3.0\n",
      "xarray 0.20.1\n",
      "netCDF4 1.5.7\n",
      "optuna 2.10.1\n",
      "skopt 0.9.0\n",
      "hyperopt 0.2.7\n",
      "plotly 5.3.1\n",
      "lime NotDefined\n",
      "seaborn 0.11.2\n"
     ]
    }
   ],
   "source": [
    "for lib,ver in get_version_info().items():\n",
    "    print(lib, ver)  # print versions of the libraries used"
   ]
  },
  {
   "cell_type": "code",
   "execution_count": 3,
   "id": "d96db981",
   "metadata": {},
   "outputs": [
    {
     "name": "stdout",
     "output_type": "stream",
     "text": [
      "\n",
      "    Not downloading the data since the directory \n",
      "    F:\\data\\MtropicsLaos already exists.\n",
      "    Use overwrite=True to remove previously saved files and download again\n"
     ]
    }
   ],
   "source": [
    "dataset = MtropicsLaos(\n",
    "    path=\"F:\\\\data\\\\MtropicsLaos\"  # path where the data is saved/downloaded. If not, then let path=None\n",
    ")  "
   ]
  },
  {
   "cell_type": "code",
   "execution_count": 4,
   "id": "9edcd78d",
   "metadata": {},
   "outputs": [
    {
     "name": "stderr",
     "output_type": "stream",
     "text": [
      "Value based partial slicing on non-monotonic DatetimeIndexes with non-existing keys is deprecated and will raise a KeyError in a future Version.\n"
     ]
    },
    {
     "data": {
      "text/plain": [
       "(258, 9)"
      ]
     },
     "execution_count": 4,
     "metadata": {},
     "output_type": "execute_result"
    }
   ],
   "source": [
    "data = dataset.make_regression(lookback_steps=1)\n",
    "data.shape"
   ]
  },
  {
   "cell_type": "code",
   "execution_count": 5,
   "id": "a3ff16fc",
   "metadata": {},
   "outputs": [
    {
     "data": {
      "text/plain": [
       "['air_temp',\n",
       " 'rel_hum',\n",
       " 'wind_speed',\n",
       " 'sol_rad',\n",
       " 'water_level',\n",
       " 'pcp',\n",
       " 'susp_pm',\n",
       " 'Ecoli_source']"
      ]
     },
     "execution_count": 5,
     "metadata": {},
     "output_type": "execute_result"
    }
   ],
   "source": [
    "inputs = data.columns.tolist()[0:-1]\n",
    "inputs"
   ]
  },
  {
   "cell_type": "code",
   "execution_count": 6,
   "id": "5245ebb2",
   "metadata": {},
   "outputs": [
    {
     "name": "stdout",
     "output_type": "stream",
     "text": [
      "\n",
      "            building ML model for  \n",
      "            regression problem using RandomForestRegressor\n",
      "***** Training *****\n",
      "input_x shape:  (180, 8)\n",
      "target shape:  (180, 1)\n",
      "***** Test *****\n",
      "input_x shape:  (78, 8)\n",
      "target shape:  (78, 1)\n",
      "***** Training *****\n",
      "input_x shape:  (180, 8)\n",
      "target shape:  (180, 1)\n",
      "***** Test *****\n",
      "input_x shape:  (78, 8)\n",
      "target shape:  (78, 1)\n"
     ]
    },
    {
     "data": {
      "text/plain": [
       "{'r2': 0.16795372023026572, 'r2_score': 0.15882331484258694}"
      ]
     },
     "execution_count": 6,
     "metadata": {},
     "output_type": "execute_result"
    }
   ],
   "source": [
    "model = Model(\n",
    "    model=\"RandomForestRegressor\",\n",
    "    val_fraction=0.0\n",
    ")\n",
    "\n",
    "_ = model.fit(data=data)\n",
    "t_test, p_test = model.predict_on_test_data(data=data, process_results=False, return_true=True)\n",
    "t_train, p_train = model.predict_on_training_data(data=data, process_results=False, return_true=True)\n",
    "model.evaluate_on_test_data(data=data, metrics=['r2', 'r2_score'])"
   ]
  },
  {
   "cell_type": "code",
   "execution_count": 7,
   "id": "103ad097",
   "metadata": {},
   "outputs": [
    {
     "name": "stdout",
     "output_type": "stream",
     "text": [
      "\n",
      "            building ML model for  \n",
      "            regression problem using RandomForestRegressor\n",
      "***** Training *****\n",
      "input_x shape:  (180, 8)\n",
      "target shape:  (180, 1)\n",
      "***** Test *****\n",
      "input_x shape:  (78, 8)\n",
      "target shape:  (78, 1)\n",
      "***** Training *****\n",
      "input_x shape:  (180, 8)\n",
      "target shape:  (180, 1)\n",
      "***** Test *****\n",
      "input_x shape:  (78, 8)\n",
      "target shape:  (78, 1)\n"
     ]
    },
    {
     "data": {
      "text/plain": [
       "{'r2': 0.16277415505198237, 'r2_score': 0.15489058460852678}"
      ]
     },
     "execution_count": 7,
     "metadata": {},
     "output_type": "execute_result"
    }
   ],
   "source": [
    "model = Model(\n",
    "    model=\"RandomForestRegressor\",\n",
    "    y_transformation = \"minmax\",\n",
    "    val_fraction=0.0\n",
    ")\n",
    "\n",
    "_ = model.fit(data=data)\n",
    "t_minmax_test, p_minmax_test = model.predict_on_test_data(data=data, process_results=False, return_true=True)\n",
    "t_minmax_train, p_minmax_train = model.predict_on_training_data(data=data, process_results=False, return_true=True)\n",
    "model.evaluate_on_test_data(data=data, metrics=['r2', 'r2_score'])"
   ]
  },
  {
   "cell_type": "code",
   "execution_count": 8,
   "id": "e741baea",
   "metadata": {},
   "outputs": [
    {
     "name": "stdout",
     "output_type": "stream",
     "text": [
      "\n",
      "            building ML model for  \n",
      "            regression problem using RandomForestRegressor\n",
      "***** Training *****\n",
      "input_x shape:  (180, 8)\n",
      "target shape:  (180, 1)\n",
      "***** Test *****\n",
      "input_x shape:  (78, 8)\n",
      "target shape:  (78, 1)\n",
      "***** Training *****\n",
      "input_x shape:  (180, 8)\n",
      "target shape:  (180, 1)\n",
      "***** Test *****\n",
      "input_x shape:  (78, 8)\n",
      "target shape:  (78, 1)\n"
     ]
    },
    {
     "data": {
      "text/plain": [
       "{'r2': 0.3029100091159297, 'r2_score': 0.20635029869566568}"
      ]
     },
     "execution_count": 8,
     "metadata": {},
     "output_type": "execute_result"
    }
   ],
   "source": [
    "model = Model(\n",
    "    model=\"RandomForestRegressor\",\n",
    "    y_transformation = {'method':'log', 'treat_negatives': True, 'replace_zeros': True},\n",
    "    val_fraction=0.0\n",
    ")\n",
    "\n",
    "_ = model.fit(data=data)\n",
    "\n",
    "t_log_test, p_log_test = model.predict_on_test_data(data=data, process_results=False, return_true=True)\n",
    "t_log_train, p_log_train = model.predict_on_training_data(data=data, process_results=False, return_true=True)\n",
    "model.evaluate_on_test_data(data=data, metrics=['r2', 'r2_score'])"
   ]
  },
  {
   "cell_type": "code",
   "execution_count": 9,
   "id": "69b3395e",
   "metadata": {
    "nbsphinx-thumbnail": {
     "tooltip": "Applying transformation on data"
    },
    "tags": [
     "nbsphinx-thumbnail"
    ]
   },
   "outputs": [
    {
     "data": {
      "image/png": "[encoded data removed]",
      "text/plain": [
       "<Figure size 432x288 with 3 Axes>"
      ]
     },
     "metadata": {
      "needs_background": "light"
     },
     "output_type": "display_data"
    }
   ],
   "source": [
    "import matplotlib.pyplot as plt\n",
    "\n",
    "\n",
    "f, axes = plt.subplots(1,3, sharey=\"all\")\n",
    "\n",
    "axes = axes.flatten()\n",
    "\n",
    "_ = boxplot([t_test.reshape(-1,), t_train.reshape(-1,)], ax=axes[0], show=False, labels=[\"Test\", \"Training\"])\n",
    "\n",
    "_ = boxplot([t_minmax_test.reshape(-1,), t_minmax_train.reshape(-1,)], ax=axes[1], show=False, \n",
    "            labels=[\"Test\", \"Training\"])\n",
    "\n",
    "_ = boxplot([t_log_test.reshape(-1,), t_log_train.reshape(-1,)], ax=axes[2], show=False, labels=[\"Test\", \"Training\"])\n",
    "\n",
    "plt.show()"
   ]
  },
  {
   "cell_type": "code",
   "execution_count": 10,
   "id": "b7310bc5",
   "metadata": {},
   "outputs": [
    {
     "name": "stdout",
     "output_type": "stream",
     "text": [
      "\n",
      "            building ML model for  \n",
      "            regression problem using RandomForestRegressor\n",
      "***** Training *****\n",
      "input_x shape:  (180, 8)\n",
      "target shape:  (180, 1)\n",
      "***** Test *****\n",
      "input_x shape:  (78, 8)\n",
      "target shape:  (78, 1)\n"
     ]
    },
    {
     "data": {
      "text/plain": [
       "{'r2': 0.30047682922342284, 'r2_score': 0.20491809820446527}"
      ]
     },
     "execution_count": 10,
     "metadata": {},
     "output_type": "execute_result"
    }
   ],
   "source": [
    "model = Model(\n",
    "    model=\"RandomForestRegressor\",\n",
    "    x_transformation=\"minmax\",\n",
    "    y_transformation = {'method':'log', 'treat_negatives': True, 'replace_zeros': True},\n",
    "    val_fraction=0.0\n",
    ")\n",
    "\n",
    "_ = model.fit(data=data)\n",
    "\n",
    "model.evaluate_on_test_data(data=data, metrics=['r2', 'r2_score'])"
   ]
  },
  {
   "cell_type": "code",
   "execution_count": 11,
   "id": "d4d782f4",
   "metadata": {},
   "outputs": [
    {
     "name": "stdout",
     "output_type": "stream",
     "text": [
      "\n",
      "            building ML model for  \n",
      "            regression problem using RandomForestRegressor\n",
      "***** Training *****\n",
      "input_x shape:  (180, 8)\n",
      "target shape:  (180, 1)\n",
      "***** Test *****\n",
      "input_x shape:  (78, 8)\n",
      "target shape:  (78, 1)\n"
     ]
    },
    {
     "data": {
      "text/plain": [
       "{'r2': 0.3029087206809293, 'r2_score': 0.20634949505073052}"
      ]
     },
     "execution_count": 11,
     "metadata": {},
     "output_type": "execute_result"
    }
   ],
   "source": [
    "model = Model(\n",
    "    model=\"RandomForestRegressor\",\n",
    "    x_transformation=\"zscore\",\n",
    "    y_transformation = {'method':'log', 'treat_negatives': True, 'replace_zeros': True},\n",
    "    val_fraction=0.0\n",
    ")\n",
    "\n",
    "_ = model.fit(data=data)\n",
    "\n",
    "model.evaluate_on_test_data(data=data, metrics=['r2', 'r2_score'])"
   ]
  },
  {
   "cell_type": "code",
   "execution_count": 12,
   "id": "24fcc7be",
   "metadata": {},
   "outputs": [
    {
     "name": "stdout",
     "output_type": "stream",
     "text": [
      "\n",
      "            building ML model for  \n",
      "            regression problem using RandomForestRegressor\n",
      "***** Training *****\n",
      "input_x shape:  (180, 8)\n",
      "target shape:  (180, 1)\n",
      "***** Test *****\n",
      "input_x shape:  (78, 8)\n",
      "target shape:  (78, 1)\n"
     ]
    },
    {
     "data": {
      "text/plain": [
       "{'r2': 0.3029100091159297, 'r2_score': 0.20635029869566568}"
      ]
     },
     "execution_count": 12,
     "metadata": {},
     "output_type": "execute_result"
    }
   ],
   "source": [
    "model = Model(\n",
    "    model=\"RandomForestRegressor\",\n",
    "    x_transformation={\"method\": \"zscore\", \"features\": [\"air_temp\", \"rel_hum\"]},\n",
    "    y_transformation = {'method':'log', 'treat_negatives': True, 'replace_zeros': True},\n",
    "    input_features=inputs,\n",
    "    val_fraction=0.0\n",
    ")\n",
    "\n",
    "_ = model.fit(data=data)\n",
    "\n",
    "model.evaluate_on_test_data(data=data, metrics=['r2', 'r2_score'])"
   ]
  },
  {
   "cell_type": "code",
   "execution_count": 13,
   "id": "2bfe5cb0",
   "metadata": {},
   "outputs": [
    {
     "name": "stdout",
     "output_type": "stream",
     "text": [
      "\n",
      "            building ML model for  \n",
      "            regression problem using RandomForestRegressor\n",
      "***** Training *****\n",
      "input_x shape:  (180, 8)\n",
      "target shape:  (180, 1)\n",
      "***** Test *****\n",
      "input_x shape:  (78, 8)\n",
      "target shape:  (78, 1)\n"
     ]
    },
    {
     "data": {
      "text/plain": [
       "{'r2': 0.3029100091159297, 'r2_score': 0.20635029869566568}"
      ]
     },
     "execution_count": 13,
     "metadata": {},
     "output_type": "execute_result"
    }
   ],
   "source": [
    "model = Model(\n",
    "    model=\"RandomForestRegressor\",\n",
    "    x_transformation=[\n",
    "        {\"method\": \"zscore\", \"features\": [\"air_temp\", \"rel_hum\"]},\n",
    "        {\"method\": \"robust\", \"features\": [\"pcp\", \"susp_pm\"]}\n",
    "    ],\n",
    "    y_transformation = {'method':'log', 'treat_negatives': True, 'replace_zeros': True},\n",
    "    input_features=inputs,\n",
    "    val_fraction=0.0\n",
    ")\n",
    "\n",
    "_ = model.fit(data=data)\n",
    "\n",
    "model.evaluate_on_test_data(data=data, metrics=['r2', 'r2_score'])"
   ]
  },
  {
   "cell_type": "code",
   "execution_count": null,
   "id": "9f168d8e",
   "metadata": {},
   "outputs": [],
   "source": []
  }
 ],
 "metadata": {
  "celltoolbar": "Edit Metadata",
  "kernelspec": {
   "display_name": "Python 3 (ipykernel)",
   "language": "python",
   "name": "python3"
  },
  "language_info": {
   "codemirror_mode": {
    "name": "ipython",
    "version": 3
   },
   "file_extension": ".py",
   "mimetype": "text/x-python",
   "name": "python",
   "nbconvert_exporter": "python",
   "pygments_lexer": "ipython3",
   "version": "3.8.13"
  }
 },
 "nbformat": 4,
 "nbformat_minor": 5
}
