{
 "cells": [
  {
   "cell_type": "code",
   "execution_count": 1,
   "metadata": {},
   "outputs": [
    {
     "name": "stderr",
     "output_type": "stream",
     "text": [
      "D:\\C\\Anaconda3\\envs\\tfcpu27_py39\\lib\\site-packages\\numpy\\_distributor_init.py:30: UserWarning: loaded more than 1 DLL from .libs:\n",
      "D:\\C\\Anaconda3\\envs\\tfcpu27_py39\\lib\\site-packages\\numpy\\.libs\\libopenblas.EL2C6PLE4ZYW3ECEVIV3OXXGRN2NRFM2.gfortran-win_amd64.dll\n",
      "D:\\C\\Anaconda3\\envs\\tfcpu27_py39\\lib\\site-packages\\numpy\\.libs\\libopenblas.GK7GX5KEQ4F6UYO3P26ULGBQYHGQO7J4.gfortran-win_amd64.dll\n",
      "  warnings.warn(\"loaded more than 1 DLL from .libs:\"\n"
     ]
    }
   ],
   "source": [
    "%matplotlib inline"
   ]
  },
  {
   "cell_type": "markdown",
   "metadata": {},
   "source": [
    "\n",
    "# Neural Networks for classification\n"
   ]
  },
  {
   "cell_type": "code",
   "execution_count": 2,
   "metadata": {},
   "outputs": [
    {
     "name": "stderr",
     "output_type": "stream",
     "text": [
      "D:\\C\\Anaconda3\\envs\\tfcpu27_py39\\lib\\site-packages\\sklearn\\experimental\\enable_hist_gradient_boosting.py:16: UserWarning: Since version 1.0, it is not needed to import enable_hist_gradient_boosting anymore. HistGradientBoostingClassifier and HistGradientBoostingRegressor are now stable and can be normally imported from sklearn.ensemble.\n",
      "  warnings.warn(\n"
     ]
    }
   ],
   "source": [
    "\n",
    "from ai4water.hyperopt import Categorical\n",
    "from ai4water.datasets import MtropicsLaos\n",
    "from ai4water.experiments import DLClassificationExperiments\n",
    "from ai4water.utils.utils import get_version_info\n"
   ]
  },
  {
   "cell_type": "code",
   "execution_count": 3,
   "metadata": {},
   "outputs": [
    {
     "name": "stdout",
     "output_type": "stream",
     "text": [
      "python 3.9.7 | packaged by conda-forge | (default, Sep 29 2021, 19:20:16) [MSC v.1916 64 bit (AMD64)]\n",
      "os nt\n",
      "ai4water 1.06\n",
      "lightgbm 3.3.1\n",
      "tcn 3.4.0\n",
      "catboost 0.26\n",
      "xgboost 1.5.0\n",
      "easy_mpl 0.21.3\n",
      "SeqMetrics 1.3.3\n",
      "tensorflow 2.7.0\n",
      "keras.api._v2.keras 2.7.0\n",
      "numpy 1.21.0\n",
      "pandas 1.3.4\n",
      "matplotlib 3.4.3\n",
      "h5py 3.5.0\n",
      "sklearn 1.0.1\n",
      "shapefile 2.3.0\n",
      "fiona 1.8.22\n",
      "xarray 0.20.1\n",
      "netCDF4 1.5.7\n",
      "optuna 2.10.1\n",
      "skopt 0.9.0\n",
      "hyperopt 0.2.7\n",
      "plotly 5.3.1\n",
      "lime NotDefined\n",
      "seaborn 0.11.2\n"
     ]
    }
   ],
   "source": [
    "\n",
    "for lib, ver in get_version_info().items():\n",
    "    print(lib, ver)"
   ]
  },
  {
   "cell_type": "code",
   "execution_count": 4,
   "metadata": {},
   "outputs": [
    {
     "name": "stdout",
     "output_type": "stream",
     "text": [
      "\n",
      "    Not downloading the data since the directory \n",
      "    F:\\data\\MtropicsLaos already exists.\n",
      "    Use overwrite=True to remove previously saved files and download again\n"
     ]
    }
   ],
   "source": [
    "dataset = MtropicsLaos(save_as_nc=True,  # if set to True, then netcdf must be installed\n",
    "                       convert_to_csv=False,\n",
    "                       path=\"F:\\\\data\\\\MtropicsLaos\",\n",
    "                      )\n",
    "\n"
   ]
  },
  {
   "cell_type": "code",
   "execution_count": 5,
   "metadata": {},
   "outputs": [
    {
     "name": "stderr",
     "output_type": "stream",
     "text": [
      "Value based partial slicing on non-monotonic DatetimeIndexes with non-existing keys is deprecated and will raise a KeyError in a future Version.\n"
     ]
    },
    {
     "name": "stdout",
     "output_type": "stream",
     "text": [
      "(4071, 9)\n"
     ]
    }
   ],
   "source": [
    "lookback = 20\n",
    "data =    dataset.make_classification(lookback_steps=lookback)\n",
    "\n",
    "print(data.shape)"
   ]
  },
  {
   "cell_type": "code",
   "execution_count": 6,
   "metadata": {},
   "outputs": [
    {
     "name": "stdout",
     "output_type": "stream",
     "text": [
      "air_temp           0\n",
      "rel_hum            0\n",
      "wind_speed         0\n",
      "sol_rad            0\n",
      "water_level        0\n",
      "pcp                0\n",
      "susp_pm            0\n",
      "Ecoli_source       0\n",
      "Ecoli_mpn100    3813\n",
      "dtype: int64\n"
     ]
    }
   ],
   "source": [
    "print(data.isna().sum())"
   ]
  },
  {
   "cell_type": "code",
   "execution_count": 7,
   "metadata": {},
   "outputs": [
    {
     "data": {
      "text/plain": [
       "['air_temp',\n",
       " 'rel_hum',\n",
       " 'wind_speed',\n",
       " 'sol_rad',\n",
       " 'water_level',\n",
       " 'pcp',\n",
       " 'susp_pm',\n",
       " 'Ecoli_source']"
      ]
     },
     "execution_count": 7,
     "metadata": {},
     "output_type": "execute_result"
    }
   ],
   "source": [
    "inputs = data.columns.tolist()[0:-1]\n",
    "inputs\n"
   ]
  },
  {
   "cell_type": "code",
   "execution_count": 8,
   "metadata": {},
   "outputs": [
    {
     "data": {
      "text/plain": [
       "['Ecoli_mpn100']"
      ]
     },
     "execution_count": 8,
     "metadata": {},
     "output_type": "execute_result"
    }
   ],
   "source": [
    "outputs = data.columns.tolist()[-1:]\n",
    "outputs"
   ]
  },
  {
   "cell_type": "code",
   "execution_count": 9,
   "metadata": {},
   "outputs": [
    {
     "name": "stdout",
     "output_type": "stream",
     "text": [
      "                      air_temp    rel_hum  wind_speed  sol_rad  water_level  \\\n",
      "2011-05-25 14:42:00  22.537861  96.169425         4.9    187.4        133.0   \n",
      "2011-05-25 14:48:00  22.537998  96.169655         4.6    177.6        133.0   \n",
      "2011-05-25 14:54:00  22.538134  96.169885         4.3    167.8        133.0   \n",
      "2011-05-25 15:00:00  22.538271  96.170115         4.0    158.0        133.0   \n",
      "2011-05-25 15:06:00  22.538407  96.170345         3.7    150.0        133.0   \n",
      "\n",
      "                     pcp  susp_pm  Ecoli_source  Ecoli_mpn100  \n",
      "2011-05-25 14:42:00  0.0      0.9  2.868160e+15           NaN  \n",
      "2011-05-25 14:48:00  0.0      0.9  2.868160e+15           NaN  \n",
      "2011-05-25 14:54:00  0.0      0.9  2.868160e+15           NaN  \n",
      "2011-05-25 15:00:00  0.0      0.9  2.868160e+15           NaN  \n",
      "2011-05-25 15:06:00  0.0      0.9  2.868160e+15           NaN  \n"
     ]
    }
   ],
   "source": [
    "print(data.head())"
   ]
  },
  {
   "cell_type": "code",
   "execution_count": 10,
   "metadata": {},
   "outputs": [],
   "source": [
    "exp = DLClassificationExperiments(\n",
    "    input_features=inputs,\n",
    "    output_features=outputs,\n",
    "    batch_size=16,\n",
    "    epochs=500,\n",
    "    ts_args={\"lookback\": lookback},\n",
    "    save=False\n",
    ")\n",
    "\n"
   ]
  },
  {
   "cell_type": "code",
   "execution_count": 11,
   "metadata": {},
   "outputs": [
    {
     "name": "stdout",
     "output_type": "stream",
     "text": [
      "\n",
      "********** Removing Examples with nan in labels  **********\n",
      "\n",
      "***** Training *****\n",
      "input_x shape:  (144, 20, 8)\n",
      "target shape:  (144, 1)\n",
      "\n",
      "********** Removing Examples with nan in labels  **********\n",
      "\n",
      "***** Validation *****\n",
      "input_x shape:  (36, 20, 8)\n",
      "target shape:  (36, 1)\n",
      "\n",
      "********** Removing Examples with nan in labels  **********\n",
      "\n",
      "***** Test *****\n",
      "input_x shape:  (78, 20, 8)\n",
      "target shape:  (78, 1)\n",
      "running  MLP model\n"
     ]
    },
    {
     "name": "stderr",
     "output_type": "stream",
     "text": [
      "\n",
      "            argument test is deprecated and will be removed in future. Please \n",
      "            use 'predict_on_test_data' method instead.\n",
      "invalid value encountered in true_divide\n",
      "invalid value encountered in true_divide\n"
     ]
    },
    {
     "name": "stdout",
     "output_type": "stream",
     "text": [
      "running  CNN model\n"
     ]
    },
    {
     "name": "stderr",
     "output_type": "stream",
     "text": [
      "\n",
      "            argument test is deprecated and will be removed in future. Please \n",
      "            use 'predict_on_test_data' method instead.\n",
      "invalid value encountered in true_divide\n",
      "invalid value encountered in true_divide\n"
     ]
    },
    {
     "name": "stdout",
     "output_type": "stream",
     "text": [
      "running  LSTM model\n"
     ]
    },
    {
     "name": "stderr",
     "output_type": "stream",
     "text": [
      "\n",
      "            argument test is deprecated and will be removed in future. Please \n",
      "            use 'predict_on_test_data' method instead.\n",
      "invalid value encountered in true_divide\n",
      "invalid value encountered in true_divide\n"
     ]
    },
    {
     "name": "stdout",
     "output_type": "stream",
     "text": [
      "running  TFT model\n"
     ]
    },
    {
     "name": "stderr",
     "output_type": "stream",
     "text": [
      "\n",
      "            argument test is deprecated and will be removed in future. Please \n",
      "            use 'predict_on_test_data' method instead.\n"
     ]
    }
   ],
   "source": [
    "exp.fit(data=data,\n",
    "        include=[\"MLP\", \"CNN\", \"LSTM\", \"TFT\"])\n"
   ]
  },
  {
   "cell_type": "code",
   "execution_count": 17,
   "metadata": {},
   "outputs": [
    {
     "name": "stdout",
     "output_type": "stream",
     "text": [
      "\n",
      "********** Removing Examples with nan in labels  **********\n",
      "\n",
      "***** Training *****\n",
      "input_x shape:  (144, 20, 8)\n",
      "target shape:  (144, 1)\n",
      "\n",
      "********** Removing Examples with nan in labels  **********\n",
      "\n",
      "***** Validation *****\n",
      "input_x shape:  (36, 20, 8)\n",
      "target shape:  (36, 1)\n",
      "\n",
      "********** Removing Examples with nan in labels  **********\n",
      "\n",
      "***** Test *****\n",
      "input_x shape:  (78, 20, 8)\n",
      "target shape:  (78, 1)\n"
     ]
    },
    {
     "name": "stderr",
     "output_type": "stream",
     "text": [
      "\n",
      "            argument test is deprecated and will be removed in future. Please \n",
      "            use 'predict_on_test_data' method instead.\n",
      "invalid value encountered in true_divide\n",
      "invalid value encountered in true_divide\n"
     ]
    },
    {
     "data": {
      "image/png": "[encoded data removed]",
      "text/plain": [
       "<Figure size 640x480 with 2 Axes>"
      ]
     },
     "metadata": {},
     "output_type": "display_data"
    }
   ],
   "source": [
    "results = exp.compare_errors('accuracy', data=data, colors=['salmon', 'cadetblue'])"
   ]
  },
  {
   "cell_type": "code",
   "execution_count": 18,
   "metadata": {},
   "outputs": [
    {
     "name": "stdout",
     "output_type": "stream",
     "text": [
      "         train      test\n",
      "TFT   0.534722  0.641026\n",
      "LSTM  0.611111  0.525641\n",
      "MLP   0.388889  0.474359\n",
      "CNN   0.388889  0.474359\n"
     ]
    }
   ],
   "source": [
    "print(results)"
   ]
  },
  {
   "cell_type": "code",
   "execution_count": 25,
   "metadata": {
    "nbsphinx-thumbnail": {
     "tooltip": "Comparing Deep Learning Architectures for Classification"
    },
    "tags": [
     "nbsphinx-thumbnail"
    ]
   },
   "outputs": [
    {
     "name": "stdout",
     "output_type": "stream",
     "text": [
      "\n",
      "********** Removing Examples with nan in labels  **********\n",
      "\n",
      "***** Training *****\n",
      "input_x shape:  (144, 20, 8)\n",
      "target shape:  (144, 1)\n",
      "\n",
      "********** Removing Examples with nan in labels  **********\n",
      "\n",
      "***** Validation *****\n",
      "input_x shape:  (36, 20, 8)\n",
      "target shape:  (36, 1)\n",
      "\n",
      "********** Removing Examples with nan in labels  **********\n",
      "\n",
      "***** Test *****\n",
      "input_x shape:  (78, 20, 8)\n",
      "target shape:  (78, 1)\n"
     ]
    },
    {
     "data": {
      "image/png": "[encoded data removed]",
      "text/plain": [
       "<Figure size 640x480 with 2 Axes>"
      ]
     },
     "metadata": {},
     "output_type": "display_data"
    }
   ],
   "source": [
    "f1_score = exp.compare_errors('f1_score', data=data, cmaps=[\"Spectral\", \"Spectral\"])"
   ]
  },
  {
   "cell_type": "code",
   "execution_count": 15,
   "metadata": {},
   "outputs": [
    {
     "name": "stdout",
     "output_type": "stream",
     "text": [
      "         train      test\n",
      "TFT   0.508933  0.603486\n",
      "LSTM  0.379310  0.344538\n",
      "MLP   0.280000  0.321739\n",
      "CNN   0.280000  0.321739\n"
     ]
    }
   ],
   "source": [
    "print(f1_score)"
   ]
  },
  {
   "cell_type": "code",
   "execution_count": 16,
   "metadata": {},
   "outputs": [
    {
     "data": {
      "image/png": "[encoded data removed]",
      "text/plain": [
       "<Figure size 640x480 with 1 Axes>"
      ]
     },
     "metadata": {},
     "output_type": "display_data"
    }
   ],
   "source": [
    "_ = exp.loss_comparison()"
   ]
  },
  {
   "cell_type": "code",
   "execution_count": null,
   "metadata": {},
   "outputs": [],
   "source": []
  }
 ],
 "metadata": {
  "celltoolbar": "Edit Metadata",
  "kernelspec": {
   "display_name": "Python 3 (ipykernel)",
   "language": "python",
   "name": "python3"
  },
  "language_info": {
   "codemirror_mode": {
    "name": "ipython",
    "version": 3
   },
   "file_extension": ".py",
   "mimetype": "text/x-python",
   "name": "python",
   "nbconvert_exporter": "python",
   "pygments_lexer": "ipython3",
   "version": "3.9.7"
  }
 },
 "nbformat": 4,
 "nbformat_minor": 1
}
