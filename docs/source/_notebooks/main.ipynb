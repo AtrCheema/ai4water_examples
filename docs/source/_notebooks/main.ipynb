{
 "cells": [
  {
   "cell_type": "markdown",
   "metadata": {
    "nbsphinx": "hidden"
   },
   "source": [
    "This"
   ]
  },
  {
   "cell_type": "markdown",
   "metadata": {},
   "source": [
    "# Gallery of Examples\n"
   ]
  },
  {
   "cell_type": "markdown",
   "metadata": {
    "tags": [
     "nbsphinx-link-gallery"
    ]
   },
   "source": [
    "## Datasets\n",
    "\n",
    "This paragraph will be ignored.\n",
    "Only links are taken into account.\n",
    "\n",
    "## This section title will be ignored\n",
    "\n",
    "... because only the first title in this cell is used.\n",
    "\n",
    "* [Global Rival Water Quality](datasets/grqa.ipynb)\n",
    "* [Laos](datasets/mtropics_laos.ipynb)\n",
    "* [Busan Beach Water Quality](datasets/busan_beach.ipynb)\n",
    "* [Quadica](datasets/quadica.ipynb)\n"
   ]
  },
  {
   "cell_type": "markdown",
   "metadata": {
    "tags": [
     "nbsphinx-link-gallery"
    ]
   },
   "source": [
    "## Model\n",
    "\n",
    "\n",
    "* [Machine Learning model for regression](model/ml_rgr.ipynb)\n",
    "* [Machine Learning model for classification](model/ml_cls.ipynb)\n",
    "* [Artificial neural network for regression](model/dl_rgr.ipynb)\n",
    "* [Artificial neural network for classification](model/dl_cls.ipynb)\n",
    "* [Time series forecasting with LSTM](model/lstm_forecasting.ipynb)\n",
    "* [Cross Validation](model/cross_val_rf.ipynb)\n",
    "* [Loading Model from config file](model/load_model.ipynb)"
   ]
  },
  {
   "cell_type": "markdown",
   "metadata": {
    "tags": [
     "nbsphinx-link-gallery"
    ]
   },
   "source": [
    "## Hyperparameter Optimization (HPO)\n",
    "\n",
    "\n",
    "* [HPO of ML models (long)](hpo/hpo_ml_long.ipynb)\n",
    "* [HPO of DL models (long)](hpo/hpo_nn_long.ipynb)\n",
    "* [HPO of ML models (short)](hpo/hpo_ml_short.ipynb)\n",
    "* [HPO of DL models (short)](hpo/hpo_nn_short.ipynb)\n",
    "* [loading results of HPO](hpo/load_hpo.ipynb)"
   ]
  },
  {
   "cell_type": "markdown",
   "metadata": {
    "tags": [
     "nbsphinx-link-gallery"
    ]
   },
   "source": [
    "## Preprocessing\n",
    "\n",
    "* [HRU discretization](preprocessing/hru_discretization.ipynb)\n",
    "* [HRU discretization for LAOS](preprocessing/hru_discretization_laos.ipynb)\n",
    "* [transformations](preprocessing/transformations.ipynb)\n",
    "* [imputation](preprocessing/impute.ipynb)"
   ]
  },
  {
   "cell_type": "markdown",
   "metadata": {
    "tags": [
     "nbsphinx-link-gallery"
    ]
   },
   "source": [
    "## Experiments\n",
    "\n",
    "\n",
    "* [Machine Learning algorithms for regression](experiments/ml_rgr_exp.ipynb)\n",
    "* [Using custom performance metric in Experiments](experiments/custom_pm.ipynb)\n",
    "* [Machine Learning algorithms for classification](experiments/ml_cls_exp.ipynb)\n",
    "* [Deep Learning architectures for regression](experiments/dl_rgr_exp.ipynb)\n",
    "* [Deep Learning architectures for classification](experiments/dl_cls_exp.ipynb)\n",
    "* [Comparing LSTM with different transformations](experiments/dl_transformation.ipynb)\n",
    "* [Comparing XGBoost with different transformations](experiments/ml_transformation.ipynb)"
   ]
  },
  {
   "cell_type": "markdown",
   "metadata": {
    "tags": [
     "nbsphinx-link-gallery"
    ]
   },
   "source": [
    "## Postprocessing\n",
    "\n",
    "\n",
    "* [Prediction Analysis regression](postprocessing/pred_analysis_rgr.ipynb)\n",
    "* [Prediction Analysis classification](postprocessing/pred_anaylysis_cls.ipynb)\n",
    "* [Permutation Importance](postprocessing/pimp_rgr.ipynb)\n",
    "* [Permutation Importance for categorical variables](postprocessing/pimp_rgr_cat.ipynb)\n",
    "* [Partial Dependence Plot](postprocessing/pdp_rgr.ipynb)\n",
    "* [Partial Dependence Plot with categorical variables](postprocessing/pdp_cat_rgr.ipynb)\n",
    "* [Visualizing Inside LSTM](postprocessing/vis_lstm.ipynb)\n",
    "* [Visualizing NN layers](postprocessing/vis_nn_lyrs.ipynb)\n",
    "* [Sensitivity Analysis](postprocessing/sa.ipynb)"
   ]
  },
  {
   "cell_type": "code",
   "execution_count": null,
   "metadata": {
    "nbsphinx": "hidden"
   },
   "outputs": [],
   "source": []
  }
 ],
 "metadata": {
  "celltoolbar": "Edit Metadata",
  "kernelspec": {
   "display_name": "Python 3 (ipykernel)",
   "language": "python",
   "name": "python3"
  },
  "language_info": {
   "codemirror_mode": {
    "name": "ipython",
    "version": 3
   },
   "file_extension": ".py",
   "mimetype": "text/x-python",
   "name": "python",
   "nbconvert_exporter": "python",
   "pygments_lexer": "ipython3",
   "version": "3.8.13"
  }
 },
 "nbformat": 4,
 "nbformat_minor": 4
}
