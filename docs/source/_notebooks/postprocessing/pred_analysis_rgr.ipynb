{
 "cells": [
  {
   "cell_type": "code",
   "execution_count": 1,
   "metadata": {},
   "outputs": [
    {
     "name": "stderr",
     "output_type": "stream",
     "text": [
      "D:\\C\\Anaconda3\\envs\\tfcpu27_py39\\lib\\site-packages\\numpy\\_distributor_init.py:30: UserWarning: loaded more than 1 DLL from .libs:\n",
      "D:\\C\\Anaconda3\\envs\\tfcpu27_py39\\lib\\site-packages\\numpy\\.libs\\libopenblas.EL2C6PLE4ZYW3ECEVIV3OXXGRN2NRFM2.gfortran-win_amd64.dll\n",
      "D:\\C\\Anaconda3\\envs\\tfcpu27_py39\\lib\\site-packages\\numpy\\.libs\\libopenblas.GK7GX5KEQ4F6UYO3P26ULGBQYHGQO7J4.gfortran-win_amd64.dll\n",
      "  warnings.warn(\"loaded more than 1 DLL from .libs:\"\n"
     ]
    }
   ],
   "source": [
    "%matplotlib inline"
   ]
  },
  {
   "cell_type": "markdown",
   "metadata": {},
   "source": [
    "\n",
    "# postprocessing of prediction results\n",
    "This file shows how to post-process prediction results\n"
   ]
  },
  {
   "cell_type": "code",
   "execution_count": 2,
   "metadata": {},
   "outputs": [
    {
     "name": "stderr",
     "output_type": "stream",
     "text": [
      "D:\\C\\Anaconda3\\envs\\tfcpu27_py39\\lib\\site-packages\\sklearn\\experimental\\enable_hist_gradient_boosting.py:16: UserWarning: Since version 1.0, it is not needed to import enable_hist_gradient_boosting anymore. HistGradientBoostingClassifier and HistGradientBoostingRegressor are now stable and can be normally imported from sklearn.ensemble.\n",
      "  warnings.warn(\n"
     ]
    }
   ],
   "source": [
    "\n",
    "\n",
    "from ai4water import Model\n",
    "from ai4water.datasets import busan_beach\n",
    "from ai4water.utils.utils import get_version_info\n"
   ]
  },
  {
   "cell_type": "code",
   "execution_count": 3,
   "metadata": {},
   "outputs": [
    {
     "name": "stdout",
     "output_type": "stream",
     "text": [
      "python version: 3.9.7 | packaged by conda-forge | (default, Sep 29 2021, 19:20:16) [MSC v.1916 64 bit (AMD64)]\n",
      "os version: nt\n",
      "ai4water version: 1.06\n",
      "lightgbm version: 3.3.1\n",
      "tcn version: 3.4.0\n",
      "catboost version: 0.26\n",
      "xgboost version: 1.5.0\n",
      "easy_mpl version: 0.21.2\n",
      "SeqMetrics version: 1.3.3\n",
      "tensorflow version: 2.7.0\n",
      "keras.api._v2.keras version: 2.7.0\n",
      "numpy version: 1.21.0\n",
      "pandas version: 1.3.4\n",
      "matplotlib version: 3.4.3\n",
      "h5py version: 3.5.0\n",
      "sklearn version: 1.0.1\n",
      "shapefile version: 2.3.0\n",
      "xarray version: 0.20.1\n",
      "netCDF4 version: 1.5.7\n",
      "optuna version: 2.10.1\n",
      "skopt version: 0.9.0\n",
      "hyperopt version: 0.2.7\n",
      "plotly version: 5.3.1\n",
      "lime version: NotDefined\n",
      "seaborn version: 0.11.2\n"
     ]
    }
   ],
   "source": [
    "for k,v in get_version_info().items():\n",
    "    print(f\"{k} version: {v}\")"
   ]
  },
  {
   "cell_type": "code",
   "execution_count": 4,
   "metadata": {},
   "outputs": [
    {
     "name": "stdout",
     "output_type": "stream",
     "text": [
      "\n",
      "            building ML model for  \n",
      "            regression problem using XGBRegressor\n"
     ]
    }
   ],
   "source": [
    "model = Model(model=\"XGBRegressor\")"
   ]
  },
  {
   "cell_type": "code",
   "execution_count": 5,
   "metadata": {},
   "outputs": [
    {
     "name": "stdout",
     "output_type": "stream",
     "text": [
      "\n",
      "********** Removing Examples with nan in labels  **********\n",
      "\n",
      "***** Training *****\n",
      "input_x shape:  (121, 13)\n",
      "target shape:  (121, 1)\n"
     ]
    }
   ],
   "source": [
    "h = model.fit(data=busan_beach())"
   ]
  },
  {
   "cell_type": "code",
   "execution_count": 6,
   "metadata": {},
   "outputs": [
    {
     "name": "stdout",
     "output_type": "stream",
     "text": [
      "\n",
      "********** Removing Examples with nan in labels  **********\n",
      "\n",
      "***** Training *****\n",
      "input_x shape:  (121, 13)\n",
      "target shape:  (121, 1)\n",
      "\n",
      "********** Removing Examples with nan in labels  **********\n",
      "\n",
      "***** Validation *****\n",
      "input_x shape:  (31, 13)\n",
      "target shape:  (31, 1)\n",
      "\n",
      "********** Removing Examples with nan in labels  **********\n",
      "\n",
      "***** Test *****\n",
      "input_x shape:  (66, 13)\n",
      "target shape:  (66, 1)\n"
     ]
    },
    {
     "name": "stderr",
     "output_type": "stream",
     "text": [
      "\n",
      "A value is trying to be set on a copy of a slice from a DataFrame.\n",
      "Try using .loc[row_indexer,col_indexer] = value instead\n",
      "\n",
      "See the caveats in the documentation: https://pandas.pydata.org/pandas-docs/stable/user_guide/indexing.html#returning-a-view-versus-a-copy\n"
     ]
    },
    {
     "data": {
      "image/png": "[encoded data removed]",
      "text/plain": [
       "<Figure size 432x288 with 1 Axes>"
      ]
     },
     "metadata": {
      "needs_background": "light"
     },
     "output_type": "display_data"
    },
    {
     "data": {
      "text/plain": [
       "<AxesSubplot:xlabel='Mean Prediction', ylabel='t'>"
      ]
     },
     "execution_count": 6,
     "metadata": {},
     "output_type": "execute_result"
    }
   ],
   "source": [
    "model.prediction_analysis(features=\"tide_cm\", data=busan_beach(), \n",
    "                          show_percentile=True)"
   ]
  },
  {
   "cell_type": "code",
   "execution_count": 7,
   "metadata": {},
   "outputs": [
    {
     "data": {
      "text/plain": [
       "((1446, 13), (1446,))"
      ]
     },
     "execution_count": 7,
     "metadata": {},
     "output_type": "execute_result"
    }
   ],
   "source": [
    "data = busan_beach()\n",
    "x, y = data.iloc[:, 0:-1].values, data.iloc[:, -1].values\n",
    "x.shape, y.shape"
   ]
  },
  {
   "cell_type": "code",
   "execution_count": 8,
   "metadata": {
    "nbsphinx-thumbnail": {
     "tooltip": "Analyzing prediction results for regression"
    },
    "tags": [
     "nbsphinx-thumbnail"
    ]
   },
   "outputs": [
    {
     "data": {
      "image/png": "[encoded data removed]",
      "text/plain": [
       "<Figure size 432x288 with 2 Axes>"
      ]
     },
     "metadata": {
      "needs_background": "light"
     },
     "output_type": "display_data"
    }
   ],
   "source": [
    "ax = model.prediction_analysis(\n",
    "    features=['tide_cm', 'sal_psu'],\n",
    "    x=x, \n",
    "    y=y,\n",
    "    annotate_kws = {\n",
    "        \"annotate_counts\":True,\n",
    "        \"annotate_colors\":(\"black\", \"black\"),\n",
    "        \"annotate_fontsize\":10\n",
    "    },\n",
    "    custom_grid=[[-41.4, -20.0, 0.0, 20.0, 42.0],\n",
    "                      [33.45, 33.7, 33.9, 34.05, 34.4]],\n",
    "    border=True\n",
    ")\n"
   ]
  },
  {
   "cell_type": "code",
   "execution_count": null,
   "metadata": {},
   "outputs": [],
   "source": []
  }
 ],
 "metadata": {
  "celltoolbar": "Edit Metadata",
  "kernelspec": {
   "display_name": "Python 3 (ipykernel)",
   "language": "python",
   "name": "python3"
  },
  "language_info": {
   "codemirror_mode": {
    "name": "ipython",
    "version": 3
   },
   "file_extension": ".py",
   "mimetype": "text/x-python",
   "name": "python",
   "nbconvert_exporter": "python",
   "pygments_lexer": "ipython3",
   "version": "3.9.7"
  }
 },
 "nbformat": 4,
 "nbformat_minor": 1
}
