{
 "cells": [
  {
   "cell_type": "code",
   "execution_count": 1,
   "metadata": {},
   "outputs": [
    {
     "name": "stderr",
     "output_type": "stream",
     "text": [
      "D:\\C\\Anaconda3\\envs\\tfcpu27_py39\\lib\\site-packages\\numpy\\_distributor_init.py:30: UserWarning: loaded more than 1 DLL from .libs:\n",
      "D:\\C\\Anaconda3\\envs\\tfcpu27_py39\\lib\\site-packages\\numpy\\.libs\\libopenblas.EL2C6PLE4ZYW3ECEVIV3OXXGRN2NRFM2.gfortran-win_amd64.dll\n",
      "D:\\C\\Anaconda3\\envs\\tfcpu27_py39\\lib\\site-packages\\numpy\\.libs\\libopenblas.GK7GX5KEQ4F6UYO3P26ULGBQYHGQO7J4.gfortran-win_amd64.dll\n",
      "  warnings.warn(\"loaded more than 1 DLL from .libs:\"\n"
     ]
    }
   ],
   "source": [
    "%matplotlib inline"
   ]
  },
  {
   "cell_type": "markdown",
   "metadata": {},
   "source": [
    "[![Open In Colab](https://colab.research.google.com/assets/colab-badge.svg)](https://colab.research.google.com/github/AtrCheema/ai4water_examples/blob/master/docs/source/_notebooks/hpo/hpo_ml_short.ipynb)\n",
    "\n",
    "[![View Source on GitHub](https://img.shields.io/badge/github-view%20source-black.svg)](https://github.com/AtrCheema/ai4water_examples/blob/master/docs/source/_notebooks/hpo/hpo_ml_short.ipynb)\n",
    "\n",
    "## hyperparameter optimization with Model class"
   ]
  },
  {
   "cell_type": "code",
   "execution_count": null,
   "metadata": {
    "pycharm": {
     "name": "#%%\n"
    }
   },
   "outputs": [],
   "source": [
    "try:\n",
    "    import ai4water\n",
    "except (ImportError, ModuleNotFoundError):\n",
    "    !pip install ai4water[hpo]"
   ]
  },
  {
   "cell_type": "code",
   "execution_count": 2,
   "metadata": {},
   "outputs": [
    {
     "name": "stderr",
     "output_type": "stream",
     "text": [
      "D:\\C\\Anaconda3\\envs\\tfcpu27_py39\\lib\\site-packages\\sklearn\\experimental\\enable_hist_gradient_boosting.py:16: UserWarning: Since version 1.0, it is not needed to import enable_hist_gradient_boosting anymore. HistGradientBoostingClassifier and HistGradientBoostingRegressor are now stable and can be normally imported from sklearn.ensemble.\n",
      "  warnings.warn(\n"
     ]
    }
   ],
   "source": [
    "\n",
    "from ai4water.functional import Model\n",
    "from ai4water.datasets import MtropicsLaos\n",
    "from ai4water.utils.utils import get_version_info\n",
    "from ai4water.hyperopt import Categorical, Real, Integer\n"
   ]
  },
  {
   "cell_type": "code",
   "execution_count": 3,
   "metadata": {},
   "outputs": [
    {
     "name": "stdout",
     "output_type": "stream",
     "text": [
      "python version: 3.9.7 | packaged by conda-forge | (default, Sep 29 2021, 19:20:16) [MSC v.1916 64 bit (AMD64)]\n",
      "os version: nt\n",
      "ai4water version: 1.06\n",
      "lightgbm version: 3.3.1\n",
      "tcn version: 3.4.0\n",
      "catboost version: 0.26\n",
      "xgboost version: 1.5.0\n",
      "easy_mpl version: 0.21.3\n",
      "SeqMetrics version: 1.3.3\n",
      "tensorflow version: 2.7.0\n",
      "keras.api._v2.keras version: 2.7.0\n",
      "numpy version: 1.21.0\n",
      "pandas version: 1.3.4\n",
      "matplotlib version: 3.4.3\n",
      "h5py version: 3.5.0\n",
      "sklearn version: 1.0.1\n",
      "shapefile version: 2.3.0\n",
      "xarray version: 0.20.1\n",
      "netCDF4 version: 1.5.7\n",
      "optuna version: 2.10.1\n",
      "skopt version: 0.9.0\n",
      "hyperopt version: 0.2.7\n",
      "plotly version: 5.3.1\n",
      "lime version: NotDefined\n",
      "seaborn version: 0.11.2\n"
     ]
    }
   ],
   "source": [
    "for k,v in get_version_info().items():\n",
    "    print(f\"{k} version: {v}\")"
   ]
  },
  {
   "cell_type": "code",
   "execution_count": 4,
   "metadata": {},
   "outputs": [
    {
     "name": "stdout",
     "output_type": "stream",
     "text": [
      "\n",
      "    Not downloading the data since the directory \n",
      "    F:\\data\\MtropicsLaos already exists.\n",
      "    Use overwrite=True to remove previously saved files and download again\n"
     ]
    },
    {
     "name": "stderr",
     "output_type": "stream",
     "text": [
      "Value based partial slicing on non-monotonic DatetimeIndexes with non-existing keys is deprecated and will raise a KeyError in a future Version.\n"
     ]
    },
    {
     "name": "stdout",
     "output_type": "stream",
     "text": [
      "(258, 9)\n"
     ]
    }
   ],
   "source": [
    "# prepare the data\n",
    "\n",
    "dataset = MtropicsLaos(path=\"F:\\\\data\\\\MtropicsLaos\")\n",
    "data = dataset.make_regression(lookback_steps=1)\n",
    "print(data.shape)"
   ]
  },
  {
   "cell_type": "code",
   "execution_count": 5,
   "metadata": {},
   "outputs": [
    {
     "name": "stdout",
     "output_type": "stream",
     "text": [
      "['air_temp', 'rel_hum', 'wind_speed', 'sol_rad', 'water_level', 'pcp', 'susp_pm', 'Ecoli_source']\n"
     ]
    }
   ],
   "source": [
    "input_features = data.columns.tolist()[0:-1]\n",
    "print(input_features)"
   ]
  },
  {
   "cell_type": "code",
   "execution_count": 6,
   "metadata": {},
   "outputs": [
    {
     "name": "stdout",
     "output_type": "stream",
     "text": [
      "['Ecoli_mpn100']\n"
     ]
    }
   ],
   "source": [
    "output_features = data.columns.tolist()[-1:]\n",
    "print(output_features)"
   ]
  },
  {
   "cell_type": "markdown",
   "metadata": {},
   "source": [
    "build the model\n",
    "\n"
   ]
  },
  {
   "cell_type": "code",
   "execution_count": 7,
   "metadata": {},
   "outputs": [
    {
     "name": "stdout",
     "output_type": "stream",
     "text": [
      "\n",
      "            building ML model for  \n",
      "            regression problem using RandomForestRegressor\n"
     ]
    }
   ],
   "source": [
    "model = Model(\n",
    "    model = {\"RandomForestRegressor\": {\n",
    "        \"n_estimators\": Integer(low=5, high=30, name='n_estimators', num_samples=10),\n",
    "       \"max_leaf_nodes\": Integer(low=2, high=30, prior='log', name='max_leaf_nodes', num_samples=10),\n",
    "        \"min_weight_fraction_leaf\": Real(low=0.0, high=0.5, name='min_weight_fraction_leaf', num_samples=10),\n",
    "        \"max_depth\": Integer(low=2, high=10, name='max_depth', num_samples=10),\n",
    "        \"min_samples_split\": Integer(low=2, high=10, name='min_samples_split', num_samples=10),\n",
    "        \"min_samples_leaf\": Integer(low=1, high=5, name='min_samples_leaf', num_samples=10),\n",
    "    }},\n",
    "    input_features=input_features,\n",
    "    output_features=output_features,\n",
    "    cross_validator = {\"KFold\": {\"n_splits\": 5}},\n",
    "    x_transformation=\"zscore\",\n",
    "    y_transformation={\"method\": \"log\", \"replace_zeros\": True, \"treat_negatives\": True},\n",
    ")"
   ]
  },
  {
   "cell_type": "code",
   "execution_count": 8,
   "metadata": {},
   "outputs": [
    {
     "name": "stdout",
     "output_type": "stream",
     "text": [
      "***** Training *****\n",
      "input_x shape:  (144, 8)\n",
      "target shape:  (144, 1)\n",
      "***** Validation *****\n",
      "input_x shape:  (36, 8)\n",
      "target shape:  (36, 1)\n"
     ]
    }
   ],
   "source": [
    "_ = model.fit_on_all_training_data(data=data)"
   ]
  },
  {
   "cell_type": "code",
   "execution_count": 9,
   "metadata": {},
   "outputs": [
    {
     "name": "stdout",
     "output_type": "stream",
     "text": [
      "***** Training *****\n",
      "input_x shape:  (144, 8)\n",
      "target shape:  (144, 1)\n"
     ]
    },
    {
     "name": "stderr",
     "output_type": "stream",
     "text": [
      "\n",
      "            argument test is deprecated and will be removed in future. Please \n",
      "            use 'predict_on_test_data' method instead.\n"
     ]
    },
    {
     "data": {
      "text/plain": [
       "{'r2': 0.3385343966771821,\n",
       " 'nse': 0.18031791063563973,\n",
       " 'rmse': 6265.1971373453935}"
      ]
     },
     "execution_count": 9,
     "metadata": {},
     "output_type": "execute_result"
    }
   ],
   "source": [
    "model.evaluate_on_training_data(data=data, metrics=['r2', 'nse', 'rmse'])"
   ]
  },
  {
   "cell_type": "code",
   "execution_count": 10,
   "metadata": {},
   "outputs": [
    {
     "name": "stdout",
     "output_type": "stream",
     "text": [
      "***** Test *****\n",
      "input_x shape:  (78, 8)\n",
      "target shape:  (78, 1)\n"
     ]
    },
    {
     "name": "stderr",
     "output_type": "stream",
     "text": [
      "\n",
      "            argument test is deprecated and will be removed in future. Please \n",
      "            use 'predict_on_test_data' method instead.\n"
     ]
    },
    {
     "data": {
      "text/plain": [
       "{'r2': 0.20836113506644485,\n",
       " 'nse': 0.06366103870021012,\n",
       " 'rmse': 25337.721938256364}"
      ]
     },
     "execution_count": 10,
     "metadata": {},
     "output_type": "execute_result"
    }
   ],
   "source": [
    "model.evaluate_on_test_data(data=data, metrics=['r2', 'nse', 'rmse'])"
   ]
  },
  {
   "cell_type": "code",
   "execution_count": 11,
   "metadata": {},
   "outputs": [
    {
     "name": "stdout",
     "output_type": "stream",
     "text": [
      "Iteration No.   Validation Score    \n"
     ]
    },
    {
     "name": "stderr",
     "output_type": "stream",
     "text": [
      "\n",
      "            argument test is deprecated and will be removed in future. Please \n",
      "            use 'predict_on_test_data' method instead.\n",
      "\n",
      "            argument test is deprecated and will be removed in future. Please \n",
      "            use 'predict_on_test_data' method instead.\n",
      "\n",
      "            argument test is deprecated and will be removed in future. Please \n",
      "            use 'predict_on_test_data' method instead.\n",
      "\n",
      "            argument test is deprecated and will be removed in future. Please \n",
      "            use 'predict_on_test_data' method instead.\n",
      "\n",
      "            argument test is deprecated and will be removed in future. Please \n",
      "            use 'predict_on_test_data' method instead.\n"
     ]
    },
    {
     "name": "stdout",
     "output_type": "stream",
     "text": [
      "0               1.07374              -0.07374            \n"
     ]
    },
    {
     "name": "stderr",
     "output_type": "stream",
     "text": [
      "\n",
      "            argument test is deprecated and will be removed in future. Please \n",
      "            use 'predict_on_test_data' method instead.\n"
     ]
    },
    {
     "name": "stdout",
     "output_type": "stream",
     "text": [
      "1               1.02094              -0.02094            \n"
     ]
    },
    {
     "name": "stderr",
     "output_type": "stream",
     "text": [
      "\n",
      "            argument test is deprecated and will be removed in future. Please \n",
      "            use 'predict_on_test_data' method instead.\n",
      "\n",
      "            argument test is deprecated and will be removed in future. Please \n",
      "            use 'predict_on_test_data' method instead.\n",
      "\n",
      "            argument test is deprecated and will be removed in future. Please \n",
      "            use 'predict_on_test_data' method instead.\n",
      "\n",
      "            argument test is deprecated and will be removed in future. Please \n",
      "            use 'predict_on_test_data' method instead.\n",
      "\n",
      "            argument test is deprecated and will be removed in future. Please \n",
      "            use 'predict_on_test_data' method instead.\n"
     ]
    },
    {
     "name": "stdout",
     "output_type": "stream",
     "text": [
      "2               1.02835              -0.02835            \n"
     ]
    },
    {
     "name": "stderr",
     "output_type": "stream",
     "text": [
      "\n",
      "            argument test is deprecated and will be removed in future. Please \n",
      "            use 'predict_on_test_data' method instead.\n",
      "\n",
      "            argument test is deprecated and will be removed in future. Please \n",
      "            use 'predict_on_test_data' method instead.\n",
      "\n",
      "            argument test is deprecated and will be removed in future. Please \n",
      "            use 'predict_on_test_data' method instead.\n",
      "\n",
      "            argument test is deprecated and will be removed in future. Please \n",
      "            use 'predict_on_test_data' method instead.\n",
      "\n",
      "            argument test is deprecated and will be removed in future. Please \n",
      "            use 'predict_on_test_data' method instead.\n"
     ]
    },
    {
     "name": "stdout",
     "output_type": "stream",
     "text": [
      "3               1.03373              -0.03373            \n"
     ]
    },
    {
     "name": "stderr",
     "output_type": "stream",
     "text": [
      "\n",
      "            argument test is deprecated and will be removed in future. Please \n",
      "            use 'predict_on_test_data' method instead.\n",
      "\n",
      "            argument test is deprecated and will be removed in future. Please \n",
      "            use 'predict_on_test_data' method instead.\n",
      "\n",
      "            argument test is deprecated and will be removed in future. Please \n",
      "            use 'predict_on_test_data' method instead.\n",
      "\n",
      "            argument test is deprecated and will be removed in future. Please \n",
      "            use 'predict_on_test_data' method instead.\n",
      "\n",
      "            argument test is deprecated and will be removed in future. Please \n",
      "            use 'predict_on_test_data' method instead.\n",
      "\n",
      "            argument test is deprecated and will be removed in future. Please \n",
      "            use 'predict_on_test_data' method instead.\n"
     ]
    },
    {
     "name": "stdout",
     "output_type": "stream",
     "text": [
      "4               1.08107              -0.08107            \n"
     ]
    },
    {
     "name": "stderr",
     "output_type": "stream",
     "text": [
      "\n",
      "            argument test is deprecated and will be removed in future. Please \n",
      "            use 'predict_on_test_data' method instead.\n",
      "\n",
      "            argument test is deprecated and will be removed in future. Please \n",
      "            use 'predict_on_test_data' method instead.\n",
      "\n",
      "            argument test is deprecated and will be removed in future. Please \n",
      "            use 'predict_on_test_data' method instead.\n",
      "\n",
      "            argument test is deprecated and will be removed in future. Please \n",
      "            use 'predict_on_test_data' method instead.\n",
      "\n",
      "            argument test is deprecated and will be removed in future. Please \n",
      "            use 'predict_on_test_data' method instead.\n"
     ]
    },
    {
     "name": "stdout",
     "output_type": "stream",
     "text": [
      "5               0.99689              0.00311             \n"
     ]
    },
    {
     "name": "stderr",
     "output_type": "stream",
     "text": [
      "\n",
      "            argument test is deprecated and will be removed in future. Please \n",
      "            use 'predict_on_test_data' method instead.\n",
      "\n",
      "            argument test is deprecated and will be removed in future. Please \n",
      "            use 'predict_on_test_data' method instead.\n",
      "\n",
      "            argument test is deprecated and will be removed in future. Please \n",
      "            use 'predict_on_test_data' method instead.\n",
      "\n",
      "            argument test is deprecated and will be removed in future. Please \n",
      "            use 'predict_on_test_data' method instead.\n",
      "\n",
      "            argument test is deprecated and will be removed in future. Please \n",
      "            use 'predict_on_test_data' method instead.\n"
     ]
    },
    {
     "name": "stdout",
     "output_type": "stream",
     "text": [
      "6               0.80898              0.19102             \n"
     ]
    },
    {
     "name": "stderr",
     "output_type": "stream",
     "text": [
      "\n",
      "            argument test is deprecated and will be removed in future. Please \n",
      "            use 'predict_on_test_data' method instead.\n",
      "\n",
      "            argument test is deprecated and will be removed in future. Please \n",
      "            use 'predict_on_test_data' method instead.\n",
      "\n",
      "            argument test is deprecated and will be removed in future. Please \n",
      "            use 'predict_on_test_data' method instead.\n",
      "\n",
      "            argument test is deprecated and will be removed in future. Please \n",
      "            use 'predict_on_test_data' method instead.\n",
      "\n",
      "            argument test is deprecated and will be removed in future. Please \n",
      "            use 'predict_on_test_data' method instead.\n"
     ]
    },
    {
     "name": "stdout",
     "output_type": "stream",
     "text": [
      "7               1.04241              -0.04241            \n"
     ]
    },
    {
     "name": "stderr",
     "output_type": "stream",
     "text": [
      "\n",
      "            argument test is deprecated and will be removed in future. Please \n",
      "            use 'predict_on_test_data' method instead.\n",
      "\n",
      "            argument test is deprecated and will be removed in future. Please \n",
      "            use 'predict_on_test_data' method instead.\n",
      "\n",
      "            argument test is deprecated and will be removed in future. Please \n",
      "            use 'predict_on_test_data' method instead.\n",
      "\n",
      "            argument test is deprecated and will be removed in future. Please \n",
      "            use 'predict_on_test_data' method instead.\n",
      "\n",
      "            argument test is deprecated and will be removed in future. Please \n",
      "            use 'predict_on_test_data' method instead.\n"
     ]
    },
    {
     "name": "stdout",
     "output_type": "stream",
     "text": [
      "8               1.00918              -0.00918            \n"
     ]
    },
    {
     "name": "stderr",
     "output_type": "stream",
     "text": [
      "\n",
      "            argument test is deprecated and will be removed in future. Please \n",
      "            use 'predict_on_test_data' method instead.\n",
      "\n",
      "            argument test is deprecated and will be removed in future. Please \n",
      "            use 'predict_on_test_data' method instead.\n",
      "\n",
      "            argument test is deprecated and will be removed in future. Please \n",
      "            use 'predict_on_test_data' method instead.\n",
      "\n",
      "            argument test is deprecated and will be removed in future. Please \n",
      "            use 'predict_on_test_data' method instead.\n",
      "\n",
      "            argument test is deprecated and will be removed in future. Please \n",
      "            use 'predict_on_test_data' method instead.\n",
      "\n",
      "            argument test is deprecated and will be removed in future. Please \n",
      "            use 'predict_on_test_data' method instead.\n",
      "\n",
      "            argument test is deprecated and will be removed in future. Please \n",
      "            use 'predict_on_test_data' method instead.\n",
      "\n",
      "            argument test is deprecated and will be removed in future. Please \n",
      "            use 'predict_on_test_data' method instead.\n"
     ]
    },
    {
     "name": "stdout",
     "output_type": "stream",
     "text": [
      "9               1.08922              -0.08922            \n"
     ]
    },
    {
     "name": "stderr",
     "output_type": "stream",
     "text": [
      "\n",
      "            argument test is deprecated and will be removed in future. Please \n",
      "            use 'predict_on_test_data' method instead.\n",
      "\n",
      "            argument test is deprecated and will be removed in future. Please \n",
      "            use 'predict_on_test_data' method instead.\n",
      "\n",
      "            argument test is deprecated and will be removed in future. Please \n",
      "            use 'predict_on_test_data' method instead.\n",
      "\n",
      "            argument test is deprecated and will be removed in future. Please \n",
      "            use 'predict_on_test_data' method instead.\n",
      "\n",
      "            argument test is deprecated and will be removed in future. Please \n",
      "            use 'predict_on_test_data' method instead.\n"
     ]
    },
    {
     "name": "stdout",
     "output_type": "stream",
     "text": [
      "10              0.81720              0.18280             \n"
     ]
    },
    {
     "name": "stderr",
     "output_type": "stream",
     "text": [
      "\n",
      "            argument test is deprecated and will be removed in future. Please \n",
      "            use 'predict_on_test_data' method instead.\n",
      "\n",
      "            argument test is deprecated and will be removed in future. Please \n",
      "            use 'predict_on_test_data' method instead.\n",
      "\n",
      "            argument test is deprecated and will be removed in future. Please \n",
      "            use 'predict_on_test_data' method instead.\n",
      "\n",
      "            argument test is deprecated and will be removed in future. Please \n",
      "            use 'predict_on_test_data' method instead.\n",
      "\n",
      "            argument test is deprecated and will be removed in future. Please \n",
      "            use 'predict_on_test_data' method instead.\n"
     ]
    },
    {
     "name": "stdout",
     "output_type": "stream",
     "text": [
      "11              0.90958              0.09042             \n"
     ]
    },
    {
     "name": "stderr",
     "output_type": "stream",
     "text": [
      "\n",
      "            argument test is deprecated and will be removed in future. Please \n",
      "            use 'predict_on_test_data' method instead.\n",
      "\n",
      "            argument test is deprecated and will be removed in future. Please \n",
      "            use 'predict_on_test_data' method instead.\n",
      "\n",
      "            argument test is deprecated and will be removed in future. Please \n",
      "            use 'predict_on_test_data' method instead.\n",
      "\n",
      "            argument test is deprecated and will be removed in future. Please \n",
      "            use 'predict_on_test_data' method instead.\n",
      "\n",
      "            argument test is deprecated and will be removed in future. Please \n",
      "            use 'predict_on_test_data' method instead.\n"
     ]
    },
    {
     "name": "stdout",
     "output_type": "stream",
     "text": [
      "12              0.81080              0.18920             \n"
     ]
    },
    {
     "name": "stderr",
     "output_type": "stream",
     "text": [
      "\n",
      "            argument test is deprecated and will be removed in future. Please \n",
      "            use 'predict_on_test_data' method instead.\n",
      "\n",
      "            argument test is deprecated and will be removed in future. Please \n",
      "            use 'predict_on_test_data' method instead.\n",
      "\n",
      "            argument test is deprecated and will be removed in future. Please \n",
      "            use 'predict_on_test_data' method instead.\n",
      "\n",
      "            argument test is deprecated and will be removed in future. Please \n",
      "            use 'predict_on_test_data' method instead.\n",
      "\n",
      "            argument test is deprecated and will be removed in future. Please \n",
      "            use 'predict_on_test_data' method instead.\n"
     ]
    },
    {
     "name": "stdout",
     "output_type": "stream",
     "text": [
      "13              0.91662              0.08338             \n"
     ]
    },
    {
     "name": "stderr",
     "output_type": "stream",
     "text": [
      "\n",
      "            argument test is deprecated and will be removed in future. Please \n",
      "            use 'predict_on_test_data' method instead.\n",
      "\n",
      "            argument test is deprecated and will be removed in future. Please \n",
      "            use 'predict_on_test_data' method instead.\n",
      "\n",
      "            argument test is deprecated and will be removed in future. Please \n",
      "            use 'predict_on_test_data' method instead.\n",
      "\n",
      "            argument test is deprecated and will be removed in future. Please \n",
      "            use 'predict_on_test_data' method instead.\n",
      "\n",
      "            argument test is deprecated and will be removed in future. Please \n",
      "            use 'predict_on_test_data' method instead.\n"
     ]
    },
    {
     "name": "stdout",
     "output_type": "stream",
     "text": [
      "14              1.03977              -0.03977            \n"
     ]
    },
    {
     "name": "stderr",
     "output_type": "stream",
     "text": [
      "\n",
      "            argument test is deprecated and will be removed in future. Please \n",
      "            use 'predict_on_test_data' method instead.\n",
      "\n",
      "            argument test is deprecated and will be removed in future. Please \n",
      "            use 'predict_on_test_data' method instead.\n",
      "\n",
      "            argument test is deprecated and will be removed in future. Please \n",
      "            use 'predict_on_test_data' method instead.\n",
      "\n",
      "            argument test is deprecated and will be removed in future. Please \n",
      "            use 'predict_on_test_data' method instead.\n",
      "\n",
      "            argument test is deprecated and will be removed in future. Please \n",
      "            use 'predict_on_test_data' method instead.\n"
     ]
    },
    {
     "name": "stdout",
     "output_type": "stream",
     "text": [
      "15              0.80154              0.19846             \n"
     ]
    },
    {
     "name": "stderr",
     "output_type": "stream",
     "text": [
      "\n",
      "            argument test is deprecated and will be removed in future. Please \n",
      "            use 'predict_on_test_data' method instead.\n",
      "\n",
      "            argument test is deprecated and will be removed in future. Please \n",
      "            use 'predict_on_test_data' method instead.\n",
      "\n",
      "            argument test is deprecated and will be removed in future. Please \n",
      "            use 'predict_on_test_data' method instead.\n",
      "\n",
      "            argument test is deprecated and will be removed in future. Please \n",
      "            use 'predict_on_test_data' method instead.\n",
      "\n",
      "            argument test is deprecated and will be removed in future. Please \n",
      "            use 'predict_on_test_data' method instead.\n"
     ]
    },
    {
     "name": "stdout",
     "output_type": "stream",
     "text": [
      "16              0.81011              0.18989             \n"
     ]
    },
    {
     "name": "stderr",
     "output_type": "stream",
     "text": [
      "\n",
      "            argument test is deprecated and will be removed in future. Please \n",
      "            use 'predict_on_test_data' method instead.\n",
      "\n",
      "            argument test is deprecated and will be removed in future. Please \n",
      "            use 'predict_on_test_data' method instead.\n",
      "\n",
      "            argument test is deprecated and will be removed in future. Please \n",
      "            use 'predict_on_test_data' method instead.\n",
      "\n",
      "            argument test is deprecated and will be removed in future. Please \n",
      "            use 'predict_on_test_data' method instead.\n",
      "\n",
      "            argument test is deprecated and will be removed in future. Please \n",
      "            use 'predict_on_test_data' method instead.\n"
     ]
    },
    {
     "name": "stdout",
     "output_type": "stream",
     "text": [
      "17              0.84773              0.15227             \n"
     ]
    },
    {
     "name": "stderr",
     "output_type": "stream",
     "text": [
      "\n",
      "            argument test is deprecated and will be removed in future. Please \n",
      "            use 'predict_on_test_data' method instead.\n",
      "\n",
      "            argument test is deprecated and will be removed in future. Please \n",
      "            use 'predict_on_test_data' method instead.\n",
      "\n",
      "            argument test is deprecated and will be removed in future. Please \n",
      "            use 'predict_on_test_data' method instead.\n",
      "\n",
      "            argument test is deprecated and will be removed in future. Please \n",
      "            use 'predict_on_test_data' method instead.\n",
      "\n",
      "            argument test is deprecated and will be removed in future. Please \n",
      "            use 'predict_on_test_data' method instead.\n"
     ]
    },
    {
     "name": "stdout",
     "output_type": "stream",
     "text": [
      "18              0.83578              0.16422             \n"
     ]
    },
    {
     "name": "stderr",
     "output_type": "stream",
     "text": [
      "\n",
      "            argument test is deprecated and will be removed in future. Please \n",
      "            use 'predict_on_test_data' method instead.\n",
      "\n",
      "            argument test is deprecated and will be removed in future. Please \n",
      "            use 'predict_on_test_data' method instead.\n",
      "\n",
      "            argument test is deprecated and will be removed in future. Please \n",
      "            use 'predict_on_test_data' method instead.\n",
      "\n",
      "            argument test is deprecated and will be removed in future. Please \n",
      "            use 'predict_on_test_data' method instead.\n",
      "\n",
      "            argument test is deprecated and will be removed in future. Please \n",
      "            use 'predict_on_test_data' method instead.\n"
     ]
    },
    {
     "name": "stdout",
     "output_type": "stream",
     "text": [
      "19              0.81106              0.18894             \n"
     ]
    },
    {
     "name": "stderr",
     "output_type": "stream",
     "text": [
      "\n",
      "            argument test is deprecated and will be removed in future. Please \n",
      "            use 'predict_on_test_data' method instead.\n",
      "\n",
      "            argument test is deprecated and will be removed in future. Please \n",
      "            use 'predict_on_test_data' method instead.\n",
      "\n",
      "            argument test is deprecated and will be removed in future. Please \n",
      "            use 'predict_on_test_data' method instead.\n",
      "\n",
      "            argument test is deprecated and will be removed in future. Please \n",
      "            use 'predict_on_test_data' method instead.\n",
      "\n",
      "            argument test is deprecated and will be removed in future. Please \n",
      "            use 'predict_on_test_data' method instead.\n"
     ]
    },
    {
     "name": "stdout",
     "output_type": "stream",
     "text": [
      "20              0.82395              0.17605             \n"
     ]
    },
    {
     "name": "stderr",
     "output_type": "stream",
     "text": [
      "\n",
      "            argument test is deprecated and will be removed in future. Please \n",
      "            use 'predict_on_test_data' method instead.\n",
      "\n",
      "            argument test is deprecated and will be removed in future. Please \n",
      "            use 'predict_on_test_data' method instead.\n",
      "\n",
      "            argument test is deprecated and will be removed in future. Please \n",
      "            use 'predict_on_test_data' method instead.\n",
      "\n",
      "            argument test is deprecated and will be removed in future. Please \n",
      "            use 'predict_on_test_data' method instead.\n",
      "\n",
      "            argument test is deprecated and will be removed in future. Please \n",
      "            use 'predict_on_test_data' method instead.\n"
     ]
    },
    {
     "name": "stdout",
     "output_type": "stream",
     "text": [
      "21              0.80951              0.19049             \n"
     ]
    },
    {
     "name": "stderr",
     "output_type": "stream",
     "text": [
      "\n",
      "            argument test is deprecated and will be removed in future. Please \n",
      "            use 'predict_on_test_data' method instead.\n",
      "\n",
      "            argument test is deprecated and will be removed in future. Please \n",
      "            use 'predict_on_test_data' method instead.\n",
      "\n",
      "            argument test is deprecated and will be removed in future. Please \n",
      "            use 'predict_on_test_data' method instead.\n",
      "\n",
      "            argument test is deprecated and will be removed in future. Please \n",
      "            use 'predict_on_test_data' method instead.\n",
      "\n",
      "            argument test is deprecated and will be removed in future. Please \n",
      "            use 'predict_on_test_data' method instead.\n"
     ]
    },
    {
     "name": "stdout",
     "output_type": "stream",
     "text": [
      "22              0.83577              0.16423             \n"
     ]
    },
    {
     "name": "stderr",
     "output_type": "stream",
     "text": [
      "\n",
      "            argument test is deprecated and will be removed in future. Please \n",
      "            use 'predict_on_test_data' method instead.\n",
      "\n",
      "            argument test is deprecated and will be removed in future. Please \n",
      "            use 'predict_on_test_data' method instead.\n",
      "\n",
      "            argument test is deprecated and will be removed in future. Please \n",
      "            use 'predict_on_test_data' method instead.\n",
      "\n",
      "            argument test is deprecated and will be removed in future. Please \n",
      "            use 'predict_on_test_data' method instead.\n",
      "\n",
      "            argument test is deprecated and will be removed in future. Please \n",
      "            use 'predict_on_test_data' method instead.\n"
     ]
    },
    {
     "name": "stdout",
     "output_type": "stream",
     "text": [
      "23              1.10348              -0.10348            \n"
     ]
    },
    {
     "name": "stderr",
     "output_type": "stream",
     "text": [
      "\n",
      "            argument test is deprecated and will be removed in future. Please \n",
      "            use 'predict_on_test_data' method instead.\n",
      "\n",
      "            argument test is deprecated and will be removed in future. Please \n",
      "            use 'predict_on_test_data' method instead.\n",
      "\n",
      "            argument test is deprecated and will be removed in future. Please \n",
      "            use 'predict_on_test_data' method instead.\n",
      "\n",
      "            argument test is deprecated and will be removed in future. Please \n",
      "            use 'predict_on_test_data' method instead.\n",
      "\n",
      "            argument test is deprecated and will be removed in future. Please \n",
      "            use 'predict_on_test_data' method instead.\n"
     ]
    },
    {
     "name": "stdout",
     "output_type": "stream",
     "text": [
      "24              0.81620              0.18380             \n"
     ]
    },
    {
     "name": "stderr",
     "output_type": "stream",
     "text": [
      "\n",
      "            argument test is deprecated and will be removed in future. Please \n",
      "            use 'predict_on_test_data' method instead.\n",
      "\n",
      "            argument test is deprecated and will be removed in future. Please \n",
      "            use 'predict_on_test_data' method instead.\n",
      "\n",
      "            argument test is deprecated and will be removed in future. Please \n",
      "            use 'predict_on_test_data' method instead.\n",
      "\n",
      "            argument test is deprecated and will be removed in future. Please \n",
      "            use 'predict_on_test_data' method instead.\n",
      "\n",
      "            argument test is deprecated and will be removed in future. Please \n",
      "            use 'predict_on_test_data' method instead.\n"
     ]
    },
    {
     "name": "stdout",
     "output_type": "stream",
     "text": [
      "25              0.82285              0.17715             \n"
     ]
    },
    {
     "name": "stderr",
     "output_type": "stream",
     "text": [
      "\n",
      "            argument test is deprecated and will be removed in future. Please \n",
      "            use 'predict_on_test_data' method instead.\n",
      "\n",
      "            argument test is deprecated and will be removed in future. Please \n",
      "            use 'predict_on_test_data' method instead.\n",
      "\n",
      "            argument test is deprecated and will be removed in future. Please \n",
      "            use 'predict_on_test_data' method instead.\n",
      "\n",
      "            argument test is deprecated and will be removed in future. Please \n",
      "            use 'predict_on_test_data' method instead.\n",
      "\n",
      "            argument test is deprecated and will be removed in future. Please \n",
      "            use 'predict_on_test_data' method instead.\n"
     ]
    },
    {
     "name": "stdout",
     "output_type": "stream",
     "text": [
      "26              0.81011              0.18989             \n"
     ]
    },
    {
     "name": "stderr",
     "output_type": "stream",
     "text": [
      "\n",
      "            argument test is deprecated and will be removed in future. Please \n",
      "            use 'predict_on_test_data' method instead.\n",
      "\n",
      "            argument test is deprecated and will be removed in future. Please \n",
      "            use 'predict_on_test_data' method instead.\n",
      "\n",
      "            argument test is deprecated and will be removed in future. Please \n",
      "            use 'predict_on_test_data' method instead.\n",
      "\n",
      "            argument test is deprecated and will be removed in future. Please \n",
      "            use 'predict_on_test_data' method instead.\n",
      "\n",
      "            argument test is deprecated and will be removed in future. Please \n",
      "            use 'predict_on_test_data' method instead.\n"
     ]
    },
    {
     "name": "stdout",
     "output_type": "stream",
     "text": [
      "27              0.85432              0.14568             \n"
     ]
    },
    {
     "name": "stderr",
     "output_type": "stream",
     "text": [
      "\n",
      "            argument test is deprecated and will be removed in future. Please \n",
      "            use 'predict_on_test_data' method instead.\n",
      "\n",
      "            argument test is deprecated and will be removed in future. Please \n",
      "            use 'predict_on_test_data' method instead.\n",
      "\n",
      "            argument test is deprecated and will be removed in future. Please \n",
      "            use 'predict_on_test_data' method instead.\n",
      "\n",
      "            argument test is deprecated and will be removed in future. Please \n",
      "            use 'predict_on_test_data' method instead.\n",
      "\n",
      "            argument test is deprecated and will be removed in future. Please \n",
      "            use 'predict_on_test_data' method instead.\n"
     ]
    },
    {
     "name": "stdout",
     "output_type": "stream",
     "text": [
      "28              0.80938              0.19062             \n"
     ]
    },
    {
     "name": "stderr",
     "output_type": "stream",
     "text": [
      "\n",
      "            argument test is deprecated and will be removed in future. Please \n",
      "            use 'predict_on_test_data' method instead.\n",
      "\n",
      "            argument test is deprecated and will be removed in future. Please \n",
      "            use 'predict_on_test_data' method instead.\n",
      "\n",
      "            argument test is deprecated and will be removed in future. Please \n",
      "            use 'predict_on_test_data' method instead.\n",
      "\n",
      "            argument test is deprecated and will be removed in future. Please \n",
      "            use 'predict_on_test_data' method instead.\n",
      "\n",
      "            argument test is deprecated and will be removed in future. Please \n",
      "            use 'predict_on_test_data' method instead.\n"
     ]
    },
    {
     "name": "stdout",
     "output_type": "stream",
     "text": [
      "29              1.01737              -0.01737            \n"
     ]
    },
    {
     "name": "stderr",
     "output_type": "stream",
     "text": [
      "\n",
      "            argument test is deprecated and will be removed in future. Please \n",
      "            use 'predict_on_test_data' method instead.\n",
      "\n",
      "            argument test is deprecated and will be removed in future. Please \n",
      "            use 'predict_on_test_data' method instead.\n",
      "\n",
      "            argument test is deprecated and will be removed in future. Please \n",
      "            use 'predict_on_test_data' method instead.\n",
      "\n",
      "            argument test is deprecated and will be removed in future. Please \n",
      "            use 'predict_on_test_data' method instead.\n",
      "\n",
      "            argument test is deprecated and will be removed in future. Please \n",
      "            use 'predict_on_test_data' method instead.\n"
     ]
    },
    {
     "name": "stdout",
     "output_type": "stream",
     "text": [
      "30              0.81163              0.18837             \n"
     ]
    },
    {
     "name": "stderr",
     "output_type": "stream",
     "text": [
      "\n",
      "            argument test is deprecated and will be removed in future. Please \n",
      "            use 'predict_on_test_data' method instead.\n",
      "\n",
      "            argument test is deprecated and will be removed in future. Please \n",
      "            use 'predict_on_test_data' method instead.\n",
      "\n",
      "            argument test is deprecated and will be removed in future. Please \n",
      "            use 'predict_on_test_data' method instead.\n",
      "\n",
      "            argument test is deprecated and will be removed in future. Please \n",
      "            use 'predict_on_test_data' method instead.\n",
      "\n",
      "            argument test is deprecated and will be removed in future. Please \n",
      "            use 'predict_on_test_data' method instead.\n"
     ]
    },
    {
     "name": "stdout",
     "output_type": "stream",
     "text": [
      "31              0.80957              0.19043             \n"
     ]
    },
    {
     "name": "stderr",
     "output_type": "stream",
     "text": [
      "\n",
      "            argument test is deprecated and will be removed in future. Please \n",
      "            use 'predict_on_test_data' method instead.\n",
      "\n",
      "            argument test is deprecated and will be removed in future. Please \n",
      "            use 'predict_on_test_data' method instead.\n",
      "\n",
      "            argument test is deprecated and will be removed in future. Please \n",
      "            use 'predict_on_test_data' method instead.\n",
      "\n",
      "            argument test is deprecated and will be removed in future. Please \n",
      "            use 'predict_on_test_data' method instead.\n",
      "\n",
      "            argument test is deprecated and will be removed in future. Please \n",
      "            use 'predict_on_test_data' method instead.\n"
     ]
    },
    {
     "name": "stdout",
     "output_type": "stream",
     "text": [
      "32              0.82288              0.17712             \n"
     ]
    },
    {
     "name": "stderr",
     "output_type": "stream",
     "text": [
      "\n",
      "            argument test is deprecated and will be removed in future. Please \n",
      "            use 'predict_on_test_data' method instead.\n",
      "\n",
      "            argument test is deprecated and will be removed in future. Please \n",
      "            use 'predict_on_test_data' method instead.\n",
      "\n",
      "            argument test is deprecated and will be removed in future. Please \n",
      "            use 'predict_on_test_data' method instead.\n",
      "\n",
      "            argument test is deprecated and will be removed in future. Please \n",
      "            use 'predict_on_test_data' method instead.\n",
      "\n",
      "            argument test is deprecated and will be removed in future. Please \n",
      "            use 'predict_on_test_data' method instead.\n"
     ]
    },
    {
     "name": "stdout",
     "output_type": "stream",
     "text": [
      "33              0.80957              0.19043             \n"
     ]
    },
    {
     "name": "stderr",
     "output_type": "stream",
     "text": [
      "\n",
      "            argument test is deprecated and will be removed in future. Please \n",
      "            use 'predict_on_test_data' method instead.\n",
      "\n",
      "            argument test is deprecated and will be removed in future. Please \n",
      "            use 'predict_on_test_data' method instead.\n",
      "\n",
      "            argument test is deprecated and will be removed in future. Please \n",
      "            use 'predict_on_test_data' method instead.\n",
      "\n",
      "            argument test is deprecated and will be removed in future. Please \n",
      "            use 'predict_on_test_data' method instead.\n",
      "\n",
      "            argument test is deprecated and will be removed in future. Please \n",
      "            use 'predict_on_test_data' method instead.\n"
     ]
    },
    {
     "name": "stdout",
     "output_type": "stream",
     "text": [
      "34              0.80651              0.19349             \n"
     ]
    },
    {
     "name": "stderr",
     "output_type": "stream",
     "text": [
      "\n",
      "            argument test is deprecated and will be removed in future. Please \n",
      "            use 'predict_on_test_data' method instead.\n",
      "\n",
      "            argument test is deprecated and will be removed in future. Please \n",
      "            use 'predict_on_test_data' method instead.\n",
      "\n",
      "            argument test is deprecated and will be removed in future. Please \n",
      "            use 'predict_on_test_data' method instead.\n",
      "\n",
      "            argument test is deprecated and will be removed in future. Please \n",
      "            use 'predict_on_test_data' method instead.\n",
      "\n",
      "            argument test is deprecated and will be removed in future. Please \n",
      "            use 'predict_on_test_data' method instead.\n"
     ]
    },
    {
     "name": "stdout",
     "output_type": "stream",
     "text": [
      "35              0.80798              0.19202             \n"
     ]
    },
    {
     "name": "stderr",
     "output_type": "stream",
     "text": [
      "\n",
      "            argument test is deprecated and will be removed in future. Please \n",
      "            use 'predict_on_test_data' method instead.\n",
      "\n",
      "            argument test is deprecated and will be removed in future. Please \n",
      "            use 'predict_on_test_data' method instead.\n",
      "\n",
      "            argument test is deprecated and will be removed in future. Please \n",
      "            use 'predict_on_test_data' method instead.\n",
      "\n",
      "            argument test is deprecated and will be removed in future. Please \n",
      "            use 'predict_on_test_data' method instead.\n",
      "\n",
      "            argument test is deprecated and will be removed in future. Please \n",
      "            use 'predict_on_test_data' method instead.\n"
     ]
    },
    {
     "name": "stdout",
     "output_type": "stream",
     "text": [
      "36              0.81120              0.18880             \n"
     ]
    },
    {
     "name": "stderr",
     "output_type": "stream",
     "text": [
      "\n",
      "            argument test is deprecated and will be removed in future. Please \n",
      "            use 'predict_on_test_data' method instead.\n",
      "\n",
      "            argument test is deprecated and will be removed in future. Please \n",
      "            use 'predict_on_test_data' method instead.\n",
      "\n",
      "            argument test is deprecated and will be removed in future. Please \n",
      "            use 'predict_on_test_data' method instead.\n",
      "\n",
      "            argument test is deprecated and will be removed in future. Please \n",
      "            use 'predict_on_test_data' method instead.\n",
      "\n",
      "            argument test is deprecated and will be removed in future. Please \n",
      "            use 'predict_on_test_data' method instead.\n"
     ]
    },
    {
     "name": "stdout",
     "output_type": "stream",
     "text": [
      "37              0.84547              0.15453             \n"
     ]
    },
    {
     "name": "stderr",
     "output_type": "stream",
     "text": [
      "\n",
      "            argument test is deprecated and will be removed in future. Please \n",
      "            use 'predict_on_test_data' method instead.\n",
      "\n",
      "            argument test is deprecated and will be removed in future. Please \n",
      "            use 'predict_on_test_data' method instead.\n",
      "\n",
      "            argument test is deprecated and will be removed in future. Please \n",
      "            use 'predict_on_test_data' method instead.\n",
      "\n",
      "            argument test is deprecated and will be removed in future. Please \n",
      "            use 'predict_on_test_data' method instead.\n",
      "\n",
      "            argument test is deprecated and will be removed in future. Please \n",
      "            use 'predict_on_test_data' method instead.\n"
     ]
    },
    {
     "name": "stdout",
     "output_type": "stream",
     "text": [
      "38              1.10348              -0.10348            \n"
     ]
    },
    {
     "name": "stderr",
     "output_type": "stream",
     "text": [
      "\n",
      "            argument test is deprecated and will be removed in future. Please \n",
      "            use 'predict_on_test_data' method instead.\n",
      "\n",
      "            argument test is deprecated and will be removed in future. Please \n",
      "            use 'predict_on_test_data' method instead.\n",
      "\n",
      "            argument test is deprecated and will be removed in future. Please \n",
      "            use 'predict_on_test_data' method instead.\n",
      "\n",
      "            argument test is deprecated and will be removed in future. Please \n",
      "            use 'predict_on_test_data' method instead.\n",
      "\n",
      "            argument test is deprecated and will be removed in future. Please \n",
      "            use 'predict_on_test_data' method instead.\n"
     ]
    },
    {
     "name": "stdout",
     "output_type": "stream",
     "text": [
      "39              0.82228              0.17772             \n"
     ]
    },
    {
     "name": "stderr",
     "output_type": "stream",
     "text": [
      "\n",
      "            argument test is deprecated and will be removed in future. Please \n",
      "            use 'predict_on_test_data' method instead.\n",
      "\n",
      "            argument test is deprecated and will be removed in future. Please \n",
      "            use 'predict_on_test_data' method instead.\n",
      "\n",
      "            argument test is deprecated and will be removed in future. Please \n",
      "            use 'predict_on_test_data' method instead.\n",
      "\n",
      "            argument test is deprecated and will be removed in future. Please \n",
      "            use 'predict_on_test_data' method instead.\n",
      "\n",
      "            argument test is deprecated and will be removed in future. Please \n",
      "            use 'predict_on_test_data' method instead.\n"
     ]
    },
    {
     "name": "stdout",
     "output_type": "stream",
     "text": [
      "40              0.85210              0.14790             \n"
     ]
    },
    {
     "name": "stderr",
     "output_type": "stream",
     "text": [
      "\n",
      "            argument test is deprecated and will be removed in future. Please \n",
      "            use 'predict_on_test_data' method instead.\n",
      "\n",
      "            argument test is deprecated and will be removed in future. Please \n",
      "            use 'predict_on_test_data' method instead.\n",
      "\n",
      "            argument test is deprecated and will be removed in future. Please \n",
      "            use 'predict_on_test_data' method instead.\n",
      "\n",
      "            argument test is deprecated and will be removed in future. Please \n",
      "            use 'predict_on_test_data' method instead.\n",
      "\n",
      "            argument test is deprecated and will be removed in future. Please \n",
      "            use 'predict_on_test_data' method instead.\n"
     ]
    },
    {
     "name": "stdout",
     "output_type": "stream",
     "text": [
      "41              0.81127              0.18873             \n"
     ]
    },
    {
     "name": "stderr",
     "output_type": "stream",
     "text": [
      "\n",
      "            argument test is deprecated and will be removed in future. Please \n",
      "            use 'predict_on_test_data' method instead.\n",
      "\n",
      "            argument test is deprecated and will be removed in future. Please \n",
      "            use 'predict_on_test_data' method instead.\n",
      "\n",
      "            argument test is deprecated and will be removed in future. Please \n",
      "            use 'predict_on_test_data' method instead.\n",
      "\n",
      "            argument test is deprecated and will be removed in future. Please \n",
      "            use 'predict_on_test_data' method instead.\n",
      "\n",
      "            argument test is deprecated and will be removed in future. Please \n",
      "            use 'predict_on_test_data' method instead.\n"
     ]
    },
    {
     "name": "stdout",
     "output_type": "stream",
     "text": [
      "42              0.80474              0.19526             \n"
     ]
    },
    {
     "name": "stderr",
     "output_type": "stream",
     "text": [
      "\n",
      "            argument test is deprecated and will be removed in future. Please \n",
      "            use 'predict_on_test_data' method instead.\n",
      "\n",
      "            argument test is deprecated and will be removed in future. Please \n",
      "            use 'predict_on_test_data' method instead.\n",
      "\n",
      "            argument test is deprecated and will be removed in future. Please \n",
      "            use 'predict_on_test_data' method instead.\n",
      "\n",
      "            argument test is deprecated and will be removed in future. Please \n",
      "            use 'predict_on_test_data' method instead.\n",
      "\n",
      "            argument test is deprecated and will be removed in future. Please \n",
      "            use 'predict_on_test_data' method instead.\n"
     ]
    },
    {
     "name": "stdout",
     "output_type": "stream",
     "text": [
      "43              0.85714              0.14286             \n"
     ]
    },
    {
     "name": "stderr",
     "output_type": "stream",
     "text": [
      "\n",
      "            argument test is deprecated and will be removed in future. Please \n",
      "            use 'predict_on_test_data' method instead.\n",
      "\n",
      "            argument test is deprecated and will be removed in future. Please \n",
      "            use 'predict_on_test_data' method instead.\n",
      "\n",
      "            argument test is deprecated and will be removed in future. Please \n",
      "            use 'predict_on_test_data' method instead.\n",
      "\n",
      "            argument test is deprecated and will be removed in future. Please \n",
      "            use 'predict_on_test_data' method instead.\n",
      "\n",
      "            argument test is deprecated and will be removed in future. Please \n",
      "            use 'predict_on_test_data' method instead.\n"
     ]
    },
    {
     "name": "stdout",
     "output_type": "stream",
     "text": [
      "44              0.85509              0.14491             \n"
     ]
    },
    {
     "name": "stderr",
     "output_type": "stream",
     "text": [
      "\n",
      "            argument test is deprecated and will be removed in future. Please \n",
      "            use 'predict_on_test_data' method instead.\n",
      "\n",
      "            argument test is deprecated and will be removed in future. Please \n",
      "            use 'predict_on_test_data' method instead.\n",
      "\n",
      "            argument test is deprecated and will be removed in future. Please \n",
      "            use 'predict_on_test_data' method instead.\n",
      "\n",
      "            argument test is deprecated and will be removed in future. Please \n",
      "            use 'predict_on_test_data' method instead.\n",
      "\n",
      "            argument test is deprecated and will be removed in future. Please \n",
      "            use 'predict_on_test_data' method instead.\n"
     ]
    },
    {
     "name": "stdout",
     "output_type": "stream",
     "text": [
      "45              0.80784              0.19216             \n"
     ]
    },
    {
     "name": "stderr",
     "output_type": "stream",
     "text": [
      "\n",
      "            argument test is deprecated and will be removed in future. Please \n",
      "            use 'predict_on_test_data' method instead.\n",
      "\n",
      "            argument test is deprecated and will be removed in future. Please \n",
      "            use 'predict_on_test_data' method instead.\n",
      "\n",
      "            argument test is deprecated and will be removed in future. Please \n",
      "            use 'predict_on_test_data' method instead.\n",
      "\n",
      "            argument test is deprecated and will be removed in future. Please \n",
      "            use 'predict_on_test_data' method instead.\n",
      "\n",
      "            argument test is deprecated and will be removed in future. Please \n",
      "            use 'predict_on_test_data' method instead.\n"
     ]
    },
    {
     "name": "stdout",
     "output_type": "stream",
     "text": [
      "46              0.81651              0.18349             \n"
     ]
    },
    {
     "name": "stderr",
     "output_type": "stream",
     "text": [
      "\n",
      "            argument test is deprecated and will be removed in future. Please \n",
      "            use 'predict_on_test_data' method instead.\n",
      "\n",
      "            argument test is deprecated and will be removed in future. Please \n",
      "            use 'predict_on_test_data' method instead.\n",
      "\n",
      "            argument test is deprecated and will be removed in future. Please \n",
      "            use 'predict_on_test_data' method instead.\n",
      "\n",
      "            argument test is deprecated and will be removed in future. Please \n",
      "            use 'predict_on_test_data' method instead.\n",
      "\n",
      "            argument test is deprecated and will be removed in future. Please \n",
      "            use 'predict_on_test_data' method instead.\n"
     ]
    },
    {
     "name": "stdout",
     "output_type": "stream",
     "text": [
      "47              0.81049              0.18951             \n"
     ]
    },
    {
     "name": "stderr",
     "output_type": "stream",
     "text": [
      "\n",
      "            argument test is deprecated and will be removed in future. Please \n",
      "            use 'predict_on_test_data' method instead.\n",
      "\n",
      "            argument test is deprecated and will be removed in future. Please \n",
      "            use 'predict_on_test_data' method instead.\n",
      "\n",
      "            argument test is deprecated and will be removed in future. Please \n",
      "            use 'predict_on_test_data' method instead.\n",
      "\n",
      "            argument test is deprecated and will be removed in future. Please \n",
      "            use 'predict_on_test_data' method instead.\n",
      "\n",
      "            argument test is deprecated and will be removed in future. Please \n",
      "            use 'predict_on_test_data' method instead.\n"
     ]
    },
    {
     "name": "stdout",
     "output_type": "stream",
     "text": [
      "48              0.80938              0.19062             \n"
     ]
    },
    {
     "name": "stderr",
     "output_type": "stream",
     "text": [
      "\n",
      "            argument test is deprecated and will be removed in future. Please \n",
      "            use 'predict_on_test_data' method instead.\n",
      "\n",
      "            argument test is deprecated and will be removed in future. Please \n",
      "            use 'predict_on_test_data' method instead.\n",
      "\n",
      "            argument test is deprecated and will be removed in future. Please \n",
      "            use 'predict_on_test_data' method instead.\n",
      "\n",
      "            argument test is deprecated and will be removed in future. Please \n",
      "            use 'predict_on_test_data' method instead.\n",
      "\n",
      "            argument test is deprecated and will be removed in future. Please \n",
      "            use 'predict_on_test_data' method instead.\n"
     ]
    },
    {
     "name": "stdout",
     "output_type": "stream",
     "text": [
      "49              0.81126              0.18874             \n"
     ]
    },
    {
     "name": "stderr",
     "output_type": "stream",
     "text": [
      "\n",
      "            argument test is deprecated and will be removed in future. Please \n",
      "            use 'predict_on_test_data' method instead.\n",
      "\n",
      "            argument test is deprecated and will be removed in future. Please \n",
      "            use 'predict_on_test_data' method instead.\n",
      "\n",
      "            argument test is deprecated and will be removed in future. Please \n",
      "            use 'predict_on_test_data' method instead.\n",
      "\n",
      "            argument test is deprecated and will be removed in future. Please \n",
      "            use 'predict_on_test_data' method instead.\n",
      "\n",
      "            argument test is deprecated and will be removed in future. Please \n",
      "            use 'predict_on_test_data' method instead.\n"
     ]
    },
    {
     "name": "stdout",
     "output_type": "stream",
     "text": [
      "50              0.82775              0.17225             \n"
     ]
    },
    {
     "name": "stderr",
     "output_type": "stream",
     "text": [
      "The objective has been evaluated at this point before.\n",
      "\n",
      "            argument test is deprecated and will be removed in future. Please \n",
      "            use 'predict_on_test_data' method instead.\n",
      "\n",
      "            argument test is deprecated and will be removed in future. Please \n",
      "            use 'predict_on_test_data' method instead.\n",
      "\n",
      "            argument test is deprecated and will be removed in future. Please \n",
      "            use 'predict_on_test_data' method instead.\n",
      "\n",
      "            argument test is deprecated and will be removed in future. Please \n",
      "            use 'predict_on_test_data' method instead.\n",
      "\n",
      "            argument test is deprecated and will be removed in future. Please \n",
      "            use 'predict_on_test_data' method instead.\n"
     ]
    },
    {
     "name": "stdout",
     "output_type": "stream",
     "text": [
      "51              0.80957              0.19043             \n"
     ]
    },
    {
     "name": "stderr",
     "output_type": "stream",
     "text": [
      "\n",
      "            argument test is deprecated and will be removed in future. Please \n",
      "            use 'predict_on_test_data' method instead.\n",
      "\n",
      "            argument test is deprecated and will be removed in future. Please \n",
      "            use 'predict_on_test_data' method instead.\n",
      "\n",
      "            argument test is deprecated and will be removed in future. Please \n",
      "            use 'predict_on_test_data' method instead.\n",
      "\n",
      "            argument test is deprecated and will be removed in future. Please \n",
      "            use 'predict_on_test_data' method instead.\n",
      "\n",
      "            argument test is deprecated and will be removed in future. Please \n",
      "            use 'predict_on_test_data' method instead.\n"
     ]
    },
    {
     "name": "stdout",
     "output_type": "stream",
     "text": [
      "52              0.82168              0.17832             \n"
     ]
    },
    {
     "name": "stderr",
     "output_type": "stream",
     "text": [
      "The objective has been evaluated at this point before.\n",
      "\n",
      "            argument test is deprecated and will be removed in future. Please \n",
      "            use 'predict_on_test_data' method instead.\n",
      "\n",
      "            argument test is deprecated and will be removed in future. Please \n",
      "            use 'predict_on_test_data' method instead.\n",
      "\n",
      "            argument test is deprecated and will be removed in future. Please \n",
      "            use 'predict_on_test_data' method instead.\n",
      "\n",
      "            argument test is deprecated and will be removed in future. Please \n",
      "            use 'predict_on_test_data' method instead.\n",
      "\n",
      "            argument test is deprecated and will be removed in future. Please \n",
      "            use 'predict_on_test_data' method instead.\n"
     ]
    },
    {
     "name": "stdout",
     "output_type": "stream",
     "text": [
      "53              0.80957              0.19043             \n"
     ]
    },
    {
     "name": "stderr",
     "output_type": "stream",
     "text": [
      "\n",
      "            argument test is deprecated and will be removed in future. Please \n",
      "            use 'predict_on_test_data' method instead.\n",
      "\n",
      "            argument test is deprecated and will be removed in future. Please \n",
      "            use 'predict_on_test_data' method instead.\n",
      "\n",
      "            argument test is deprecated and will be removed in future. Please \n",
      "            use 'predict_on_test_data' method instead.\n",
      "\n",
      "            argument test is deprecated and will be removed in future. Please \n",
      "            use 'predict_on_test_data' method instead.\n",
      "\n",
      "            argument test is deprecated and will be removed in future. Please \n",
      "            use 'predict_on_test_data' method instead.\n"
     ]
    },
    {
     "name": "stdout",
     "output_type": "stream",
     "text": [
      "54              0.80912              0.19088             \n"
     ]
    },
    {
     "name": "stderr",
     "output_type": "stream",
     "text": [
      "\n",
      "            argument test is deprecated and will be removed in future. Please \n",
      "            use 'predict_on_test_data' method instead.\n",
      "\n",
      "            argument test is deprecated and will be removed in future. Please \n",
      "            use 'predict_on_test_data' method instead.\n",
      "\n",
      "            argument test is deprecated and will be removed in future. Please \n",
      "            use 'predict_on_test_data' method instead.\n",
      "\n",
      "            argument test is deprecated and will be removed in future. Please \n",
      "            use 'predict_on_test_data' method instead.\n",
      "\n",
      "            argument test is deprecated and will be removed in future. Please \n",
      "            use 'predict_on_test_data' method instead.\n"
     ]
    },
    {
     "name": "stdout",
     "output_type": "stream",
     "text": [
      "55              0.80197              0.19803             \n"
     ]
    },
    {
     "name": "stderr",
     "output_type": "stream",
     "text": [
      "\n",
      "            argument test is deprecated and will be removed in future. Please \n",
      "            use 'predict_on_test_data' method instead.\n",
      "\n",
      "            argument test is deprecated and will be removed in future. Please \n",
      "            use 'predict_on_test_data' method instead.\n",
      "\n",
      "            argument test is deprecated and will be removed in future. Please \n",
      "            use 'predict_on_test_data' method instead.\n",
      "\n",
      "            argument test is deprecated and will be removed in future. Please \n",
      "            use 'predict_on_test_data' method instead.\n",
      "\n",
      "            argument test is deprecated and will be removed in future. Please \n",
      "            use 'predict_on_test_data' method instead.\n"
     ]
    },
    {
     "name": "stdout",
     "output_type": "stream",
     "text": [
      "56              0.81139              0.18861             \n"
     ]
    },
    {
     "name": "stderr",
     "output_type": "stream",
     "text": [
      "\n",
      "            argument test is deprecated and will be removed in future. Please \n",
      "            use 'predict_on_test_data' method instead.\n",
      "\n",
      "            argument test is deprecated and will be removed in future. Please \n",
      "            use 'predict_on_test_data' method instead.\n",
      "\n",
      "            argument test is deprecated and will be removed in future. Please \n",
      "            use 'predict_on_test_data' method instead.\n",
      "\n",
      "            argument test is deprecated and will be removed in future. Please \n",
      "            use 'predict_on_test_data' method instead.\n",
      "\n",
      "            argument test is deprecated and will be removed in future. Please \n",
      "            use 'predict_on_test_data' method instead.\n"
     ]
    },
    {
     "name": "stdout",
     "output_type": "stream",
     "text": [
      "57              0.90115              0.09885             \n"
     ]
    },
    {
     "name": "stderr",
     "output_type": "stream",
     "text": [
      "\n",
      "            argument test is deprecated and will be removed in future. Please \n",
      "            use 'predict_on_test_data' method instead.\n",
      "\n",
      "            argument test is deprecated and will be removed in future. Please \n",
      "            use 'predict_on_test_data' method instead.\n",
      "\n",
      "            argument test is deprecated and will be removed in future. Please \n",
      "            use 'predict_on_test_data' method instead.\n",
      "\n",
      "            argument test is deprecated and will be removed in future. Please \n",
      "            use 'predict_on_test_data' method instead.\n",
      "\n",
      "            argument test is deprecated and will be removed in future. Please \n",
      "            use 'predict_on_test_data' method instead.\n"
     ]
    },
    {
     "name": "stdout",
     "output_type": "stream",
     "text": [
      "58              0.80836              0.19164             \n"
     ]
    },
    {
     "name": "stderr",
     "output_type": "stream",
     "text": [
      "\n",
      "            argument test is deprecated and will be removed in future. Please \n",
      "            use 'predict_on_test_data' method instead.\n",
      "\n",
      "            argument test is deprecated and will be removed in future. Please \n",
      "            use 'predict_on_test_data' method instead.\n",
      "\n",
      "            argument test is deprecated and will be removed in future. Please \n",
      "            use 'predict_on_test_data' method instead.\n",
      "\n",
      "            argument test is deprecated and will be removed in future. Please \n",
      "            use 'predict_on_test_data' method instead.\n",
      "\n",
      "            argument test is deprecated and will be removed in future. Please \n",
      "            use 'predict_on_test_data' method instead.\n"
     ]
    },
    {
     "name": "stdout",
     "output_type": "stream",
     "text": [
      "59              0.96081              0.03919             \n",
      "***** Training *****\n",
      "input_x shape:  (144, 8)\n",
      "target shape:  (144, 1)\n",
      "***** Validation *****\n",
      "input_x shape:  (36, 8)\n",
      "target shape:  (36, 1)\n"
     ]
    },
    {
     "name": "stderr",
     "output_type": "stream",
     "text": [
      "0 is not equal to 60 so can not perform ranking\n"
     ]
    }
   ],
   "source": [
    "optimizer = model.optimize_hyperparameters(\n",
    "    data=data,\n",
    "    num_iterations=60,\n",
    "    process_results=False\n",
    ")"
   ]
  },
  {
   "cell_type": "code",
   "execution_count": 21,
   "metadata": {
    "nbsphinx-thumbnail": {
     "tooltip": "Optimizing hyperparameters of ML models (short)"
    },
    "tags": [
     "nbsphinx-thumbnail"
    ]
   },
   "outputs": [
    {
     "data": {
      "image/png": "[encoded data removed]",
      "text/plain": [
       "<Figure size 432x288 with 1 Axes>"
      ]
     },
     "metadata": {
      "needs_background": "light"
     },
     "output_type": "display_data"
    }
   ],
   "source": [
    "_ = optimizer._plot_convergence()"
   ]
  },
  {
   "cell_type": "code",
   "execution_count": 22,
   "metadata": {},
   "outputs": [
    {
     "data": {
      "image/png": "[encoded data removed]",
      "text/plain": [
       "<Figure size 432x288 with 1 Axes>"
      ]
     },
     "metadata": {
      "needs_background": "light"
     },
     "output_type": "display_data"
    }
   ],
   "source": [
    "_ = optimizer._plot_convergence(original=True)"
   ]
  },
  {
   "cell_type": "code",
   "execution_count": 23,
   "metadata": {},
   "outputs": [
    {
     "data": {
      "image/png": "[encoded data removed]",
      "text/plain": [
       "<Figure size 432x288 with 1 Axes>"
      ]
     },
     "metadata": {
      "needs_background": "light"
     },
     "output_type": "display_data"
    }
   ],
   "source": [
    "_ = optimizer.plot_importance()"
   ]
  },
  {
   "cell_type": "code",
   "execution_count": 24,
   "metadata": {},
   "outputs": [
    {
     "data": {
      "text/plain": [
       "15"
      ]
     },
     "execution_count": 24,
     "metadata": {},
     "output_type": "execute_result"
    }
   ],
   "source": [
    "optimizer.best_iter()"
   ]
  },
  {
   "cell_type": "code",
   "execution_count": 25,
   "metadata": {},
   "outputs": [
    {
     "data": {
      "text/plain": [
       "{'n_estimators': 25,\n",
       " 'max_leaf_nodes': 15,\n",
       " 'min_weight_fraction_leaf': 0.001739798853597343,\n",
       " 'max_depth': 10,\n",
       " 'min_samples_split': 4,\n",
       " 'min_samples_leaf': 5}"
      ]
     },
     "execution_count": 25,
     "metadata": {},
     "output_type": "execute_result"
    }
   ],
   "source": [
    "optimizer.best_paras()"
   ]
  },
  {
   "cell_type": "code",
   "execution_count": 26,
   "metadata": {},
   "outputs": [
    {
     "name": "stdout",
     "output_type": "stream",
     "text": [
      "{'RandomForestRegressor': {'n_estimators': 25, 'max_leaf_nodes': 15, 'min_weight_fraction_leaf': 0.001739798853597343, 'max_depth': 10, 'min_samples_split': 4, 'min_samples_leaf': 5, 'random_state': 313}}\n"
     ]
    }
   ],
   "source": [
    "print(model.config['model'])"
   ]
  },
  {
   "cell_type": "code",
   "execution_count": 27,
   "metadata": {},
   "outputs": [
    {
     "name": "stdout",
     "output_type": "stream",
     "text": [
      "RandomForestRegressor(max_depth=10, max_leaf_nodes=15, min_samples_leaf=5,\n",
      "                      min_samples_split=4,\n",
      "                      min_weight_fraction_leaf=0.001739798853597343,\n",
      "                      n_estimators=25, random_state=313)\n"
     ]
    }
   ],
   "source": [
    "print(model._model)"
   ]
  },
  {
   "cell_type": "code",
   "execution_count": 28,
   "metadata": {},
   "outputs": [
    {
     "name": "stdout",
     "output_type": "stream",
     "text": [
      "***** Test *****\n",
      "input_x shape:  (78, 8)\n",
      "target shape:  (78, 1)\n"
     ]
    },
    {
     "name": "stderr",
     "output_type": "stream",
     "text": [
      "\n",
      "            argument test is deprecated and will be removed in future. Please \n",
      "            use 'predict_on_test_data' method instead.\n"
     ]
    },
    {
     "data": {
      "text/plain": [
       "{'r2': 0.3063041509312758,\n",
       " 'nse': 0.13576138488161404,\n",
       " 'rmse': 24342.64983848084}"
      ]
     },
     "execution_count": 28,
     "metadata": {},
     "output_type": "execute_result"
    }
   ],
   "source": [
    "model.evaluate_on_test_data(data=data, metrics=['r2', 'nse', 'rmse'])"
   ]
  },
  {
   "cell_type": "code",
   "execution_count": 29,
   "metadata": {},
   "outputs": [
    {
     "name": "stdout",
     "output_type": "stream",
     "text": [
      "***** Training *****\n",
      "input_x shape:  (144, 8)\n",
      "target shape:  (144, 1)\n"
     ]
    },
    {
     "name": "stderr",
     "output_type": "stream",
     "text": [
      "\n",
      "            argument test is deprecated and will be removed in future. Please \n",
      "            use 'predict_on_test_data' method instead.\n"
     ]
    },
    {
     "data": {
      "text/plain": [
       "{'r2': 0.5529474548618499,\n",
       " 'nse': 0.3402599835332679,\n",
       " 'rmse': 5620.803870884389}"
      ]
     },
     "execution_count": 29,
     "metadata": {},
     "output_type": "execute_result"
    }
   ],
   "source": [
    "model.evaluate_on_training_data(data=data, metrics=['r2', 'nse', 'rmse'])"
   ]
  },
  {
   "cell_type": "code",
   "execution_count": null,
   "metadata": {},
   "outputs": [],
   "source": []
  }
 ],
 "metadata": {
  "celltoolbar": "Edit Metadata",
  "kernelspec": {
   "display_name": "Python 3 (ipykernel)",
   "language": "python",
   "name": "python3"
  },
  "language_info": {
   "codemirror_mode": {
    "name": "ipython",
    "version": 3
   },
   "file_extension": ".py",
   "mimetype": "text/x-python",
   "name": "python",
   "nbconvert_exporter": "python",
   "pygments_lexer": "ipython3",
   "version": "3.8.13"
  }
 },
 "nbformat": 4,
 "nbformat_minor": 1
}
