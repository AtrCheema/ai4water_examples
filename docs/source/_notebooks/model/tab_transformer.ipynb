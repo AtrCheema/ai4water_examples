{
 "cells": [
  {
   "cell_type": "markdown",
   "id": "588fbf60",
   "metadata": {},
   "source": [
    "This notebook shows the use of Tab Transformer neural network architecture for a prediction probelm.\n",
    "\n",
    "[![Open In Colab](https://colab.research.google.com/assets/colab-badge.svg)](https://colab.research.google.com/github/AtrCheema/ai4water_examples/blob/master/docs/source/_notebooks/model/tab_transformer.ipynb)\n",
    "\n",
    "\n",
    "[![View Source on GitHub](https://img.shields.io/badge/github-view%20source-black.svg)](https://github.com/AtrCheema/ai4water_examples/blob/master/docs/source/_notebooks/model/tab_transformer.ipynb)"
   ]
  },
  {
   "cell_type": "code",
   "execution_count": 2,
   "id": "ebe9b9a5",
   "metadata": {},
   "outputs": [
    {
     "name": "stderr",
     "output_type": "stream",
     "text": [
      "D:\\C\\Anaconda3\\envs\\tfcpu27_py39\\lib\\site-packages\\numpy\\_distributor_init.py:30: UserWarning: loaded more than 1 DLL from .libs:\n",
      "D:\\C\\Anaconda3\\envs\\tfcpu27_py39\\lib\\site-packages\\numpy\\.libs\\libopenblas.EL2C6PLE4ZYW3ECEVIV3OXXGRN2NRFM2.gfortran-win_amd64.dll\n",
      "D:\\C\\Anaconda3\\envs\\tfcpu27_py39\\lib\\site-packages\\numpy\\.libs\\libopenblas.GK7GX5KEQ4F6UYO3P26ULGBQYHGQO7J4.gfortran-win_amd64.dll\n",
      "  warnings.warn(\"loaded more than 1 DLL from .libs:\"\n",
      "D:\\C\\Anaconda3\\envs\\tfcpu27_py39\\lib\\site-packages\\sklearn\\experimental\\enable_hist_gradient_boosting.py:16: UserWarning: Since version 1.0, it is not needed to import enable_hist_gradient_boosting anymore. HistGradientBoostingClassifier and HistGradientBoostingRegressor are now stable and can be normally imported from sklearn.ensemble.\n",
      "  warnings.warn(\n"
     ]
    }
   ],
   "source": [
    "try:\n",
    "    import ai4water\n",
    "except (ImportError, ModuleNotFoundError):\n",
    "    !pip install ai4water[tf2]"
   ]
  },
  {
   "cell_type": "code",
   "execution_count": 3,
   "id": "01d57efd",
   "metadata": {},
   "outputs": [],
   "source": [
    "import numpy as np\n",
    "\n",
    "from ai4water import Model\n",
    "from ai4water.utils.utils import TrainTestSplit\n",
    "from ai4water.models.utils import gen_cat_vocab\n",
    "from ai4water.models import TabTransformer\n",
    "from ai4water.utils.utils import get_version_info\n",
    "from ai4water.datasets import mg_photodegradation\n",
    "\n",
    "from easy_mpl import bar_chart"
   ]
  },
  {
   "cell_type": "code",
   "execution_count": 4,
   "id": "5c15b289",
   "metadata": {},
   "outputs": [
    {
     "name": "stdout",
     "output_type": "stream",
     "text": [
      "python 3.9.7 | packaged by conda-forge | (default, Sep 29 2021, 19:20:16) [MSC v.1916 64 bit (AMD64)]\n",
      "os nt\n",
      "ai4water 1.06\n",
      "lightgbm 3.3.1\n",
      "tcn 3.4.0\n",
      "catboost 0.26\n",
      "xgboost 1.5.0\n",
      "easy_mpl 0.21.3\n",
      "SeqMetrics 1.3.3\n",
      "tensorflow 2.7.0\n",
      "keras.api._v2.keras 2.7.0\n",
      "numpy 1.21.0\n",
      "pandas 1.3.4\n",
      "matplotlib 3.4.3\n",
      "h5py 3.5.0\n",
      "sklearn 1.0.1\n",
      "shapefile 2.3.0\n",
      "fiona 1.8.22\n",
      "xarray 0.20.1\n",
      "netCDF4 1.5.7\n",
      "optuna 2.10.1\n",
      "skopt 0.9.0\n",
      "hyperopt 0.2.7\n",
      "plotly 5.3.1\n",
      "lime NotDefined\n",
      "seaborn 0.11.2\n"
     ]
    }
   ],
   "source": [
    "for lib,ver in get_version_info().items():\n",
    "    print(lib, ver)"
   ]
  },
  {
   "cell_type": "code",
   "execution_count": 5,
   "id": "2102a21b",
   "metadata": {},
   "outputs": [],
   "source": [
    "data, *_ = mg_photodegradation()"
   ]
  },
  {
   "cell_type": "code",
   "execution_count": 6,
   "id": "c9fcf6a4",
   "metadata": {},
   "outputs": [
    {
     "data": {
      "text/plain": [
       "(1200, 12)"
      ]
     },
     "execution_count": 6,
     "metadata": {},
     "output_type": "execute_result"
    }
   ],
   "source": [
    "data.shape"
   ]
  },
  {
   "cell_type": "code",
   "execution_count": 7,
   "id": "c5bffcaa",
   "metadata": {},
   "outputs": [
    {
     "name": "stdout",
     "output_type": "stream",
     "text": [
      "   Surface area  Pore Volume  Catalyst_loading (g/L)  Light_intensity (W)  \\\n",
      "0           0.0          0.0                     0.0                  105   \n",
      "1           0.0          0.0                     0.0                  105   \n",
      "2           0.0          0.0                     0.0                  105   \n",
      "3           0.0          0.0                     0.0                  105   \n",
      "4           0.0          0.0                     0.0                  105   \n",
      "\n",
      "   time (min)  solution_pH  HA (mg/L)  Ci (mg/L)  Cf (mg/L) Catalyst_type  \\\n",
      "0           0         5.45          0         10      10.00   no catalyst   \n",
      "1          30         5.45          0         10       9.98   no catalyst   \n",
      "2          60         5.45          0         10       9.96   no catalyst   \n",
      "3          90         5.45          0         10       9.94   no catalyst   \n",
      "4         120         5.45          0         10       9.87   no catalyst   \n",
      "\n",
      "          Anions  Efficiency (%)  \n",
      "0  without Anion             0.0  \n",
      "1  without Anion             0.2  \n",
      "2  without Anion             0.4  \n",
      "3  without Anion             0.6  \n",
      "4  without Anion             1.3  \n"
     ]
    }
   ],
   "source": [
    "print(data.head())"
   ]
  },
  {
   "cell_type": "code",
   "execution_count": 8,
   "id": "839fd350",
   "metadata": {},
   "outputs": [
    {
     "data": {
      "text/plain": [
       "((840, 12), (360, 12))"
      ]
     },
     "execution_count": 8,
     "metadata": {},
     "output_type": "execute_result"
    }
   ],
   "source": [
    "NUMERIC_FEATURES = data.columns.to_list()[0:8]\n",
    "CAT_FEATURES = [\"Catalyst_type\", \"Anions\"]\n",
    "LABEL = \"Efficiency (%)\"\n",
    "\n",
    "\n",
    "splitter = TrainTestSplit(seed=313)\n",
    "\n",
    "data[NUMERIC_FEATURES] = data[NUMERIC_FEATURES].astype(float)\n",
    "data[CAT_FEATURES] = data[CAT_FEATURES].astype(str)\n",
    "data[LABEL] = data[LABEL].astype(float)\n",
    "\n",
    "train_data, test_data, _, _ = splitter.split_by_random(data)\n",
    "train_data.shape, test_data.shape\n"
   ]
  },
  {
   "cell_type": "code",
   "execution_count": 9,
   "id": "b27461a2",
   "metadata": {},
   "outputs": [
    {
     "data": {
      "text/plain": [
       "{'Catalyst_type': ['0.25 wt% Pt-BFO',\n",
       "  '0.5 wt% Pd-BFO',\n",
       "  '0.5 wt% Pt-BFO',\n",
       "  '1 wt% Ag-BFO',\n",
       "  '1 wt% Pd-BFO',\n",
       "  '1 wt% Pt-BFO',\n",
       "  '2 wt% Ag-BFO',\n",
       "  '2 wt% Pd-BFO',\n",
       "  '2 wt% Pt-BFO',\n",
       "  '3 wt% Ag-BFO',\n",
       "  '3 wt% Pd-BFO',\n",
       "  '4 wt% Ag-BFO',\n",
       "  'commercial TiO2',\n",
       "  'no catalyst',\n",
       "  'pure BFO'],\n",
       " 'Anions': ['Na2HPO4', 'Na2SO4', 'NaCO3', 'NaCl', 'NaHCO3', 'without Anion']}"
      ]
     },
     "execution_count": 9,
     "metadata": {},
     "output_type": "execute_result"
    }
   ],
   "source": [
    "# create vocabulary of unique values of categorical features\n",
    "cat_vocabulary = gen_cat_vocab(data)\n",
    "\n",
    "cat_vocabulary"
   ]
  },
  {
   "cell_type": "code",
   "execution_count": 10,
   "id": "ff6c8147",
   "metadata": {},
   "outputs": [],
   "source": [
    "train_x = [train_data[NUMERIC_FEATURES].values, train_data[CAT_FEATURES].values]\n",
    "test_x = [test_data[NUMERIC_FEATURES].values, test_data[CAT_FEATURES].values]"
   ]
  },
  {
   "cell_type": "code",
   "execution_count": 11,
   "id": "d14c1987",
   "metadata": {},
   "outputs": [],
   "source": [
    "depth = 3\n",
    "num_heads = 4\n",
    "hidden_units = 16\n",
    "final_mpl_units = [84, 42]\n",
    "num_numeric_features = len(NUMERIC_FEATURES)"
   ]
  },
  {
   "cell_type": "code",
   "execution_count": 18,
   "id": "cf39fe5c",
   "metadata": {},
   "outputs": [
    {
     "name": "stdout",
     "output_type": "stream",
     "text": [
      "\n",
      "            building DL model for  \n",
      "            regression problem using Model\n",
      "Model: \"model\"\n",
      "__________________________________________________________________________________________________\n",
      " Layer (type)                   Output Shape         Param #     Connected to                     \n",
      "==================================================================================================\n",
      " Input_cat (InputLayer)         [(None, 2)]          0           []                               \n",
      "                                                                                                  \n",
      " cat_embeddings (CatEmbeddings)  (None, 2, 16)       336         ['Input_cat[0][0]']              \n",
      "                                                                                                  \n",
      " layer_normalization_1 (LayerNo  (None, 2, 16)       32          ['cat_embeddings[0][0]']         \n",
      " rmalization)                                                                                     \n",
      "                                                                                                  \n",
      " multi_head_attention (MultiHea  ((None, 2, 16),     4304        ['layer_normalization_1[0][0]',  \n",
      " dAttention)                     (None, 4, 2, 2))                 'layer_normalization_1[0][0]']  \n",
      "                                                                                                  \n",
      " add (Add)                      (None, 2, 16)        0           ['layer_normalization_1[0][0]',  \n",
      "                                                                  'multi_head_attention[0][0]']   \n",
      "                                                                                                  \n",
      " sequential (Sequential)        (None, 2, 16)        304         ['add[0][0]']                    \n",
      "                                                                                                  \n",
      " add_1 (Add)                    (None, 2, 16)        0           ['sequential[0][0]',             \n",
      "                                                                  'add[0][0]']                    \n",
      "                                                                                                  \n",
      " layer_normalization_3 (LayerNo  (None, 2, 16)       32          ['add_1[0][0]']                  \n",
      " rmalization)                                                                                     \n",
      "                                                                                                  \n",
      " layer_normalization_4 (LayerNo  (None, 2, 16)       32          ['layer_normalization_3[0][0]']  \n",
      " rmalization)                                                                                     \n",
      "                                                                                                  \n",
      " multi_head_attention_1 (MultiH  ((None, 2, 16),     4304        ['layer_normalization_4[0][0]',  \n",
      " eadAttention)                   (None, 4, 2, 2))                 'layer_normalization_4[0][0]']  \n",
      "                                                                                                  \n",
      " add_2 (Add)                    (None, 2, 16)        0           ['layer_normalization_4[0][0]',  \n",
      "                                                                  'multi_head_attention_1[0][0]'] \n",
      "                                                                                                  \n",
      " sequential_1 (Sequential)      (None, 2, 16)        304         ['add_2[0][0]']                  \n",
      "                                                                                                  \n",
      " add_3 (Add)                    (None, 2, 16)        0           ['sequential_1[0][0]',           \n",
      "                                                                  'add_2[0][0]']                  \n",
      "                                                                                                  \n",
      " layer_normalization_6 (LayerNo  (None, 2, 16)       32          ['add_3[0][0]']                  \n",
      " rmalization)                                                                                     \n",
      "                                                                                                  \n",
      " layer_normalization_7 (LayerNo  (None, 2, 16)       32          ['layer_normalization_6[0][0]']  \n",
      " rmalization)                                                                                     \n",
      "                                                                                                  \n",
      " multi_head_attention_2 (MultiH  ((None, 2, 16),     4304        ['layer_normalization_7[0][0]',  \n",
      " eadAttention)                   (None, 4, 2, 2))                 'layer_normalization_7[0][0]']  \n",
      "                                                                                                  \n",
      " add_4 (Add)                    (None, 2, 16)        0           ['layer_normalization_7[0][0]',  \n",
      "                                                                  'multi_head_attention_2[0][0]'] \n",
      "                                                                                                  \n",
      " sequential_2 (Sequential)      (None, 2, 16)        304         ['add_4[0][0]']                  \n",
      "                                                                                                  \n",
      " add_5 (Add)                    (None, 2, 16)        0           ['sequential_2[0][0]',           \n",
      "                                                                  'add_4[0][0]']                  \n",
      "                                                                                                  \n",
      " Input_num (InputLayer)         [(None, 8)]          0           []                               \n",
      "                                                                                                  \n",
      " layer_normalization_9 (LayerNo  (None, 2, 16)       32          ['add_5[0][0]']                  \n",
      " rmalization)                                                                                     \n",
      "                                                                                                  \n",
      " layer_normalization (LayerNorm  (None, 8)           16          ['Input_num[0][0]']              \n",
      " alization)                                                                                       \n",
      "                                                                                                  \n",
      " flatten (Flatten)              (None, 32)           0           ['layer_normalization_9[0][0]']  \n",
      "                                                                                                  \n",
      " concatenate (Concatenate)      (None, 40)           0           ['layer_normalization[0][0]',    \n",
      "                                                                  'flatten[0][0]']                \n",
      "                                                                                                  \n",
      " MLP (Sequential)               (None, 16)           816         ['concatenate[0][0]']            \n",
      "                                                                                                  \n",
      " Dense_out (Dense)              (None, 1)            17          ['MLP[0][0]']                    \n",
      "                                                                                                  \n",
      "==================================================================================================\n",
      "Total params: 15,201\n",
      "Trainable params: 15,121\n",
      "Non-trainable params: 80\n",
      "__________________________________________________________________________________________________\n"
     ]
    }
   ],
   "source": [
    "model = Model(model=TabTransformer(\n",
    "    cat_vocabulary=cat_vocabulary,\n",
    "    num_numeric_features=num_numeric_features,\n",
    "    hidden_units=hidden_units,\n",
    "    final_mlp_units = final_mpl_units,\n",
    "    depth=depth,\n",
    "    num_heads=num_heads,\n",
    "))"
   ]
  },
  {
   "cell_type": "code",
   "execution_count": 13,
   "id": "e5927ef3",
   "metadata": {},
   "outputs": [
    {
     "name": "stdout",
     "output_type": "stream",
     "text": [
      "assigning name Input_num to IteratorGetNext:0 with shape (None, 8)\n",
      "assigning name Input_cat to IteratorGetNext:1 with shape (None, 2)\n",
      "assigning name Input_num to IteratorGetNext:0 with shape (None, 8)\n",
      "assigning name Input_cat to IteratorGetNext:1 with shape (None, 2)\n",
      "assigning name Input_num to IteratorGetNext:0 with shape (None, 8)\n",
      "assigning name Input_cat to IteratorGetNext:1 with shape (None, 2)\n"
     ]
    },
    {
     "data": {
      "image/png": "[encoded data removed]",
      "text/plain": [
       "<Figure size 432x288 with 1 Axes>"
      ]
     },
     "metadata": {},
     "output_type": "display_data"
    },
    {
     "name": "stdout",
     "output_type": "stream",
     "text": [
      "********** Successfully loaded weights from weights_456_49.76471.hdf5 file **********\n"
     ]
    }
   ],
   "source": [
    "_ = model.fit(x=train_x, y= train_data[LABEL].values,\n",
    "              validation_data=(test_x, test_data[LABEL].values),\n",
    "              epochs=500, verbose=0)"
   ]
  },
  {
   "cell_type": "code",
   "execution_count": 14,
   "id": "988878cb",
   "metadata": {},
   "outputs": [
    {
     "name": "stdout",
     "output_type": "stream",
     "text": [
      "assigning name Input_num to IteratorGetNext:0 with shape (None, 8)\n",
      "assigning name Input_cat to IteratorGetNext:1 with shape (None, 2)\n",
      "27/27 [==============================] - 0s 2ms/step\n"
     ]
    },
    {
     "data": {
      "text/plain": [
       "{'r2': 0.9548887536801427,\n",
       " 'r2_score': 0.9534963094014572,\n",
       " 'rmse': 6.893919813820322}"
      ]
     },
     "execution_count": 14,
     "metadata": {},
     "output_type": "execute_result"
    }
   ],
   "source": [
    "model.evaluate(x=train_x, y=train_data[LABEL].values, metrics=[\"r2\", \"r2_score\", \"rmse\"])"
   ]
  },
  {
   "cell_type": "code",
   "execution_count": 15,
   "id": "65c7fde6",
   "metadata": {},
   "outputs": [
    {
     "name": "stdout",
     "output_type": "stream",
     "text": [
      "12/12 [==============================] - 0s 2ms/step\n"
     ]
    },
    {
     "data": {
      "text/plain": [
       "{'r2': 0.952070663191044,\n",
       " 'r2_score': 0.9510105449344268,\n",
       " 'rmse': 7.054410196882702}"
      ]
     },
     "execution_count": 15,
     "metadata": {},
     "output_type": "execute_result"
    }
   ],
   "source": [
    "model.evaluate(x=test_x, y=test_data[LABEL].values, metrics=[\"r2\", \"r2_score\", \"rmse\"])"
   ]
  },
  {
   "cell_type": "code",
   "execution_count": 34,
   "id": "61cd56a6",
   "metadata": {},
   "outputs": [
    {
     "name": "stdout",
     "output_type": "stream",
     "text": [
      "found 3 layers with multi-head-attention weights named dict_keys(['multi_head_attention', 'multi_head_attention_1', 'multi_head_attention_2'])\n"
     ]
    },
    {
     "data": {
      "text/plain": [
       "(840, 2)"
      ]
     },
     "execution_count": 34,
     "metadata": {},
     "output_type": "execute_result"
    }
   ],
   "source": [
    "\n",
    "weights = model.get_intermediate_output('multi_head_attention', train_x)\n",
    "\n",
    "\n",
    "print(f\"found {len(weights)} layers with multi-head-attention weights named {weights.keys()}\")\n",
    "\n",
    "importances = []\n",
    "for k, v in weights.items():\n",
    "    out, importance = v\n",
    "    importance = importance[:, :, 0, :]\n",
    "    importances.append(np.sum(importance, axis=1))\n",
    "\n",
    "atten_weights = np.sum(np.stack(importances), axis=0) / (depth * num_heads)\n",
    "atten_weights.shape"
   ]
  },
  {
   "cell_type": "code",
   "execution_count": 35,
   "id": "ec0c5210",
   "metadata": {},
   "outputs": [
    {
     "data": {
      "text/plain": [
       "array([423.76852, 416.23145], dtype=float32)"
      ]
     },
     "execution_count": 35,
     "metadata": {},
     "output_type": "execute_result"
    }
   ],
   "source": [
    "\n",
    "importance = np.sum(atten_weights, axis=0)\n",
    "importance"
   ]
  },
  {
   "cell_type": "code",
   "execution_count": 46,
   "id": "101c88b5",
   "metadata": {
    "nbsphinx-thumbnail": {
     "tooltip": "Tab Transformer for Regression"
    },
    "tags": [
     "nbsphinx-thumbnail"
    ]
   },
   "outputs": [
    {
     "data": {
      "image/png": "[encoded data removed]",
      "text/plain": [
       "<Figure size 640x480 with 1 Axes>"
      ]
     },
     "metadata": {},
     "output_type": "display_data"
    }
   ],
   "source": [
    "_ = bar_chart(importance/sum(importance),\n",
    "              labels=CAT_FEATURES, \n",
    "              orient =\"v\",\n",
    "              ax_kws=dict(ylabel=\"Relative Importance\", ylabel_kws={\"fontsize\": 12, \"weight\": \"bold\"},\n",
    "                         xlabel=\"Cat Features\", xlabel_kws={\"fontsize\": 12, \"weight\": \"bold\"}),\n",
    "              color=\"salmon\"\n",
    "             )"
   ]
  },
  {
   "cell_type": "code",
   "execution_count": null,
   "id": "ff60a1e1",
   "metadata": {},
   "outputs": [],
   "source": []
  }
 ],
 "metadata": {
  "celltoolbar": "Edit Metadata",
  "kernelspec": {
   "display_name": "Python 3 (ipykernel)",
   "language": "python",
   "name": "python3"
  },
  "language_info": {
   "codemirror_mode": {
    "name": "ipython",
    "version": 3
   },
   "file_extension": ".py",
   "mimetype": "text/x-python",
   "name": "python",
   "nbconvert_exporter": "python",
   "pygments_lexer": "ipython3",
   "version": "3.9.7"
  }
 },
 "nbformat": 4,
 "nbformat_minor": 5
}
