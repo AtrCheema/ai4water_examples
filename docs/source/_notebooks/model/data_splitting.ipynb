{
 "cells": [
  {
   "cell_type": "markdown",
   "id": "b25bb1ba",
   "metadata": {},
   "source": [
    "[![Open In Colab](https://colab.research.google.com/assets/colab-badge.svg)](https://colab.research.google.com/github/AtrCheema/ai4water_examples/blob/master/docs/source/_notebooks/model/data_splitting.ipynb)\n",
    "\n",
    "[![View Source on GitHub](https://img.shields.io/badge/github-view%20source-black.svg)](https://github.com/AtrCheema/ai4water_examples/blob/master/docs/source/_notebooks/model/data_splitting.ipynb)\n",
    "\n",
    "## Data Splitting\n",
    "\n",
    "This notebook describes how to split data into training, validation and test sets."
   ]
  },
  {
   "cell_type": "code",
   "execution_count": null,
   "id": "4d9d774e",
   "metadata": {},
   "outputs": [],
   "source": [
    "\n",
    "from ai4water.datasets import busan_beach\n",
    "from ai4water.preprocessing import DataSet\n",
    "from ai4water.utils.utils import get_version_info"
   ]
  },
  {
   "cell_type": "code",
   "execution_count": null,
   "id": "13db1e00",
   "metadata": {},
   "outputs": [],
   "source": [
    "for lib, ver in get_version_info().items():\n",
    "    print(lib, ver)"
   ]
  },
  {
   "cell_type": "markdown",
   "id": "95448c8c",
   "metadata": {},
   "source": [
    "### train fraction"
   ]
  },
  {
   "cell_type": "markdown",
   "id": "cb636932",
   "metadata": {},
   "source": [
    "### val_fraction"
   ]
  },
  {
   "cell_type": "markdown",
   "id": "b00f498d",
   "metadata": {},
   "source": [
    "### random splitting"
   ]
  },
  {
   "cell_type": "markdown",
   "id": "896a084e",
   "metadata": {},
   "source": [
    "### reproducibility"
   ]
  },
  {
   "cell_type": "markdown",
   "id": "07296b59",
   "metadata": {},
   "source": [
    "### spliting using indices"
   ]
  },
  {
   "cell_type": "markdown",
   "id": "329b47e2",
   "metadata": {},
   "source": [
    "### spliting using intervals"
   ]
  },
  {
   "cell_type": "code",
   "execution_count": null,
   "id": "68082e3f",
   "metadata": {},
   "outputs": [],
   "source": []
  }
 ],
 "metadata": {
  "kernelspec": {
   "display_name": "Python 3 (ipykernel)",
   "language": "python",
   "name": "python3"
  },
  "language_info": {
   "codemirror_mode": {
    "name": "ipython",
    "version": 3
   },
   "file_extension": ".py",
   "mimetype": "text/x-python",
   "name": "python",
   "nbconvert_exporter": "python",
   "pygments_lexer": "ipython3",
   "version": "3.9.7"
  }
 },
 "nbformat": 4,
 "nbformat_minor": 5
}
