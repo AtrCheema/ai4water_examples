{
 "cells": [
  {
   "cell_type": "code",
   "execution_count": null,
   "metadata": {},
   "outputs": [],
   "source": [
    "%matplotlib inline"
   ]
  },
  {
   "cell_type": "markdown",
   "metadata": {},
   "source": [
    "\n",
    "# cross validation\n",
    "\n",
    "This example shows how to app different cross\n",
    "validation techniques using ai4water"
   ]
  },
  {
   "cell_type": "code",
   "execution_count": 2,
   "metadata": {},
   "outputs": [],
   "source": [
    "\n",
    "import site\n",
    "site.addsitedir(\"D:\\\\mytools\\\\AI4Water\")\n",
    "\n",
    "\n",
    "from ai4water import Model\n",
    "from ai4water.preprocessing import DataSet\n",
    "from ai4water.datasets import busan_beach\n",
    "from ai4water.utils.utils import get_version_info\n"
   ]
  },
  {
   "cell_type": "code",
   "execution_count": 3,
   "metadata": {},
   "outputs": [
    {
     "name": "stdout",
     "output_type": "stream",
     "text": [
      "python version: 3.9.7 | packaged by conda-forge | (default, Sep 29 2021, 19:20:16) [MSC v.1916 64 bit (AMD64)]\n",
      "os version: nt\n",
      "ai4water version: 1.06\n",
      "lightgbm version: 3.3.1\n",
      "tcn version: 3.4.0\n",
      "catboost version: 0.26\n",
      "xgboost version: 1.5.0\n",
      "easy_mpl version: 0.21.2\n",
      "SeqMetrics version: 1.3.3\n",
      "tensorflow version: 2.7.0\n",
      "keras.api._v2.keras version: 2.7.0\n",
      "numpy version: 1.21.0\n",
      "pandas version: 1.3.4\n",
      "matplotlib version: 3.4.3\n",
      "h5py version: 3.5.0\n",
      "sklearn version: 1.0.1\n",
      "shapefile version: 2.3.0\n",
      "xarray version: 0.20.1\n",
      "netCDF4 version: 1.5.7\n",
      "optuna version: 2.10.1\n",
      "skopt version: 0.9.0\n",
      "hyperopt version: 0.2.7\n",
      "plotly version: 5.3.1\n",
      "lime version: NotDefined\n",
      "seaborn version: 0.11.2\n"
     ]
    }
   ],
   "source": [
    "\n",
    "for k,v in get_version_info().items():\n",
    "    print(f\"{k} version: {v}\")"
   ]
  },
  {
   "cell_type": "code",
   "execution_count": 4,
   "metadata": {},
   "outputs": [],
   "source": [
    "data = busan_beach()"
   ]
  },
  {
   "cell_type": "markdown",
   "metadata": {},
   "source": [
    "## TimeSeriesSplit\n",
    "\n"
   ]
  },
  {
   "cell_type": "code",
   "execution_count": 5,
   "metadata": {},
   "outputs": [
    {
     "name": "stdout",
     "output_type": "stream",
     "text": [
      "\n",
      "********** Removing Examples with nan in labels  **********\n",
      "\n",
      "0 (27, 13) (27, 1) (25, 13) (25, 1)\n",
      "1 (52, 13) (52, 1) (25, 13) (25, 1)\n",
      "2 (77, 13) (77, 1) (25, 13) (25, 1)\n",
      "3 (102, 13) (102, 1) (25, 13) (25, 1)\n",
      "4 (127, 13) (127, 1) (25, 13) (25, 1)\n"
     ]
    }
   ],
   "source": [
    "ds = DataSet(data=data)\n",
    "\n",
    "splits = ds.TimeSeriesSplit_splits(n_splits=5)\n",
    "\n",
    "for fold, ((train_x, train_y), (test_x, test_y)) in enumerate(splits):\n",
    "    print(fold, train_x.shape, train_y.shape, test_x.shape, test_y.shape)"
   ]
  },
  {
   "cell_type": "code",
   "execution_count": 8,
   "metadata": {
    "nbsphinx-thumbnail": {
     "tooltip": "Cross Validation for Random Forest"
    },
    "tags": [
     "nbsphinx-thumbnail"
    ]
   },
   "outputs": [
    {
     "name": "stdout",
     "output_type": "stream",
     "text": [
      "\n",
      "********** Removing Examples with nan in labels  **********\n",
      "\n"
     ]
    },
    {
     "data": {
      "image/png": "[encoded data removed]",
      "text/plain": [
       "<Figure size 720x576 with 1 Axes>"
      ]
     },
     "metadata": {
      "needs_background": "light"
     },
     "output_type": "display_data"
    }
   ],
   "source": [
    "ds.plot_TimeSeriesSplit_splits(n_splits=5)"
   ]
  },
  {
   "cell_type": "code",
   "execution_count": null,
   "metadata": {},
   "outputs": [],
   "source": [
    "model = Model(\n",
    "    model={'RandomForestRegressor': {}},\n",
    "    cross_validator={'TimeSeriesSplit': {'n_splits': 5}},\n",
    "    val_metric=\"r2\",\n",
    "    verbosity=0,\n",
    ")\n",
    "\n",
    "tssplit_score = model.cross_val_score(data=data)"
   ]
  },
  {
   "cell_type": "markdown",
   "metadata": {},
   "source": [
    "## KFold\n",
    "\n"
   ]
  },
  {
   "cell_type": "code",
   "execution_count": null,
   "metadata": {},
   "outputs": [],
   "source": [
    "ds = DataSet(data=data)\n",
    "\n",
    "splits = ds.KFold_splits(n_splits=5)\n",
    "\n",
    "for fold, ((train_x, train_y), (test_x, test_y)) in enumerate(splits):\n",
    "    print(fold, train_x.shape, train_y.shape, test_x.shape, test_y.shape)"
   ]
  },
  {
   "cell_type": "code",
   "execution_count": null,
   "metadata": {},
   "outputs": [],
   "source": [
    "ds.plot_KFold_splits(n_splits=5)"
   ]
  },
  {
   "cell_type": "code",
   "execution_count": null,
   "metadata": {},
   "outputs": [],
   "source": [
    "model = Model(\n",
    "    model={'RandomForestRegressor': {}},\n",
    "    cross_validator={'KFold': {'n_splits': 5}},\n",
    "    val_metric=\"r2\",\n",
    "    verbosity=0,\n",
    ")\n",
    "\n",
    "kfold_score = model.cross_val_score(data=data)"
   ]
  },
  {
   "cell_type": "markdown",
   "metadata": {},
   "source": [
    "## LeaveOneOut\n",
    "\n"
   ]
  },
  {
   "cell_type": "code",
   "execution_count": null,
   "metadata": {},
   "outputs": [],
   "source": [
    "ds = DataSet(data=data.iloc[0:600, :])  # not using all data because it takes more time\n",
    "\n",
    "splits = ds.LeaveOneOut_splits()\n",
    "\n",
    "for fold, ((train_x, train_y), (test_x, test_y)) in enumerate(splits):\n",
    "    print(fold, train_x.shape, train_y.shape, test_x.shape, test_y.shape)"
   ]
  },
  {
   "cell_type": "code",
   "execution_count": null,
   "metadata": {},
   "outputs": [],
   "source": [
    "ds.plot_LeaveOneOut_splits()"
   ]
  },
  {
   "cell_type": "code",
   "execution_count": null,
   "metadata": {},
   "outputs": [],
   "source": [
    "model = Model(\n",
    "    model={'RandomForestRegressor': {}},\n",
    "    cross_validator={'LeaveOneOut': {}},\n",
    "    val_metric=\"mse\",\n",
    "    verbosity=0,\n",
    ")\n",
    "\n",
    "loo_score = model.cross_val_score(data=data.iloc[0:600, :])"
   ]
  }
 ],
 "metadata": {
  "celltoolbar": "Edit Metadata",
  "kernelspec": {
   "display_name": "Python 3 (ipykernel)",
   "language": "python",
   "name": "python3"
  },
  "language_info": {
   "codemirror_mode": {
    "name": "ipython",
    "version": 3
   },
   "file_extension": ".py",
   "mimetype": "text/x-python",
   "name": "python",
   "nbconvert_exporter": "python",
   "pygments_lexer": "ipython3",
   "version": "3.9.7"
  }
 },
 "nbformat": 4,
 "nbformat_minor": 1
}
