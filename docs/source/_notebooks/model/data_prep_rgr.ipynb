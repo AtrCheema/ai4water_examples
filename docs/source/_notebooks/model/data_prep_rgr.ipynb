{
 "cells": [
  {
   "cell_type": "markdown",
   "metadata": {},
   "source": [
    "[![Open In Colab](https://colab.research.google.com/assets/colab-badge.svg)](https://colab.research.google.com/github/AtrCheema/ai4water_examples/blob/master/docs/source/_notebooks/model/data_prep_rgr.ipynb)\n",
    "\n",
    "[![View Source on GitHub](https://img.shields.io/badge/github-view%20source-black.svg)](https://github.com/AtrCheema/ai4water_examples/blob/master/docs/source/_notebooks/model/data_prep_rgr.ipynb)\n",
    "\n",
    "## Data Preparation for Regression task\n",
    "\n",
    "This notebook describes how to prepare data for a single machine learning regression problem."
   ]
  },
  {
   "cell_type": "code",
   "execution_count": null,
   "metadata": {},
   "outputs": [],
   "source": [
    "try:\n",
    "    import ai4water\n",
    "except ModuleNotFoundError:\n",
    "    !pip install ai4water"
   ]
  },
  {
   "cell_type": "code",
   "execution_count": 104,
   "metadata": {
    "colab": {},
    "colab_type": "code",
    "id": "2Srtqrlwr09Y"
   },
   "outputs": [],
   "source": [
    "import site\n",
    "site.addsitedir(\"D:\\\\mytools\\\\AI4Water\")\n",
    "\n",
    "from ai4water.datasets import busan_beach\n",
    "from ai4water.preprocessing import DataSet\n",
    "from ai4water.utils.utils import get_version_info\n"
   ]
  },
  {
   "cell_type": "code",
   "execution_count": 51,
   "metadata": {},
   "outputs": [
    {
     "name": "stdout",
     "output_type": "stream",
     "text": [
      "python 3.9.7 | packaged by conda-forge | (default, Sep 29 2021, 19:20:16) [MSC v.1916 64 bit (AMD64)]\n",
      "os nt\n",
      "ai4water 1.06\n",
      "lightgbm 3.3.1\n",
      "tcn 3.4.0\n",
      "catboost 0.26\n",
      "xgboost 1.5.0\n",
      "easy_mpl 0.21.3\n",
      "SeqMetrics 1.3.3\n",
      "tensorflow 2.7.0\n",
      "keras.api._v2.keras 2.7.0\n",
      "numpy 1.21.0\n",
      "pandas 1.3.4\n",
      "matplotlib 3.4.3\n",
      "h5py 3.5.0\n",
      "sklearn 1.0.1\n",
      "shapefile 2.3.0\n",
      "fiona 1.8.22\n",
      "xarray 0.20.1\n",
      "netCDF4 1.5.7\n",
      "optuna 2.10.1\n",
      "skopt 0.9.0\n",
      "hyperopt 0.2.7\n",
      "plotly 5.3.1\n",
      "lime NotDefined\n",
      "seaborn 0.11.2\n"
     ]
    }
   ],
   "source": [
    "for lib, ver in get_version_info().items():\n",
    "    print(lib, ver)"
   ]
  },
  {
   "cell_type": "markdown",
   "metadata": {},
   "source": [
    "When it comes to preparing data for supervised machine learning (prediction) problem, we need to think in terms of ``input features``, ``output features``, ``examples`` and ``dimensions`` of input and output features. This is because a machine learning model/algorithm is a box which takes something (input features) as input and retuns something else (output feature) as output. We should however keep in mind that the inputs and outputs should be related to each other in one way or the other. For example, we should not be using chocolate consumption as input in order to predict number of nobel laureates. [Apparently they are correlated with each other](https://www.reddit.com/r/dataisbeautiful/comments/11avw2/strong_correlation_between_chocolate_consumption/). An ``example`` consists of input-output pairs. This means one example as one input and the corresponding output. The input can consist of one or more input features. Usually it is considered that the larger the examples, the better. However the more diverse the examples, the better. All the examples should have exactly similar inputs and outputs. For example if we want to predict next day's temperature, we can not have some examples with humidity+wind speed as input and some examples with humidity + sunlight as input. If some input features are not available for some examples, we must either fill them using some rule or discard those examples. It should be noted that the word data-points or samples is also used for what we are calling ``examples``. Similarly, the word target, label or true output is also used for output. \n",
    "\n",
    "When it comes to dimensions of input and output features, we need to think that whether an input feature in an example is scaler or vector and if it is vector then whether it is one dimensional or multi-dimensional. Consider the problem of prediction of next day's temperature using climate variables from the previous day. If we are using the value of temperature at a single point of time at a place, then it can be a scalar value. If we want to use temperature from previous five days as an input feature, then this feature is a one dimensional input feature. If however, we consider the raster map of temperature of a city as an input feature, then this feautre is a multi-dimensional input feature. If all the input and output features are scalar values, this means we can fit our data into table/excel sheet/csv file. Such a data is called tabular data. In such a data, each column corresponds to an input feature and each row corresponds to an example. We can however also combine scalar and multi-dimensional features as input in a single model. Consider for example, predicting next day's temperature in a city using previous day's temperature (image data) and latitude and longitude of the city (scalar data) as input features. \n",
    "\n",
    "Now consider the following tabular data in the form of pandas DataFrame."
   ]
  },
  {
   "cell_type": "code",
   "execution_count": 52,
   "metadata": {},
   "outputs": [],
   "source": [
    "data = busan_beach()"
   ]
  },
  {
   "cell_type": "markdown",
   "metadata": {},
   "source": [
    "This data consists of 1446 rows and 14 columns."
   ]
  },
  {
   "cell_type": "code",
   "execution_count": 53,
   "metadata": {},
   "outputs": [
    {
     "data": {
      "text/plain": [
       "(1446, 14)"
      ]
     },
     "execution_count": 53,
     "metadata": {},
     "output_type": "execute_result"
    }
   ],
   "source": [
    "data.shape"
   ]
  },
  {
   "cell_type": "markdown",
   "metadata": {},
   "source": [
    "If we check the names of columns in data, we find out some are hydrological features while others are climate features."
   ]
  },
  {
   "cell_type": "code",
   "execution_count": 54,
   "metadata": {},
   "outputs": [
    {
     "data": {
      "text/plain": [
       "Index(['tide_cm', 'wat_temp_c', 'sal_psu', 'air_temp_c', 'pcp_mm', 'pcp3_mm',\n",
       "       'pcp6_mm', 'pcp12_mm', 'wind_dir_deg', 'wind_speed_mps', 'air_p_hpa',\n",
       "       'mslp_hpa', 'rel_hum', 'tetx_coppml'],\n",
       "      dtype='object')"
      ]
     },
     "execution_count": 54,
     "metadata": {},
     "output_type": "execute_result"
    }
   ],
   "source": [
    "data.columns"
   ]
  },
  {
   "cell_type": "code",
   "execution_count": 55,
   "metadata": {},
   "outputs": [
    {
     "data": {
      "text/html": [
       "<div>\n",
       "<style scoped>\n",
       "    .dataframe tbody tr th:only-of-type {\n",
       "        vertical-align: middle;\n",
       "    }\n",
       "\n",
       "    .dataframe tbody tr th {\n",
       "        vertical-align: top;\n",
       "    }\n",
       "\n",
       "    .dataframe thead th {\n",
       "        text-align: right;\n",
       "    }\n",
       "</style>\n",
       "<table border=\"1\" class=\"dataframe\">\n",
       "  <thead>\n",
       "    <tr style=\"text-align: right;\">\n",
       "      <th></th>\n",
       "      <th>tide_cm</th>\n",
       "      <th>wat_temp_c</th>\n",
       "      <th>sal_psu</th>\n",
       "      <th>air_temp_c</th>\n",
       "      <th>pcp_mm</th>\n",
       "      <th>pcp3_mm</th>\n",
       "      <th>pcp6_mm</th>\n",
       "      <th>pcp12_mm</th>\n",
       "      <th>wind_dir_deg</th>\n",
       "      <th>wind_speed_mps</th>\n",
       "      <th>air_p_hpa</th>\n",
       "      <th>mslp_hpa</th>\n",
       "      <th>rel_hum</th>\n",
       "      <th>tetx_coppml</th>\n",
       "    </tr>\n",
       "    <tr>\n",
       "      <th>index</th>\n",
       "      <th></th>\n",
       "      <th></th>\n",
       "      <th></th>\n",
       "      <th></th>\n",
       "      <th></th>\n",
       "      <th></th>\n",
       "      <th></th>\n",
       "      <th></th>\n",
       "      <th></th>\n",
       "      <th></th>\n",
       "      <th></th>\n",
       "      <th></th>\n",
       "      <th></th>\n",
       "      <th></th>\n",
       "    </tr>\n",
       "  </thead>\n",
       "  <tbody>\n",
       "    <tr>\n",
       "      <th>2018-06-19 00:00:00</th>\n",
       "      <td>36.407149</td>\n",
       "      <td>19.321232</td>\n",
       "      <td>33.956058</td>\n",
       "      <td>19.780000</td>\n",
       "      <td>0.0</td>\n",
       "      <td>0.0</td>\n",
       "      <td>0.0</td>\n",
       "      <td>0.0</td>\n",
       "      <td>159.533333</td>\n",
       "      <td>0.960000</td>\n",
       "      <td>1002.856667</td>\n",
       "      <td>1007.256667</td>\n",
       "      <td>95.000000</td>\n",
       "      <td>NaN</td>\n",
       "    </tr>\n",
       "    <tr>\n",
       "      <th>2018-06-19 00:30:00</th>\n",
       "      <td>35.562515</td>\n",
       "      <td>19.320124</td>\n",
       "      <td>33.950508</td>\n",
       "      <td>19.093333</td>\n",
       "      <td>0.0</td>\n",
       "      <td>0.0</td>\n",
       "      <td>0.0</td>\n",
       "      <td>0.0</td>\n",
       "      <td>86.596667</td>\n",
       "      <td>0.163333</td>\n",
       "      <td>1002.300000</td>\n",
       "      <td>1006.700000</td>\n",
       "      <td>95.000000</td>\n",
       "      <td>NaN</td>\n",
       "    </tr>\n",
       "    <tr>\n",
       "      <th>2018-06-19 01:00:00</th>\n",
       "      <td>34.808016</td>\n",
       "      <td>19.319666</td>\n",
       "      <td>33.942532</td>\n",
       "      <td>18.733333</td>\n",
       "      <td>0.0</td>\n",
       "      <td>0.0</td>\n",
       "      <td>0.0</td>\n",
       "      <td>0.0</td>\n",
       "      <td>2.260000</td>\n",
       "      <td>0.080000</td>\n",
       "      <td>1001.973333</td>\n",
       "      <td>1006.373333</td>\n",
       "      <td>95.000000</td>\n",
       "      <td>NaN</td>\n",
       "    </tr>\n",
       "    <tr>\n",
       "      <th>2018-06-19 01:30:00</th>\n",
       "      <td>30.645216</td>\n",
       "      <td>19.320406</td>\n",
       "      <td>33.931263</td>\n",
       "      <td>18.760000</td>\n",
       "      <td>0.0</td>\n",
       "      <td>0.0</td>\n",
       "      <td>0.0</td>\n",
       "      <td>0.0</td>\n",
       "      <td>62.710000</td>\n",
       "      <td>0.193333</td>\n",
       "      <td>1001.776667</td>\n",
       "      <td>1006.120000</td>\n",
       "      <td>95.006667</td>\n",
       "      <td>NaN</td>\n",
       "    </tr>\n",
       "    <tr>\n",
       "      <th>2018-06-19 02:00:00</th>\n",
       "      <td>26.608980</td>\n",
       "      <td>19.326729</td>\n",
       "      <td>33.917961</td>\n",
       "      <td>18.633333</td>\n",
       "      <td>0.0</td>\n",
       "      <td>0.0</td>\n",
       "      <td>0.0</td>\n",
       "      <td>0.0</td>\n",
       "      <td>63.446667</td>\n",
       "      <td>0.510000</td>\n",
       "      <td>1001.743333</td>\n",
       "      <td>1006.103333</td>\n",
       "      <td>95.006667</td>\n",
       "      <td>NaN</td>\n",
       "    </tr>\n",
       "  </tbody>\n",
       "</table>\n",
       "</div>"
      ],
      "text/plain": [
       "                       tide_cm  wat_temp_c    sal_psu  air_temp_c  pcp_mm  \\\n",
       "index                                                                       \n",
       "2018-06-19 00:00:00  36.407149   19.321232  33.956058   19.780000     0.0   \n",
       "2018-06-19 00:30:00  35.562515   19.320124  33.950508   19.093333     0.0   \n",
       "2018-06-19 01:00:00  34.808016   19.319666  33.942532   18.733333     0.0   \n",
       "2018-06-19 01:30:00  30.645216   19.320406  33.931263   18.760000     0.0   \n",
       "2018-06-19 02:00:00  26.608980   19.326729  33.917961   18.633333     0.0   \n",
       "\n",
       "                     pcp3_mm  pcp6_mm  pcp12_mm  wind_dir_deg  wind_speed_mps  \\\n",
       "index                                                                           \n",
       "2018-06-19 00:00:00      0.0      0.0       0.0    159.533333        0.960000   \n",
       "2018-06-19 00:30:00      0.0      0.0       0.0     86.596667        0.163333   \n",
       "2018-06-19 01:00:00      0.0      0.0       0.0      2.260000        0.080000   \n",
       "2018-06-19 01:30:00      0.0      0.0       0.0     62.710000        0.193333   \n",
       "2018-06-19 02:00:00      0.0      0.0       0.0     63.446667        0.510000   \n",
       "\n",
       "                       air_p_hpa     mslp_hpa    rel_hum  tetx_coppml  \n",
       "index                                                                  \n",
       "2018-06-19 00:00:00  1002.856667  1007.256667  95.000000          NaN  \n",
       "2018-06-19 00:30:00  1002.300000  1006.700000  95.000000          NaN  \n",
       "2018-06-19 01:00:00  1001.973333  1006.373333  95.000000          NaN  \n",
       "2018-06-19 01:30:00  1001.776667  1006.120000  95.006667          NaN  \n",
       "2018-06-19 02:00:00  1001.743333  1006.103333  95.006667          NaN  "
      ]
     },
     "execution_count": 55,
     "metadata": {},
     "output_type": "execute_result"
    }
   ],
   "source": [
    "data.head()"
   ]
  },
  {
   "cell_type": "code",
   "execution_count": 56,
   "metadata": {},
   "outputs": [
    {
     "data": {
      "text/html": [
       "<div>\n",
       "<style scoped>\n",
       "    .dataframe tbody tr th:only-of-type {\n",
       "        vertical-align: middle;\n",
       "    }\n",
       "\n",
       "    .dataframe tbody tr th {\n",
       "        vertical-align: top;\n",
       "    }\n",
       "\n",
       "    .dataframe thead th {\n",
       "        text-align: right;\n",
       "    }\n",
       "</style>\n",
       "<table border=\"1\" class=\"dataframe\">\n",
       "  <thead>\n",
       "    <tr style=\"text-align: right;\">\n",
       "      <th></th>\n",
       "      <th>tide_cm</th>\n",
       "      <th>wat_temp_c</th>\n",
       "      <th>sal_psu</th>\n",
       "      <th>air_temp_c</th>\n",
       "      <th>pcp_mm</th>\n",
       "      <th>pcp3_mm</th>\n",
       "      <th>pcp6_mm</th>\n",
       "      <th>pcp12_mm</th>\n",
       "      <th>wind_dir_deg</th>\n",
       "      <th>wind_speed_mps</th>\n",
       "      <th>air_p_hpa</th>\n",
       "      <th>mslp_hpa</th>\n",
       "      <th>rel_hum</th>\n",
       "      <th>tetx_coppml</th>\n",
       "    </tr>\n",
       "    <tr>\n",
       "      <th>index</th>\n",
       "      <th></th>\n",
       "      <th></th>\n",
       "      <th></th>\n",
       "      <th></th>\n",
       "      <th></th>\n",
       "      <th></th>\n",
       "      <th></th>\n",
       "      <th></th>\n",
       "      <th></th>\n",
       "      <th></th>\n",
       "      <th></th>\n",
       "      <th></th>\n",
       "      <th></th>\n",
       "      <th></th>\n",
       "    </tr>\n",
       "  </thead>\n",
       "  <tbody>\n",
       "    <tr>\n",
       "      <th>2019-09-07 22:00:00</th>\n",
       "      <td>-3.989912</td>\n",
       "      <td>20.990612</td>\n",
       "      <td>33.776449</td>\n",
       "      <td>23.700000</td>\n",
       "      <td>0.0</td>\n",
       "      <td>0.0</td>\n",
       "      <td>0.0</td>\n",
       "      <td>0.5</td>\n",
       "      <td>203.760000</td>\n",
       "      <td>6.506667</td>\n",
       "      <td>1003.446667</td>\n",
       "      <td>1007.746667</td>\n",
       "      <td>88.170000</td>\n",
       "      <td>NaN</td>\n",
       "    </tr>\n",
       "    <tr>\n",
       "      <th>2019-09-07 22:30:00</th>\n",
       "      <td>-2.807042</td>\n",
       "      <td>21.012014</td>\n",
       "      <td>33.702310</td>\n",
       "      <td>23.620000</td>\n",
       "      <td>0.0</td>\n",
       "      <td>0.0</td>\n",
       "      <td>0.0</td>\n",
       "      <td>0.0</td>\n",
       "      <td>205.353333</td>\n",
       "      <td>5.633333</td>\n",
       "      <td>1003.520000</td>\n",
       "      <td>1007.820000</td>\n",
       "      <td>88.256667</td>\n",
       "      <td>NaN</td>\n",
       "    </tr>\n",
       "    <tr>\n",
       "      <th>2019-09-07 23:00:00</th>\n",
       "      <td>-3.471326</td>\n",
       "      <td>20.831739</td>\n",
       "      <td>33.726177</td>\n",
       "      <td>23.666667</td>\n",
       "      <td>0.0</td>\n",
       "      <td>0.0</td>\n",
       "      <td>0.0</td>\n",
       "      <td>0.0</td>\n",
       "      <td>202.540000</td>\n",
       "      <td>4.480000</td>\n",
       "      <td>1003.610000</td>\n",
       "      <td>1007.910000</td>\n",
       "      <td>87.833333</td>\n",
       "      <td>NaN</td>\n",
       "    </tr>\n",
       "    <tr>\n",
       "      <th>2019-09-07 23:30:00</th>\n",
       "      <td>0.707771</td>\n",
       "      <td>21.006086</td>\n",
       "      <td>33.716274</td>\n",
       "      <td>23.633333</td>\n",
       "      <td>0.0</td>\n",
       "      <td>0.0</td>\n",
       "      <td>0.0</td>\n",
       "      <td>0.0</td>\n",
       "      <td>207.206667</td>\n",
       "      <td>4.946667</td>\n",
       "      <td>1003.633333</td>\n",
       "      <td>1007.933333</td>\n",
       "      <td>88.370000</td>\n",
       "      <td>NaN</td>\n",
       "    </tr>\n",
       "    <tr>\n",
       "      <th>2019-09-08 00:00:00</th>\n",
       "      <td>1.011731</td>\n",
       "      <td>20.896149</td>\n",
       "      <td>33.729773</td>\n",
       "      <td>23.600000</td>\n",
       "      <td>0.0</td>\n",
       "      <td>0.0</td>\n",
       "      <td>0.0</td>\n",
       "      <td>0.0</td>\n",
       "      <td>210.200000</td>\n",
       "      <td>4.400000</td>\n",
       "      <td>1003.700000</td>\n",
       "      <td>1008.000000</td>\n",
       "      <td>87.700000</td>\n",
       "      <td>NaN</td>\n",
       "    </tr>\n",
       "  </tbody>\n",
       "</table>\n",
       "</div>"
      ],
      "text/plain": [
       "                      tide_cm  wat_temp_c    sal_psu  air_temp_c  pcp_mm  \\\n",
       "index                                                                      \n",
       "2019-09-07 22:00:00 -3.989912   20.990612  33.776449   23.700000     0.0   \n",
       "2019-09-07 22:30:00 -2.807042   21.012014  33.702310   23.620000     0.0   \n",
       "2019-09-07 23:00:00 -3.471326   20.831739  33.726177   23.666667     0.0   \n",
       "2019-09-07 23:30:00  0.707771   21.006086  33.716274   23.633333     0.0   \n",
       "2019-09-08 00:00:00  1.011731   20.896149  33.729773   23.600000     0.0   \n",
       "\n",
       "                     pcp3_mm  pcp6_mm  pcp12_mm  wind_dir_deg  wind_speed_mps  \\\n",
       "index                                                                           \n",
       "2019-09-07 22:00:00      0.0      0.0       0.5    203.760000        6.506667   \n",
       "2019-09-07 22:30:00      0.0      0.0       0.0    205.353333        5.633333   \n",
       "2019-09-07 23:00:00      0.0      0.0       0.0    202.540000        4.480000   \n",
       "2019-09-07 23:30:00      0.0      0.0       0.0    207.206667        4.946667   \n",
       "2019-09-08 00:00:00      0.0      0.0       0.0    210.200000        4.400000   \n",
       "\n",
       "                       air_p_hpa     mslp_hpa    rel_hum  tetx_coppml  \n",
       "index                                                                  \n",
       "2019-09-07 22:00:00  1003.446667  1007.746667  88.170000          NaN  \n",
       "2019-09-07 22:30:00  1003.520000  1007.820000  88.256667          NaN  \n",
       "2019-09-07 23:00:00  1003.610000  1007.910000  87.833333          NaN  \n",
       "2019-09-07 23:30:00  1003.633333  1007.933333  88.370000          NaN  \n",
       "2019-09-08 00:00:00  1003.700000  1008.000000  87.700000          NaN  "
      ]
     },
     "execution_count": 56,
     "metadata": {},
     "output_type": "execute_result"
    }
   ],
   "source": [
    "data.tail()"
   ]
  },
  {
   "cell_type": "markdown",
   "metadata": {},
   "source": [
    "We see in the several missing values in the last column of the data. If we want to quantify the exact amount of\n",
    "missing values in each column in the data, we can do as below"
   ]
  },
  {
   "cell_type": "code",
   "execution_count": 57,
   "metadata": {},
   "outputs": [
    {
     "data": {
      "text/plain": [
       "tide_cm              0\n",
       "wat_temp_c           0\n",
       "sal_psu              0\n",
       "air_temp_c           0\n",
       "pcp_mm               0\n",
       "pcp3_mm              0\n",
       "pcp6_mm              0\n",
       "pcp12_mm             0\n",
       "wind_dir_deg         0\n",
       "wind_speed_mps       0\n",
       "air_p_hpa            0\n",
       "mslp_hpa             0\n",
       "rel_hum              0\n",
       "tetx_coppml       1228\n",
       "dtype: int64"
      ]
     },
     "execution_count": 57,
     "metadata": {},
     "output_type": "execute_result"
    }
   ],
   "source": [
    "data.isna().sum()"
   ]
  },
  {
   "cell_type": "markdown",
   "metadata": {},
   "source": [
    "So, if we exclude all the rows with any missing value in it, then we end up with 218 rows."
   ]
  },
  {
   "cell_type": "code",
   "execution_count": 58,
   "metadata": {},
   "outputs": [
    {
     "data": {
      "text/plain": [
       "(218, 14)"
      ]
     },
     "execution_count": 58,
     "metadata": {},
     "output_type": "execute_result"
    }
   ],
   "source": [
    "data.dropna().shape"
   ]
  },
  {
   "cell_type": "markdown",
   "metadata": {},
   "source": [
    "This means we can make, at maximum 218 examples from this data."
   ]
  },
  {
   "cell_type": "code",
   "execution_count": 59,
   "metadata": {},
   "outputs": [
    {
     "data": {
      "text/html": [
       "<div>\n",
       "<style scoped>\n",
       "    .dataframe tbody tr th:only-of-type {\n",
       "        vertical-align: middle;\n",
       "    }\n",
       "\n",
       "    .dataframe tbody tr th {\n",
       "        vertical-align: top;\n",
       "    }\n",
       "\n",
       "    .dataframe thead th {\n",
       "        text-align: right;\n",
       "    }\n",
       "</style>\n",
       "<table border=\"1\" class=\"dataframe\">\n",
       "  <thead>\n",
       "    <tr style=\"text-align: right;\">\n",
       "      <th></th>\n",
       "      <th>tide_cm</th>\n",
       "      <th>wat_temp_c</th>\n",
       "      <th>sal_psu</th>\n",
       "      <th>air_temp_c</th>\n",
       "      <th>pcp_mm</th>\n",
       "      <th>pcp3_mm</th>\n",
       "      <th>pcp6_mm</th>\n",
       "      <th>pcp12_mm</th>\n",
       "      <th>wind_dir_deg</th>\n",
       "      <th>wind_speed_mps</th>\n",
       "      <th>air_p_hpa</th>\n",
       "      <th>mslp_hpa</th>\n",
       "      <th>rel_hum</th>\n",
       "      <th>tetx_coppml</th>\n",
       "    </tr>\n",
       "    <tr>\n",
       "      <th>index</th>\n",
       "      <th></th>\n",
       "      <th></th>\n",
       "      <th></th>\n",
       "      <th></th>\n",
       "      <th></th>\n",
       "      <th></th>\n",
       "      <th></th>\n",
       "      <th></th>\n",
       "      <th></th>\n",
       "      <th></th>\n",
       "      <th></th>\n",
       "      <th></th>\n",
       "      <th></th>\n",
       "      <th></th>\n",
       "    </tr>\n",
       "  </thead>\n",
       "  <tbody>\n",
       "    <tr>\n",
       "      <th>2018-06-20 09:00:00</th>\n",
       "      <td>-22.245026</td>\n",
       "      <td>19.457182</td>\n",
       "      <td>34.004292</td>\n",
       "      <td>24.280000</td>\n",
       "      <td>0.0</td>\n",
       "      <td>0.0</td>\n",
       "      <td>0.0</td>\n",
       "      <td>6.0</td>\n",
       "      <td>205.006667</td>\n",
       "      <td>1.653333</td>\n",
       "      <td>998.613333</td>\n",
       "      <td>1002.913333</td>\n",
       "      <td>75.100000</td>\n",
       "      <td>444866.9004</td>\n",
       "    </tr>\n",
       "    <tr>\n",
       "      <th>2018-06-20 12:00:00</th>\n",
       "      <td>10.906243</td>\n",
       "      <td>19.511044</td>\n",
       "      <td>34.044975</td>\n",
       "      <td>26.076667</td>\n",
       "      <td>0.0</td>\n",
       "      <td>0.0</td>\n",
       "      <td>0.0</td>\n",
       "      <td>0.0</td>\n",
       "      <td>201.593333</td>\n",
       "      <td>2.993333</td>\n",
       "      <td>998.830000</td>\n",
       "      <td>1003.130000</td>\n",
       "      <td>67.423333</td>\n",
       "      <td>193368.2195</td>\n",
       "    </tr>\n",
       "    <tr>\n",
       "      <th>2018-06-20 15:00:00</th>\n",
       "      <td>15.025008</td>\n",
       "      <td>19.582047</td>\n",
       "      <td>34.134964</td>\n",
       "      <td>25.043333</td>\n",
       "      <td>0.0</td>\n",
       "      <td>0.0</td>\n",
       "      <td>0.0</td>\n",
       "      <td>0.0</td>\n",
       "      <td>188.976667</td>\n",
       "      <td>2.010000</td>\n",
       "      <td>998.190000</td>\n",
       "      <td>1002.490000</td>\n",
       "      <td>67.136667</td>\n",
       "      <td>287920.3535</td>\n",
       "    </tr>\n",
       "    <tr>\n",
       "      <th>2018-06-20 18:00:00</th>\n",
       "      <td>-7.755828</td>\n",
       "      <td>19.579559</td>\n",
       "      <td>34.106552</td>\n",
       "      <td>22.826667</td>\n",
       "      <td>0.0</td>\n",
       "      <td>0.0</td>\n",
       "      <td>0.0</td>\n",
       "      <td>0.0</td>\n",
       "      <td>209.493333</td>\n",
       "      <td>1.480000</td>\n",
       "      <td>998.416667</td>\n",
       "      <td>1002.716667</td>\n",
       "      <td>77.413333</td>\n",
       "      <td>246005.6510</td>\n",
       "    </tr>\n",
       "    <tr>\n",
       "      <th>2018-06-20 21:00:00</th>\n",
       "      <td>-18.817711</td>\n",
       "      <td>19.570045</td>\n",
       "      <td>34.100220</td>\n",
       "      <td>20.910000</td>\n",
       "      <td>0.0</td>\n",
       "      <td>0.0</td>\n",
       "      <td>0.0</td>\n",
       "      <td>0.0</td>\n",
       "      <td>260.616667</td>\n",
       "      <td>1.080000</td>\n",
       "      <td>999.843333</td>\n",
       "      <td>1004.143333</td>\n",
       "      <td>79.093333</td>\n",
       "      <td>273757.5439</td>\n",
       "    </tr>\n",
       "  </tbody>\n",
       "</table>\n",
       "</div>"
      ],
      "text/plain": [
       "                       tide_cm  wat_temp_c    sal_psu  air_temp_c  pcp_mm  \\\n",
       "index                                                                       \n",
       "2018-06-20 09:00:00 -22.245026   19.457182  34.004292   24.280000     0.0   \n",
       "2018-06-20 12:00:00  10.906243   19.511044  34.044975   26.076667     0.0   \n",
       "2018-06-20 15:00:00  15.025008   19.582047  34.134964   25.043333     0.0   \n",
       "2018-06-20 18:00:00  -7.755828   19.579559  34.106552   22.826667     0.0   \n",
       "2018-06-20 21:00:00 -18.817711   19.570045  34.100220   20.910000     0.0   \n",
       "\n",
       "                     pcp3_mm  pcp6_mm  pcp12_mm  wind_dir_deg  wind_speed_mps  \\\n",
       "index                                                                           \n",
       "2018-06-20 09:00:00      0.0      0.0       6.0    205.006667        1.653333   \n",
       "2018-06-20 12:00:00      0.0      0.0       0.0    201.593333        2.993333   \n",
       "2018-06-20 15:00:00      0.0      0.0       0.0    188.976667        2.010000   \n",
       "2018-06-20 18:00:00      0.0      0.0       0.0    209.493333        1.480000   \n",
       "2018-06-20 21:00:00      0.0      0.0       0.0    260.616667        1.080000   \n",
       "\n",
       "                      air_p_hpa     mslp_hpa    rel_hum  tetx_coppml  \n",
       "index                                                                 \n",
       "2018-06-20 09:00:00  998.613333  1002.913333  75.100000  444866.9004  \n",
       "2018-06-20 12:00:00  998.830000  1003.130000  67.423333  193368.2195  \n",
       "2018-06-20 15:00:00  998.190000  1002.490000  67.136667  287920.3535  \n",
       "2018-06-20 18:00:00  998.416667  1002.716667  77.413333  246005.6510  \n",
       "2018-06-20 21:00:00  999.843333  1004.143333  79.093333  273757.5439  "
      ]
     },
     "execution_count": 59,
     "metadata": {},
     "output_type": "execute_result"
    }
   ],
   "source": [
    "data.dropna().head()"
   ]
  },
  {
   "cell_type": "code",
   "execution_count": 60,
   "metadata": {},
   "outputs": [
    {
     "data": {
      "text/html": [
       "<div>\n",
       "<style scoped>\n",
       "    .dataframe tbody tr th:only-of-type {\n",
       "        vertical-align: middle;\n",
       "    }\n",
       "\n",
       "    .dataframe tbody tr th {\n",
       "        vertical-align: top;\n",
       "    }\n",
       "\n",
       "    .dataframe thead th {\n",
       "        text-align: right;\n",
       "    }\n",
       "</style>\n",
       "<table border=\"1\" class=\"dataframe\">\n",
       "  <thead>\n",
       "    <tr style=\"text-align: right;\">\n",
       "      <th></th>\n",
       "      <th>tide_cm</th>\n",
       "      <th>wat_temp_c</th>\n",
       "      <th>sal_psu</th>\n",
       "      <th>air_temp_c</th>\n",
       "      <th>pcp_mm</th>\n",
       "      <th>pcp3_mm</th>\n",
       "      <th>pcp6_mm</th>\n",
       "      <th>pcp12_mm</th>\n",
       "      <th>wind_dir_deg</th>\n",
       "      <th>wind_speed_mps</th>\n",
       "      <th>air_p_hpa</th>\n",
       "      <th>mslp_hpa</th>\n",
       "      <th>rel_hum</th>\n",
       "      <th>tetx_coppml</th>\n",
       "    </tr>\n",
       "    <tr>\n",
       "      <th>index</th>\n",
       "      <th></th>\n",
       "      <th></th>\n",
       "      <th></th>\n",
       "      <th></th>\n",
       "      <th></th>\n",
       "      <th></th>\n",
       "      <th></th>\n",
       "      <th></th>\n",
       "      <th></th>\n",
       "      <th></th>\n",
       "      <th></th>\n",
       "      <th></th>\n",
       "      <th></th>\n",
       "      <th></th>\n",
       "    </tr>\n",
       "  </thead>\n",
       "  <tbody>\n",
       "    <tr>\n",
       "      <th>2019-09-06 11:00:00</th>\n",
       "      <td>15.146028</td>\n",
       "      <td>19.247823</td>\n",
       "      <td>33.746046</td>\n",
       "      <td>27.666667</td>\n",
       "      <td>0.0</td>\n",
       "      <td>0.0</td>\n",
       "      <td>0.0</td>\n",
       "      <td>0.0</td>\n",
       "      <td>71.336667</td>\n",
       "      <td>1.666667</td>\n",
       "      <td>1006.450000</td>\n",
       "      <td>1010.750000</td>\n",
       "      <td>75.393333</td>\n",
       "      <td>1.320332e+07</td>\n",
       "    </tr>\n",
       "    <tr>\n",
       "      <th>2019-09-06 12:00:00</th>\n",
       "      <td>24.810148</td>\n",
       "      <td>20.357189</td>\n",
       "      <td>33.778996</td>\n",
       "      <td>27.383333</td>\n",
       "      <td>0.0</td>\n",
       "      <td>0.0</td>\n",
       "      <td>0.0</td>\n",
       "      <td>0.0</td>\n",
       "      <td>49.626667</td>\n",
       "      <td>1.386667</td>\n",
       "      <td>1006.106667</td>\n",
       "      <td>1010.406667</td>\n",
       "      <td>75.896667</td>\n",
       "      <td>2.437392e+06</td>\n",
       "    </tr>\n",
       "    <tr>\n",
       "      <th>2019-09-06 13:00:00</th>\n",
       "      <td>25.666843</td>\n",
       "      <td>19.362318</td>\n",
       "      <td>33.810041</td>\n",
       "      <td>27.533333</td>\n",
       "      <td>0.0</td>\n",
       "      <td>0.0</td>\n",
       "      <td>0.0</td>\n",
       "      <td>0.0</td>\n",
       "      <td>43.590000</td>\n",
       "      <td>2.076667</td>\n",
       "      <td>1005.316667</td>\n",
       "      <td>1009.616667</td>\n",
       "      <td>76.056667</td>\n",
       "      <td>2.927098e+06</td>\n",
       "    </tr>\n",
       "    <tr>\n",
       "      <th>2019-09-06 14:00:00</th>\n",
       "      <td>25.712396</td>\n",
       "      <td>19.317668</td>\n",
       "      <td>33.727930</td>\n",
       "      <td>28.213333</td>\n",
       "      <td>0.0</td>\n",
       "      <td>0.0</td>\n",
       "      <td>0.0</td>\n",
       "      <td>0.0</td>\n",
       "      <td>42.160000</td>\n",
       "      <td>2.603333</td>\n",
       "      <td>1004.246667</td>\n",
       "      <td>1008.546667</td>\n",
       "      <td>71.943333</td>\n",
       "      <td>4.699929e+06</td>\n",
       "    </tr>\n",
       "    <tr>\n",
       "      <th>2019-09-06 15:00:00</th>\n",
       "      <td>18.448916</td>\n",
       "      <td>20.592932</td>\n",
       "      <td>33.831501</td>\n",
       "      <td>27.896667</td>\n",
       "      <td>0.0</td>\n",
       "      <td>0.0</td>\n",
       "      <td>0.0</td>\n",
       "      <td>0.0</td>\n",
       "      <td>29.850000</td>\n",
       "      <td>2.743333</td>\n",
       "      <td>1003.846667</td>\n",
       "      <td>1008.146667</td>\n",
       "      <td>72.740000</td>\n",
       "      <td>3.506092e+06</td>\n",
       "    </tr>\n",
       "  </tbody>\n",
       "</table>\n",
       "</div>"
      ],
      "text/plain": [
       "                       tide_cm  wat_temp_c    sal_psu  air_temp_c  pcp_mm  \\\n",
       "index                                                                       \n",
       "2019-09-06 11:00:00  15.146028   19.247823  33.746046   27.666667     0.0   \n",
       "2019-09-06 12:00:00  24.810148   20.357189  33.778996   27.383333     0.0   \n",
       "2019-09-06 13:00:00  25.666843   19.362318  33.810041   27.533333     0.0   \n",
       "2019-09-06 14:00:00  25.712396   19.317668  33.727930   28.213333     0.0   \n",
       "2019-09-06 15:00:00  18.448916   20.592932  33.831501   27.896667     0.0   \n",
       "\n",
       "                     pcp3_mm  pcp6_mm  pcp12_mm  wind_dir_deg  wind_speed_mps  \\\n",
       "index                                                                           \n",
       "2019-09-06 11:00:00      0.0      0.0       0.0     71.336667        1.666667   \n",
       "2019-09-06 12:00:00      0.0      0.0       0.0     49.626667        1.386667   \n",
       "2019-09-06 13:00:00      0.0      0.0       0.0     43.590000        2.076667   \n",
       "2019-09-06 14:00:00      0.0      0.0       0.0     42.160000        2.603333   \n",
       "2019-09-06 15:00:00      0.0      0.0       0.0     29.850000        2.743333   \n",
       "\n",
       "                       air_p_hpa     mslp_hpa    rel_hum   tetx_coppml  \n",
       "index                                                                   \n",
       "2019-09-06 11:00:00  1006.450000  1010.750000  75.393333  1.320332e+07  \n",
       "2019-09-06 12:00:00  1006.106667  1010.406667  75.896667  2.437392e+06  \n",
       "2019-09-06 13:00:00  1005.316667  1009.616667  76.056667  2.927098e+06  \n",
       "2019-09-06 14:00:00  1004.246667  1008.546667  71.943333  4.699929e+06  \n",
       "2019-09-06 15:00:00  1003.846667  1008.146667  72.740000  3.506092e+06  "
      ]
     },
     "execution_count": 60,
     "metadata": {},
     "output_type": "execute_result"
    }
   ],
   "source": [
    "data.dropna().tail()"
   ]
  },
  {
   "cell_type": "markdown",
   "metadata": {},
   "source": [
    "Now in order to prepare examples from our data, we make use of ``DataSet`` class. The first argument to the DataSet class should be the pandas DataFrame or numpy array."
   ]
  },
  {
   "cell_type": "code",
   "execution_count": 61,
   "metadata": {},
   "outputs": [],
   "source": [
    "\n",
    "ds = DataSet(\n",
    "    data = data\n",
    ")"
   ]
  },
  {
   "cell_type": "markdown",
   "metadata": {},
   "source": [
    "Now we can ask the instance of DataSet class to give us input/output pairs for the training data. It is common practice to denote inputs with ``x`` and outputs with ``y``."
   ]
  },
  {
   "cell_type": "code",
   "execution_count": 62,
   "metadata": {},
   "outputs": [
    {
     "name": "stdout",
     "output_type": "stream",
     "text": [
      "\n",
      "********** Removing Examples with nan in labels  **********\n",
      "\n",
      "***** Training *****\n",
      "input_x shape:  (121, 13)\n",
      "target shape:  (121, 1)\n"
     ]
    }
   ],
   "source": [
    "train_x, train_y = ds.training_data()"
   ]
  },
  {
   "cell_type": "markdown",
   "metadata": {},
   "source": [
    "The ``training_data`` method of ``DataSet`` class returns tuple of numpy arrays. The first array is the input and second array is the output. \n",
    "\n",
    "We see that with default 121 examples were chosen for training. We can also confirm this by checking the shape of ``train_x`` and ``train_y`` arrays."
   ]
  },
  {
   "cell_type": "code",
   "execution_count": 63,
   "metadata": {},
   "outputs": [
    {
     "data": {
      "text/plain": [
       "((121, 13), (121, 1))"
      ]
     },
     "execution_count": 63,
     "metadata": {},
     "output_type": "execute_result"
    }
   ],
   "source": [
    "train_x.shape, train_y.shape"
   ]
  },
  {
   "cell_type": "markdown",
   "metadata": {},
   "source": [
    "If we check the inputs from the first example, we can see that these correspond to the first row in data when nans were removed from it."
   ]
  },
  {
   "cell_type": "code",
   "execution_count": 64,
   "metadata": {},
   "outputs": [
    {
     "data": {
      "text/plain": [
       "array([ -22.245026 ,   19.457182 ,   34.00429  ,   24.28     ,\n",
       "          0.       ,    0.       ,    0.       ,    6.       ,\n",
       "        205.00667  ,    1.6533333,  998.61334  , 1002.9133   ,\n",
       "         75.1      ], dtype=float32)"
      ]
     },
     "execution_count": 64,
     "metadata": {},
     "output_type": "execute_result"
    }
   ],
   "source": [
    "train_x[0]"
   ]
  },
  {
   "cell_type": "markdown",
   "metadata": {},
   "source": [
    "The target/output for the first example correspond to the same row as that of inputs."
   ]
  },
  {
   "cell_type": "code",
   "execution_count": 65,
   "metadata": {},
   "outputs": [
    {
     "data": {
      "text/plain": [
       "array([444866.9004])"
      ]
     },
     "execution_count": 65,
     "metadata": {},
     "output_type": "execute_result"
    }
   ],
   "source": [
    "train_y[0]"
   ]
  },
  {
   "cell_type": "code",
   "execution_count": 66,
   "metadata": {},
   "outputs": [
    {
     "data": {
      "text/plain": [
       "array([  10.906243 ,   19.511044 ,   34.044975 ,   26.076666 ,\n",
       "          0.       ,    0.       ,    0.       ,    0.       ,\n",
       "        201.59334  ,    2.9933333,  998.83     , 1003.13     ,\n",
       "         67.42333  ], dtype=float32)"
      ]
     },
     "execution_count": 66,
     "metadata": {},
     "output_type": "execute_result"
    }
   ],
   "source": [
    "train_x[1]"
   ]
  },
  {
   "cell_type": "code",
   "execution_count": 67,
   "metadata": {},
   "outputs": [
    {
     "data": {
      "text/plain": [
       "array([193368.2195])"
      ]
     },
     "execution_count": 67,
     "metadata": {},
     "output_type": "execute_result"
    }
   ],
   "source": [
    "train_y[1]"
   ]
  },
  {
   "cell_type": "code",
   "execution_count": 68,
   "metadata": {},
   "outputs": [
    {
     "name": "stdout",
     "output_type": "stream",
     "text": [
      "\n",
      "********** Removing Examples with nan in labels  **********\n",
      "\n",
      "***** Test *****\n",
      "input_x shape:  (66, 13)\n",
      "target shape:  (66, 1)\n"
     ]
    }
   ],
   "source": [
    "test_x, test_y = ds.test_data()"
   ]
  },
  {
   "cell_type": "markdown",
   "metadata": {},
   "source": [
    "The last values in test_x and test_y correspond to the last valid row i.e. the last row in data without any None value."
   ]
  },
  {
   "cell_type": "code",
   "execution_count": 69,
   "metadata": {},
   "outputs": [
    {
     "data": {
      "text/plain": [
       "array([  18.448915 ,   20.592932 ,   33.8315   ,   27.896667 ,\n",
       "          0.       ,    0.       ,    0.       ,    0.       ,\n",
       "         29.85     ,    2.7433333, 1003.8467   , 1008.14667  ,\n",
       "         72.74     ], dtype=float32)"
      ]
     },
     "execution_count": 69,
     "metadata": {},
     "output_type": "execute_result"
    }
   ],
   "source": [
    "test_x[-1]"
   ]
  },
  {
   "cell_type": "code",
   "execution_count": 70,
   "metadata": {},
   "outputs": [
    {
     "data": {
      "text/plain": [
       "array([3506092.003])"
      ]
     },
     "execution_count": 70,
     "metadata": {},
     "output_type": "execute_result"
    }
   ],
   "source": [
    "test_y[-1]"
   ]
  },
  {
   "cell_type": "markdown",
   "metadata": {},
   "source": [
    "By default, all the columns from start till second last are considered as input columns or input features and the last/remaining column is considered as output. We can however, specify input columns using the ``input_features`` keyword argument."
   ]
  },
  {
   "cell_type": "markdown",
   "metadata": {},
   "source": [
    "### defining inputs"
   ]
  },
  {
   "cell_type": "code",
   "execution_count": 71,
   "metadata": {},
   "outputs": [],
   "source": [
    "ds = DataSet(\n",
    "    data=data,\n",
    "    input_features=['tide_cm', 'wat_temp_c', 'sal_psu', 'air_temp_c', 'pcp_mm', 'pcp3_mm']\n",
    ")"
   ]
  },
  {
   "cell_type": "code",
   "execution_count": 72,
   "metadata": {},
   "outputs": [
    {
     "name": "stdout",
     "output_type": "stream",
     "text": [
      "\n",
      "********** Removing Examples with nan in labels  **********\n",
      "\n",
      "***** Training *****\n",
      "input_x shape:  (121, 6)\n",
      "target shape:  (121, 8)\n"
     ]
    },
    {
     "data": {
      "text/plain": [
       "((121, 6), (121, 8))"
      ]
     },
     "execution_count": 72,
     "metadata": {},
     "output_type": "execute_result"
    }
   ],
   "source": [
    "train_x, train_y = ds.training_data()\n",
    "train_x.shape, train_y.shape"
   ]
  },
  {
   "cell_type": "markdown",
   "metadata": {},
   "source": [
    "Now we see that the input data consists of 6 features and output data consists of 8 features. This is because by default, all the columns other than those specified for input are considered as output features."
   ]
  },
  {
   "cell_type": "code",
   "execution_count": 73,
   "metadata": {},
   "outputs": [
    {
     "data": {
      "text/plain": [
       "array([-22.245026,  19.457182,  34.00429 ,  24.28    ,   0.      ,\n",
       "         0.      ], dtype=float32)"
      ]
     },
     "execution_count": 73,
     "metadata": {},
     "output_type": "execute_result"
    }
   ],
   "source": [
    "train_x[0]"
   ]
  },
  {
   "cell_type": "markdown",
   "metadata": {},
   "source": [
    "We can however specify the columns for the output by making use of ``output_features`` keyword argument."
   ]
  },
  {
   "cell_type": "markdown",
   "metadata": {},
   "source": [
    "### defining outputs"
   ]
  },
  {
   "cell_type": "code",
   "execution_count": 74,
   "metadata": {},
   "outputs": [],
   "source": [
    "ds = DataSet(\n",
    "    data=data,\n",
    "    input_features=['tide_cm', 'wat_temp_c', 'sal_psu', 'air_temp_c', 'pcp_mm', 'pcp3_mm'],\n",
    "    output_features=[\"tetx_coppml\"]\n",
    ")"
   ]
  },
  {
   "cell_type": "code",
   "execution_count": 75,
   "metadata": {},
   "outputs": [
    {
     "name": "stdout",
     "output_type": "stream",
     "text": [
      "\n",
      "********** Removing Examples with nan in labels  **********\n",
      "\n",
      "***** Training *****\n",
      "input_x shape:  (121, 6)\n",
      "target shape:  (121, 1)\n"
     ]
    }
   ],
   "source": [
    "train_x, train_y = ds.training_data()"
   ]
  },
  {
   "cell_type": "markdown",
   "metadata": {},
   "source": [
    "If we check the values of input and output values for the first example, they correspond to the first row in data with nans removed."
   ]
  },
  {
   "cell_type": "code",
   "execution_count": 76,
   "metadata": {},
   "outputs": [
    {
     "data": {
      "text/plain": [
       "array([-22.245026,  19.457182,  34.00429 ,  24.28    ,   0.      ,\n",
       "         0.      ], dtype=float32)"
      ]
     },
     "execution_count": 76,
     "metadata": {},
     "output_type": "execute_result"
    }
   ],
   "source": [
    "train_x[0]"
   ]
  },
  {
   "cell_type": "code",
   "execution_count": 77,
   "metadata": {},
   "outputs": [
    {
     "data": {
      "text/plain": [
       "array([444866.9004])"
      ]
     },
     "execution_count": 77,
     "metadata": {},
     "output_type": "execute_result"
    }
   ],
   "source": [
    "train_y[0]"
   ]
  },
  {
   "cell_type": "code",
   "execution_count": 78,
   "metadata": {},
   "outputs": [
    {
     "data": {
      "text/plain": [
       "array([10.906243, 19.511044, 34.044975, 26.076666,  0.      ,  0.      ],\n",
       "      dtype=float32)"
      ]
     },
     "execution_count": 78,
     "metadata": {},
     "output_type": "execute_result"
    }
   ],
   "source": [
    "train_x[1]"
   ]
  },
  {
   "cell_type": "code",
   "execution_count": 79,
   "metadata": {},
   "outputs": [
    {
     "data": {
      "text/plain": [
       "array([193368.2195])"
      ]
     },
     "execution_count": 79,
     "metadata": {},
     "output_type": "execute_result"
    }
   ],
   "source": [
    "train_y[1]"
   ]
  },
  {
   "cell_type": "code",
   "execution_count": 80,
   "metadata": {},
   "outputs": [
    {
     "name": "stdout",
     "output_type": "stream",
     "text": [
      "\n",
      "********** Removing Examples with nan in labels  **********\n",
      "\n",
      "***** Test *****\n",
      "input_x shape:  (66, 6)\n",
      "target shape:  (66, 1)\n"
     ]
    },
    {
     "data": {
      "text/plain": [
       "((66, 6), (66, 1))"
      ]
     },
     "execution_count": 80,
     "metadata": {},
     "output_type": "execute_result"
    }
   ],
   "source": [
    "test_x, test_y = ds.test_data()\n",
    "test_x.shape, test_y.shape"
   ]
  },
  {
   "cell_type": "code",
   "execution_count": 81,
   "metadata": {},
   "outputs": [
    {
     "data": {
      "text/plain": [
       "array([18.448915, 20.592932, 33.8315  , 27.896667,  0.      ,  0.      ],\n",
       "      dtype=float32)"
      ]
     },
     "execution_count": 81,
     "metadata": {},
     "output_type": "execute_result"
    }
   ],
   "source": [
    "test_x[-1]"
   ]
  },
  {
   "cell_type": "code",
   "execution_count": 82,
   "metadata": {},
   "outputs": [
    {
     "data": {
      "text/plain": [
       "array([3506092.003])"
      ]
     },
     "execution_count": 82,
     "metadata": {},
     "output_type": "execute_result"
    }
   ],
   "source": [
    "test_y[-1]"
   ]
  },
  {
   "cell_type": "markdown",
   "metadata": {},
   "source": [
    "We can also have more than one output features. We just need to specify the names of columns to be used as outputs using the ``output_features`` argument."
   ]
  },
  {
   "cell_type": "code",
   "execution_count": 83,
   "metadata": {},
   "outputs": [
    {
     "data": {
      "text/plain": [
       "(1446, 15)"
      ]
     },
     "execution_count": 83,
     "metadata": {},
     "output_type": "execute_result"
    }
   ],
   "source": [
    "data = busan_beach(target=[\"blaTEM_coppml\", \"tetx_coppml\"])\n",
    "data.shape"
   ]
  },
  {
   "cell_type": "code",
   "execution_count": 84,
   "metadata": {},
   "outputs": [
    {
     "data": {
      "text/plain": [
       "Index(['tide_cm', 'wat_temp_c', 'sal_psu', 'air_temp_c', 'pcp_mm', 'pcp3_mm',\n",
       "       'pcp6_mm', 'pcp12_mm', 'wind_dir_deg', 'wind_speed_mps', 'air_p_hpa',\n",
       "       'mslp_hpa', 'rel_hum', 'blaTEM_coppml', 'tetx_coppml'],\n",
       "      dtype='object')"
      ]
     },
     "execution_count": 84,
     "metadata": {},
     "output_type": "execute_result"
    }
   ],
   "source": [
    "data.columns"
   ]
  },
  {
   "cell_type": "code",
   "execution_count": 85,
   "metadata": {},
   "outputs": [
    {
     "data": {
      "text/html": [
       "<div>\n",
       "<style scoped>\n",
       "    .dataframe tbody tr th:only-of-type {\n",
       "        vertical-align: middle;\n",
       "    }\n",
       "\n",
       "    .dataframe tbody tr th {\n",
       "        vertical-align: top;\n",
       "    }\n",
       "\n",
       "    .dataframe thead th {\n",
       "        text-align: right;\n",
       "    }\n",
       "</style>\n",
       "<table border=\"1\" class=\"dataframe\">\n",
       "  <thead>\n",
       "    <tr style=\"text-align: right;\">\n",
       "      <th></th>\n",
       "      <th>tide_cm</th>\n",
       "      <th>wat_temp_c</th>\n",
       "      <th>sal_psu</th>\n",
       "      <th>air_temp_c</th>\n",
       "      <th>pcp_mm</th>\n",
       "      <th>pcp3_mm</th>\n",
       "      <th>pcp6_mm</th>\n",
       "      <th>pcp12_mm</th>\n",
       "      <th>wind_dir_deg</th>\n",
       "      <th>wind_speed_mps</th>\n",
       "      <th>air_p_hpa</th>\n",
       "      <th>mslp_hpa</th>\n",
       "      <th>rel_hum</th>\n",
       "      <th>blaTEM_coppml</th>\n",
       "      <th>tetx_coppml</th>\n",
       "    </tr>\n",
       "    <tr>\n",
       "      <th>index</th>\n",
       "      <th></th>\n",
       "      <th></th>\n",
       "      <th></th>\n",
       "      <th></th>\n",
       "      <th></th>\n",
       "      <th></th>\n",
       "      <th></th>\n",
       "      <th></th>\n",
       "      <th></th>\n",
       "      <th></th>\n",
       "      <th></th>\n",
       "      <th></th>\n",
       "      <th></th>\n",
       "      <th></th>\n",
       "      <th></th>\n",
       "    </tr>\n",
       "  </thead>\n",
       "  <tbody>\n",
       "    <tr>\n",
       "      <th>2018-06-20 09:00:00</th>\n",
       "      <td>-22.245026</td>\n",
       "      <td>19.457182</td>\n",
       "      <td>34.004292</td>\n",
       "      <td>24.280000</td>\n",
       "      <td>0.0</td>\n",
       "      <td>0.0</td>\n",
       "      <td>0.0</td>\n",
       "      <td>6.0</td>\n",
       "      <td>205.006667</td>\n",
       "      <td>1.653333</td>\n",
       "      <td>998.613333</td>\n",
       "      <td>1002.913333</td>\n",
       "      <td>75.100000</td>\n",
       "      <td>9.665350e+05</td>\n",
       "      <td>444866.9004</td>\n",
       "    </tr>\n",
       "    <tr>\n",
       "      <th>2018-06-20 12:00:00</th>\n",
       "      <td>10.906243</td>\n",
       "      <td>19.511044</td>\n",
       "      <td>34.044975</td>\n",
       "      <td>26.076667</td>\n",
       "      <td>0.0</td>\n",
       "      <td>0.0</td>\n",
       "      <td>0.0</td>\n",
       "      <td>0.0</td>\n",
       "      <td>201.593333</td>\n",
       "      <td>2.993333</td>\n",
       "      <td>998.830000</td>\n",
       "      <td>1003.130000</td>\n",
       "      <td>67.423333</td>\n",
       "      <td>3.834816e+05</td>\n",
       "      <td>193368.2195</td>\n",
       "    </tr>\n",
       "    <tr>\n",
       "      <th>2018-06-20 15:00:00</th>\n",
       "      <td>15.025008</td>\n",
       "      <td>19.582047</td>\n",
       "      <td>34.134964</td>\n",
       "      <td>25.043333</td>\n",
       "      <td>0.0</td>\n",
       "      <td>0.0</td>\n",
       "      <td>0.0</td>\n",
       "      <td>0.0</td>\n",
       "      <td>188.976667</td>\n",
       "      <td>2.010000</td>\n",
       "      <td>998.190000</td>\n",
       "      <td>1002.490000</td>\n",
       "      <td>67.136667</td>\n",
       "      <td>1.673262e+06</td>\n",
       "      <td>287920.3535</td>\n",
       "    </tr>\n",
       "    <tr>\n",
       "      <th>2018-06-20 18:00:00</th>\n",
       "      <td>-7.755828</td>\n",
       "      <td>19.579559</td>\n",
       "      <td>34.106552</td>\n",
       "      <td>22.826667</td>\n",
       "      <td>0.0</td>\n",
       "      <td>0.0</td>\n",
       "      <td>0.0</td>\n",
       "      <td>0.0</td>\n",
       "      <td>209.493333</td>\n",
       "      <td>1.480000</td>\n",
       "      <td>998.416667</td>\n",
       "      <td>1002.716667</td>\n",
       "      <td>77.413333</td>\n",
       "      <td>5.645747e+06</td>\n",
       "      <td>246005.6510</td>\n",
       "    </tr>\n",
       "    <tr>\n",
       "      <th>2018-06-20 21:00:00</th>\n",
       "      <td>-18.817711</td>\n",
       "      <td>19.570045</td>\n",
       "      <td>34.100220</td>\n",
       "      <td>20.910000</td>\n",
       "      <td>0.0</td>\n",
       "      <td>0.0</td>\n",
       "      <td>0.0</td>\n",
       "      <td>0.0</td>\n",
       "      <td>260.616667</td>\n",
       "      <td>1.080000</td>\n",
       "      <td>999.843333</td>\n",
       "      <td>1004.143333</td>\n",
       "      <td>79.093333</td>\n",
       "      <td>1.630322e+06</td>\n",
       "      <td>273757.5439</td>\n",
       "    </tr>\n",
       "  </tbody>\n",
       "</table>\n",
       "</div>"
      ],
      "text/plain": [
       "                       tide_cm  wat_temp_c    sal_psu  air_temp_c  pcp_mm  \\\n",
       "index                                                                       \n",
       "2018-06-20 09:00:00 -22.245026   19.457182  34.004292   24.280000     0.0   \n",
       "2018-06-20 12:00:00  10.906243   19.511044  34.044975   26.076667     0.0   \n",
       "2018-06-20 15:00:00  15.025008   19.582047  34.134964   25.043333     0.0   \n",
       "2018-06-20 18:00:00  -7.755828   19.579559  34.106552   22.826667     0.0   \n",
       "2018-06-20 21:00:00 -18.817711   19.570045  34.100220   20.910000     0.0   \n",
       "\n",
       "                     pcp3_mm  pcp6_mm  pcp12_mm  wind_dir_deg  wind_speed_mps  \\\n",
       "index                                                                           \n",
       "2018-06-20 09:00:00      0.0      0.0       6.0    205.006667        1.653333   \n",
       "2018-06-20 12:00:00      0.0      0.0       0.0    201.593333        2.993333   \n",
       "2018-06-20 15:00:00      0.0      0.0       0.0    188.976667        2.010000   \n",
       "2018-06-20 18:00:00      0.0      0.0       0.0    209.493333        1.480000   \n",
       "2018-06-20 21:00:00      0.0      0.0       0.0    260.616667        1.080000   \n",
       "\n",
       "                      air_p_hpa     mslp_hpa    rel_hum  blaTEM_coppml  \\\n",
       "index                                                                    \n",
       "2018-06-20 09:00:00  998.613333  1002.913333  75.100000   9.665350e+05   \n",
       "2018-06-20 12:00:00  998.830000  1003.130000  67.423333   3.834816e+05   \n",
       "2018-06-20 15:00:00  998.190000  1002.490000  67.136667   1.673262e+06   \n",
       "2018-06-20 18:00:00  998.416667  1002.716667  77.413333   5.645747e+06   \n",
       "2018-06-20 21:00:00  999.843333  1004.143333  79.093333   1.630322e+06   \n",
       "\n",
       "                     tetx_coppml  \n",
       "index                             \n",
       "2018-06-20 09:00:00  444866.9004  \n",
       "2018-06-20 12:00:00  193368.2195  \n",
       "2018-06-20 15:00:00  287920.3535  \n",
       "2018-06-20 18:00:00  246005.6510  \n",
       "2018-06-20 21:00:00  273757.5439  "
      ]
     },
     "execution_count": 85,
     "metadata": {},
     "output_type": "execute_result"
    }
   ],
   "source": [
    "data.dropna().head()"
   ]
  },
  {
   "cell_type": "code",
   "execution_count": 88,
   "metadata": {},
   "outputs": [],
   "source": [
    "ds = DataSet(\n",
    "    data=data,\n",
    "    output_features=[\"blaTEM_coppml\", \"tetx_coppml\"],\n",
    "    verbosity=0  # setting the verbosity to 0 will not print any information.\n",
    ")"
   ]
  },
  {
   "cell_type": "code",
   "execution_count": 90,
   "metadata": {},
   "outputs": [
    {
     "data": {
      "text/plain": [
       "((121, 13), (121, 2))"
      ]
     },
     "execution_count": 90,
     "metadata": {},
     "output_type": "execute_result"
    }
   ],
   "source": [
    "train_x, train_y = ds.training_data()\n",
    "train_x.shape, train_y.shape"
   ]
  },
  {
   "cell_type": "markdown",
   "metadata": {},
   "source": [
    "We can see that all the columns starting from first till the last except the ones we defined as output features, are used as input features."
   ]
  },
  {
   "cell_type": "code",
   "execution_count": 91,
   "metadata": {},
   "outputs": [
    {
     "data": {
      "text/plain": [
       "array([ -22.245026 ,   19.457182 ,   34.00429  ,   24.28     ,\n",
       "          0.       ,    0.       ,    0.       ,    6.       ,\n",
       "        205.00667  ,    1.6533333,  998.61334  , 1002.9133   ,\n",
       "         75.1      ], dtype=float32)"
      ]
     },
     "execution_count": 91,
     "metadata": {},
     "output_type": "execute_result"
    }
   ],
   "source": [
    "train_x[0]"
   ]
  },
  {
   "cell_type": "code",
   "execution_count": 92,
   "metadata": {},
   "outputs": [
    {
     "data": {
      "text/plain": [
       "array([966535.0042, 444866.9004])"
      ]
     },
     "execution_count": 92,
     "metadata": {},
     "output_type": "execute_result"
    }
   ],
   "source": [
    "train_y[0]"
   ]
  },
  {
   "cell_type": "code",
   "execution_count": 93,
   "metadata": {},
   "outputs": [
    {
     "data": {
      "text/plain": [
       "((66, 13), (66, 2))"
      ]
     },
     "execution_count": 93,
     "metadata": {},
     "output_type": "execute_result"
    }
   ],
   "source": [
    "test_x, test_y = ds.test_data()\n",
    "test_x.shape, test_y.shape"
   ]
  },
  {
   "cell_type": "code",
   "execution_count": 94,
   "metadata": {},
   "outputs": [
    {
     "data": {
      "text/plain": [
       "array([  18.448915 ,   20.592932 ,   33.8315   ,   27.896667 ,\n",
       "          0.       ,    0.       ,    0.       ,    0.       ,\n",
       "         29.85     ,    2.7433333, 1003.8467   , 1008.14667  ,\n",
       "         72.74     ], dtype=float32)"
      ]
     },
     "execution_count": 94,
     "metadata": {},
     "output_type": "execute_result"
    }
   ],
   "source": [
    "test_x[-1]"
   ]
  },
  {
   "cell_type": "code",
   "execution_count": 95,
   "metadata": {},
   "outputs": [
    {
     "data": {
      "text/plain": [
       "array([8473063.881, 3506092.003])"
      ]
     },
     "execution_count": 95,
     "metadata": {},
     "output_type": "execute_result"
    }
   ],
   "source": [
    "test_y[-1]"
   ]
  },
  {
   "cell_type": "markdown",
   "metadata": {},
   "source": [
    "You might be curious that why there were 121 examples in the training data and 66 samples in the test set? And where the remaining samples. This actually depends how we split our data and it will be covered in detail in next lesson."
   ]
  },
  {
   "cell_type": "markdown",
   "metadata": {},
   "source": [
    "### saving prepared data in h5 file\n",
    "\n",
    "Data preparation i.e. converting data into examples can be costly so sometimes, it is better to save the prepared data so that we don't have to prepare it again and again. We can save the prepared data (input-output pairs). One way of doing this using the ``DataSet`` class is to save the input-output pairs into ``h5`` file. You only need to set the ``save`` to True."
   ]
  },
  {
   "cell_type": "code",
   "execution_count": 99,
   "metadata": {},
   "outputs": [
    {
     "name": "stdout",
     "output_type": "stream",
     "text": [
      "\n",
      "********** Removing Examples with nan in labels  **********\n",
      "\n",
      "***** Training *****\n",
      "input_x shape:  (121, 13)\n",
      "target shape:  (121, 2)\n",
      "\n",
      "********** Removing Examples with nan in labels  **********\n",
      "\n",
      "***** Validation *****\n",
      "input_x shape:  (31, 13)\n",
      "target shape:  (31, 2)\n",
      "\n",
      "********** Removing Examples with nan in labels  **********\n",
      "\n",
      "***** Test *****\n",
      "input_x shape:  (66, 13)\n",
      "target shape:  (66, 2)\n"
     ]
    }
   ],
   "source": [
    "ds = DataSet(\n",
    "    data=data,\n",
    "    output_features=[\"blaTEM_coppml\", \"tetx_coppml\"],\n",
    "    save=True\n",
    ")"
   ]
  },
  {
   "cell_type": "markdown",
   "metadata": {},
   "source": [
    "Now we have a ``data.h5`` file in our disk. We can look into this file if we have the proper editor/viewer for h5 file. One such viewer is [hdf5viewer](). Using this viewer, we can see the input-output pairs for training, validation and test sets."
   ]
  },
  {
   "cell_type": "markdown",
   "metadata": {},
   "source": [
    "### Loading from h5 file\n",
    "\n",
    "We can use the pre-existing h5 file i.e. ``data.h5`` file to construct ``DataSet`` class. And we can get training and test data from it as well. We have to use ``from_h5`` constructor/class method for this purpose. The input to ``from_h5`` method is the path of .h5 file."
   ]
  },
  {
   "cell_type": "code",
   "execution_count": 100,
   "metadata": {},
   "outputs": [],
   "source": [
    "ds = DataSet.from_h5(\"data.h5\")"
   ]
  },
  {
   "cell_type": "code",
   "execution_count": 102,
   "metadata": {},
   "outputs": [
    {
     "data": {
      "text/plain": [
       "((121, 13), (121, 2))"
      ]
     },
     "execution_count": 102,
     "metadata": {},
     "output_type": "execute_result"
    }
   ],
   "source": [
    "train_x, train_y = ds.training_data()\n",
    "train_x.shape, train_y.shape"
   ]
  },
  {
   "cell_type": "code",
   "execution_count": 103,
   "metadata": {},
   "outputs": [
    {
     "data": {
      "text/plain": [
       "((66, 13), (66, 2))"
      ]
     },
     "execution_count": 103,
     "metadata": {},
     "output_type": "execute_result"
    }
   ],
   "source": [
    "train_x, train_y = ds.test_data()\n",
    "train_x.shape, train_y.shape"
   ]
  },
  {
   "cell_type": "markdown",
   "metadata": {},
   "source": [
    "### Multiple Inputs\n",
    "\n",
    "The examples presented so far had only one kind of input data or one input source. In machine learning, and especially in deep learning, we can however, very often have examples combining inputs from multiple sources. For example, instead of input data consisting of numpy array, our input data can consist of list of numpy arrays. These numpy arrays then can represent data from different sources. "
   ]
  },
  {
   "cell_type": "markdown",
   "metadata": {},
   "source": [
    "### Higher dimensional features"
   ]
  }
 ],
 "metadata": {
  "colab": {
   "collapsed_sections": [],
   "name": "lstm_test.ipynb",
   "provenance": []
  },
  "kernelspec": {
   "display_name": "Python 3",
   "language": "python",
   "name": "python3"
  },
  "language_info": {
   "codemirror_mode": {
    "name": "ipython",
    "version": 3
   },
   "file_extension": ".py",
   "mimetype": "text/x-python",
   "name": "python",
   "nbconvert_exporter": "python",
   "pygments_lexer": "ipython3",
   "version": "3.7.7"
  }
 },
 "nbformat": 4,
 "nbformat_minor": 1
}
