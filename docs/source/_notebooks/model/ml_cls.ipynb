{
 "cells": [
  {
   "cell_type": "code",
   "execution_count": null,
   "metadata": {},
   "outputs": [],
   "source": [
    "%matplotlib inline"
   ]
  },
  {
   "cell_type": "markdown",
   "metadata": {},
   "source": [
    "\n",
    "# machine learning for classification\n"
   ]
  },
  {
   "cell_type": "code",
   "execution_count": 1,
   "metadata": {},
   "outputs": [
    {
     "name": "stderr",
     "output_type": "stream",
     "text": [
      "D:\\C\\Anaconda3\\envs\\tfcpu27_py39\\lib\\site-packages\\numpy\\_distributor_init.py:30: UserWarning: loaded more than 1 DLL from .libs:\n",
      "D:\\C\\Anaconda3\\envs\\tfcpu27_py39\\lib\\site-packages\\numpy\\.libs\\libopenblas.EL2C6PLE4ZYW3ECEVIV3OXXGRN2NRFM2.gfortran-win_amd64.dll\n",
      "D:\\C\\Anaconda3\\envs\\tfcpu27_py39\\lib\\site-packages\\numpy\\.libs\\libopenblas.GK7GX5KEQ4F6UYO3P26ULGBQYHGQO7J4.gfortran-win_amd64.dll\n",
      "  warnings.warn(\"loaded more than 1 DLL from .libs:\"\n",
      "D:\\C\\Anaconda3\\envs\\tfcpu27_py39\\lib\\site-packages\\sklearn\\experimental\\enable_hist_gradient_boosting.py:16: UserWarning: Since version 1.0, it is not needed to import enable_hist_gradient_boosting anymore. HistGradientBoostingClassifier and HistGradientBoostingRegressor are now stable and can be normally imported from sklearn.ensemble.\n",
      "  warnings.warn(\n"
     ]
    }
   ],
   "source": [
    "\n",
    "import numpy as np\n",
    "import pandas as pd\n",
    "\n",
    "from ai4water import Model\n",
    "from ai4water.utils.utils import get_version_info\n",
    "from ai4water.datasets import MtropicsLaos\n",
    "\n"
   ]
  },
  {
   "cell_type": "code",
   "execution_count": 2,
   "metadata": {},
   "outputs": [
    {
     "name": "stdout",
     "output_type": "stream",
     "text": [
      "python version: 3.9.7 | packaged by conda-forge | (default, Sep 29 2021, 19:20:16) [MSC v.1916 64 bit (AMD64)]\n",
      "os version: nt\n",
      "ai4water version: 1.06\n",
      "lightgbm version: 3.3.1\n",
      "tcn version: 3.4.0\n",
      "catboost version: 0.26\n",
      "xgboost version: 1.5.0\n",
      "easy_mpl version: 0.21.2\n",
      "SeqMetrics version: 1.3.3\n",
      "tensorflow version: 2.7.0\n",
      "keras.api._v2.keras version: 2.7.0\n",
      "numpy version: 1.21.0\n",
      "pandas version: 1.3.4\n",
      "matplotlib version: 3.4.3\n",
      "h5py version: 3.5.0\n",
      "sklearn version: 1.0.1\n",
      "shapefile version: 2.3.0\n",
      "xarray version: 0.20.1\n",
      "netCDF4 version: 1.5.7\n",
      "optuna version: 2.10.1\n",
      "skopt version: 0.9.0\n",
      "hyperopt version: 0.2.7\n",
      "plotly version: 5.3.1\n",
      "lime version: NotDefined\n",
      "seaborn version: 0.11.2\n"
     ]
    }
   ],
   "source": [
    "\n",
    "for k,v in get_version_info().items():\n",
    "    print(f\"{k} version: {v}\")"
   ]
  },
  {
   "cell_type": "code",
   "execution_count": 3,
   "metadata": {},
   "outputs": [
    {
     "name": "stdout",
     "output_type": "stream",
     "text": [
      "\n",
      "    Not downloading the data since the directory \n",
      "    F:\\data\\MtropicsLaos already exists.\n",
      "    Use overwrite=True to remove previously saved files and download again\n"
     ]
    }
   ],
   "source": [
    "dataset = MtropicsLaos(save_as_nc=True,  # if set to True, then netcdf must be installed\n",
    "                       convert_to_csv=False,\n",
    "                       path=\"F:\\\\data\\\\MtropicsLaos\",\n",
    "                      )\n"
   ]
  },
  {
   "cell_type": "code",
   "execution_count": 4,
   "metadata": {},
   "outputs": [
    {
     "name": "stderr",
     "output_type": "stream",
     "text": [
      "Value based partial slicing on non-monotonic DatetimeIndexes with non-existing keys is deprecated and will raise a KeyError in a future Version.\n"
     ]
    },
    {
     "name": "stdout",
     "output_type": "stream",
     "text": [
      "(258, 9)\n"
     ]
    }
   ],
   "source": [
    "data =    dataset.make_classification(lookback_steps=1)\n",
    "\n",
    "print(data.shape)"
   ]
  },
  {
   "cell_type": "code",
   "execution_count": 5,
   "metadata": {},
   "outputs": [
    {
     "data": {
      "text/html": [
       "<div>\n",
       "<style scoped>\n",
       "    .dataframe tbody tr th:only-of-type {\n",
       "        vertical-align: middle;\n",
       "    }\n",
       "\n",
       "    .dataframe tbody tr th {\n",
       "        vertical-align: top;\n",
       "    }\n",
       "\n",
       "    .dataframe thead th {\n",
       "        text-align: right;\n",
       "    }\n",
       "</style>\n",
       "<table border=\"1\" class=\"dataframe\">\n",
       "  <thead>\n",
       "    <tr style=\"text-align: right;\">\n",
       "      <th></th>\n",
       "      <th>air_temp</th>\n",
       "      <th>rel_hum</th>\n",
       "      <th>wind_speed</th>\n",
       "      <th>sol_rad</th>\n",
       "      <th>water_level</th>\n",
       "      <th>pcp</th>\n",
       "      <th>susp_pm</th>\n",
       "      <th>Ecoli_source</th>\n",
       "      <th>Ecoli_mpn100</th>\n",
       "    </tr>\n",
       "  </thead>\n",
       "  <tbody>\n",
       "    <tr>\n",
       "      <th>2011-05-25 16:36:00</th>\n",
       "      <td>22.540455</td>\n",
       "      <td>96.173793</td>\n",
       "      <td>2.2</td>\n",
       "      <td>34.8</td>\n",
       "      <td>144.6</td>\n",
       "      <td>0.0</td>\n",
       "      <td>0.90</td>\n",
       "      <td>2.868160e+15</td>\n",
       "      <td>1.0</td>\n",
       "    </tr>\n",
       "    <tr>\n",
       "      <th>2011-05-25 17:06:00</th>\n",
       "      <td>22.541138</td>\n",
       "      <td>96.174943</td>\n",
       "      <td>2.9</td>\n",
       "      <td>6.0</td>\n",
       "      <td>147.8</td>\n",
       "      <td>0.0</td>\n",
       "      <td>0.99</td>\n",
       "      <td>2.868160e+15</td>\n",
       "      <td>1.0</td>\n",
       "    </tr>\n",
       "    <tr>\n",
       "      <th>2011-05-25 17:24:00</th>\n",
       "      <td>22.541547</td>\n",
       "      <td>96.175632</td>\n",
       "      <td>2.6</td>\n",
       "      <td>6.0</td>\n",
       "      <td>149.1</td>\n",
       "      <td>0.0</td>\n",
       "      <td>1.33</td>\n",
       "      <td>2.868160e+15</td>\n",
       "      <td>1.0</td>\n",
       "    </tr>\n",
       "    <tr>\n",
       "      <th>2011-05-25 17:42:00</th>\n",
       "      <td>22.541957</td>\n",
       "      <td>96.176322</td>\n",
       "      <td>2.3</td>\n",
       "      <td>6.0</td>\n",
       "      <td>151.8</td>\n",
       "      <td>0.0</td>\n",
       "      <td>0.96</td>\n",
       "      <td>2.868160e+15</td>\n",
       "      <td>1.0</td>\n",
       "    </tr>\n",
       "    <tr>\n",
       "      <th>2011-05-25 18:06:00</th>\n",
       "      <td>22.542503</td>\n",
       "      <td>96.177241</td>\n",
       "      <td>1.9</td>\n",
       "      <td>5.8</td>\n",
       "      <td>149.3</td>\n",
       "      <td>0.0</td>\n",
       "      <td>0.74</td>\n",
       "      <td>2.868160e+15</td>\n",
       "      <td>1.0</td>\n",
       "    </tr>\n",
       "  </tbody>\n",
       "</table>\n",
       "</div>"
      ],
      "text/plain": [
       "                      air_temp    rel_hum  wind_speed  sol_rad  water_level  \\\n",
       "2011-05-25 16:36:00  22.540455  96.173793         2.2     34.8        144.6   \n",
       "2011-05-25 17:06:00  22.541138  96.174943         2.9      6.0        147.8   \n",
       "2011-05-25 17:24:00  22.541547  96.175632         2.6      6.0        149.1   \n",
       "2011-05-25 17:42:00  22.541957  96.176322         2.3      6.0        151.8   \n",
       "2011-05-25 18:06:00  22.542503  96.177241         1.9      5.8        149.3   \n",
       "\n",
       "                     pcp  susp_pm  Ecoli_source  Ecoli_mpn100  \n",
       "2011-05-25 16:36:00  0.0     0.90  2.868160e+15           1.0  \n",
       "2011-05-25 17:06:00  0.0     0.99  2.868160e+15           1.0  \n",
       "2011-05-25 17:24:00  0.0     1.33  2.868160e+15           1.0  \n",
       "2011-05-25 17:42:00  0.0     0.96  2.868160e+15           1.0  \n",
       "2011-05-25 18:06:00  0.0     0.74  2.868160e+15           1.0  "
      ]
     },
     "execution_count": 5,
     "metadata": {},
     "output_type": "execute_result"
    }
   ],
   "source": [
    "data.head()"
   ]
  },
  {
   "cell_type": "code",
   "execution_count": 6,
   "metadata": {},
   "outputs": [
    {
     "name": "stdout",
     "output_type": "stream",
     "text": [
      "\n",
      "            building ML model for  \n",
      "            classification problem using XGBClassifier\n"
     ]
    }
   ],
   "source": [
    "model = Model(\n",
    "    input_features=data.columns.tolist()[0:-1],\n",
    "    output_features=data.columns.tolist()[-1:],\n",
    "    model=\"XGBClassifier\",\n",
    "    split_random=True,\n",
    "    x_transformation=\"zscore\",\n",
    ")"
   ]
  },
  {
   "cell_type": "code",
   "execution_count": 7,
   "metadata": {},
   "outputs": [
    {
     "name": "stdout",
     "output_type": "stream",
     "text": [
      "***** Training *****\n",
      "input_x shape:  (144, 8)\n",
      "target shape:  (144, 1)\n",
      "[11:53:40] WARNING: C:/Users/Administrator/workspace/xgboost-win64_release_1.5.0/src/learner.cc:1115: Starting in XGBoost 1.3.0, the default evaluation metric used with the objective 'binary:logistic' was changed from 'error' to 'logloss'. Explicitly set eval_metric if you'd like to restore the old behavior.\n"
     ]
    },
    {
     "name": "stderr",
     "output_type": "stream",
     "text": [
      "The use of label encoder in XGBClassifier is deprecated and will be removed in a future release. To remove this warning, do the following: 1) Pass option use_label_encoder=False when constructing XGBClassifier object; and 2) Encode your labels (y) as integers starting with 0, i.e. 0, 1, 2, ..., [num_class - 1].\n"
     ]
    }
   ],
   "source": [
    "h = model.fit(data=data)"
   ]
  },
  {
   "cell_type": "code",
   "execution_count": 8,
   "metadata": {
    "nbsphinx-thumbnail": {
     "tooltip": "Building Machine Learning model for Classification"
    },
    "tags": [
     "nbsphinx-thumbnail"
    ]
   },
   "outputs": [
    {
     "name": "stdout",
     "output_type": "stream",
     "text": [
      "***** Validation *****\n",
      "input_x shape:  (36, 8)\n",
      "target shape:  (36, 1)\n"
     ]
    },
    {
     "data": {
      "image/png": "[encoded data removed]",
      "text/plain": [
       "<Figure size 432x288 with 2 Axes>"
      ]
     },
     "metadata": {
      "needs_background": "light"
     },
     "output_type": "display_data"
    }
   ],
   "source": [
    "p = model.predict_on_validation_data(data=data)"
   ]
  },
  {
   "cell_type": "code",
   "execution_count": null,
   "metadata": {},
   "outputs": [],
   "source": []
  }
 ],
 "metadata": {
  "celltoolbar": "Edit Metadata",
  "kernelspec": {
   "display_name": "Python 3 (ipykernel)",
   "language": "python",
   "name": "python3"
  },
  "language_info": {
   "codemirror_mode": {
    "name": "ipython",
    "version": 3
   },
   "file_extension": ".py",
   "mimetype": "text/x-python",
   "name": "python",
   "nbconvert_exporter": "python",
   "pygments_lexer": "ipython3",
   "version": "3.9.7"
  }
 },
 "nbformat": 4,
 "nbformat_minor": 1
}
