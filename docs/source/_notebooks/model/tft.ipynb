{
 "cells": [
  {
   "cell_type": "code",
   "execution_count": 1,
   "metadata": {},
   "outputs": [
    {
     "name": "stderr",
     "output_type": "stream",
     "text": [
      "D:\\C\\Anaconda3\\envs\\tfcpu27_py39\\lib\\site-packages\\numpy\\_distributor_init.py:30: UserWarning: loaded more than 1 DLL from .libs:\n",
      "D:\\C\\Anaconda3\\envs\\tfcpu27_py39\\lib\\site-packages\\numpy\\.libs\\libopenblas.EL2C6PLE4ZYW3ECEVIV3OXXGRN2NRFM2.gfortran-win_amd64.dll\n",
      "D:\\C\\Anaconda3\\envs\\tfcpu27_py39\\lib\\site-packages\\numpy\\.libs\\libopenblas.GK7GX5KEQ4F6UYO3P26ULGBQYHGQO7J4.gfortran-win_amd64.dll\n",
      "  warnings.warn(\"loaded more than 1 DLL from .libs:\"\n"
     ]
    }
   ],
   "source": [
    "%matplotlib inline"
   ]
  },
  {
   "cell_type": "markdown",
   "metadata": {},
   "source": [
    "[![Open In Colab](https://colab.research.google.com/assets/colab-badge.svg)](https://colab.research.google.com/github/AtrCheema/ai4water_examples/blob/master/docs/source/_notebooks/model/tft.ipynb)\n",
    "\n",
    "\n",
    "[![View Source on GitHub](https://img.shields.io/badge/github-view%20source-black.svg)](https://github.com/AtrCheema/ai4water_examples/blob/master/docs/source/_notebooks/model/tft.ipynb)"
   ]
  },
  {
   "cell_type": "code",
   "execution_count": null,
   "metadata": {
    "pycharm": {
     "name": "#%%\n"
    }
   },
   "outputs": [],
   "source": [
    "try:\n",
    "    import ai4water\n",
    "except (ImportError, ModuleNotFoundError):\n",
    "    !pip install ai4water[tf2]"
   ]
  },
  {
   "cell_type": "markdown",
   "metadata": {
    "pycharm": {
     "name": "#%% md\n"
    }
   },
   "source": [
    "## Temporal Fusion Transformer"
   ]
  },
  {
   "cell_type": "code",
   "execution_count": 2,
   "metadata": {},
   "outputs": [
    {
     "name": "stderr",
     "output_type": "stream",
     "text": [
      "D:\\C\\Anaconda3\\envs\\tfcpu27_py39\\lib\\site-packages\\sklearn\\experimental\\enable_hist_gradient_boosting.py:16: UserWarning: Since version 1.0, it is not needed to import enable_hist_gradient_boosting anymore. HistGradientBoostingClassifier and HistGradientBoostingRegressor are now stable and can be normally imported from sklearn.ensemble.\n",
      "  warnings.warn(\n"
     ]
    }
   ],
   "source": [
    "\n",
    "from ai4water import Model\n",
    "from ai4water.datasets import MtropicsLaos\n",
    "from ai4water.utils.utils import get_version_info\n"
   ]
  },
  {
   "cell_type": "code",
   "execution_count": 3,
   "metadata": {},
   "outputs": [
    {
     "name": "stdout",
     "output_type": "stream",
     "text": [
      "python version: 3.9.7 | packaged by conda-forge | (default, Sep 29 2021, 19:20:16) [MSC v.1916 64 bit (AMD64)]\n",
      "os version: nt\n",
      "ai4water version: 1.06\n",
      "lightgbm version: 3.3.1\n",
      "tcn version: 3.4.0\n",
      "catboost version: 0.26\n",
      "xgboost version: 1.5.0\n",
      "easy_mpl version: 0.21.2\n",
      "SeqMetrics version: 1.3.3\n",
      "tensorflow version: 2.7.0\n",
      "keras.api._v2.keras version: 2.7.0\n",
      "numpy version: 1.21.0\n",
      "pandas version: 1.3.4\n",
      "matplotlib version: 3.4.3\n",
      "h5py version: 3.5.0\n",
      "sklearn version: 1.0.1\n",
      "shapefile version: 2.3.0\n",
      "xarray version: 0.20.1\n",
      "netCDF4 version: 1.5.7\n",
      "optuna version: 2.10.1\n",
      "skopt version: 0.9.0\n",
      "hyperopt version: 0.2.7\n",
      "plotly version: 5.3.1\n",
      "lime version: NotDefined\n",
      "seaborn version: 0.11.2\n"
     ]
    }
   ],
   "source": [
    "\n",
    "for k,v in get_version_info().items():\n",
    "    print(f\"{k} version: {v}\")"
   ]
  },
  {
   "cell_type": "code",
   "execution_count": 4,
   "metadata": {},
   "outputs": [
    {
     "name": "stdout",
     "output_type": "stream",
     "text": [
      "\n",
      "    Not downloading the data since the directory \n",
      "    F:\\data\\MtropicsLaos already exists.\n",
      "    Use overwrite=True to remove previously saved files and download again\n"
     ]
    },
    {
     "name": "stderr",
     "output_type": "stream",
     "text": [
      "Value based partial slicing on non-monotonic DatetimeIndexes with non-existing keys is deprecated and will raise a KeyError in a future Version.\n"
     ]
    },
    {
     "data": {
      "text/plain": [
       "(4071, 9)"
      ]
     },
     "execution_count": 4,
     "metadata": {},
     "output_type": "execute_result"
    }
   ],
   "source": [
    "dataset = MtropicsLaos(save_as_nc=True,  # if set to True, then netcdf must be installed\n",
    "                       convert_to_csv=False,\n",
    "                       path=\"F:\\\\data\\\\MtropicsLaos\",\n",
    "                      )\n",
    "\n",
    "lookback = 20\n",
    "\n",
    "data = dataset.make_regression(lookback_steps=lookback)\n",
    "data.shape"
   ]
  }
 ],
 "metadata": {
  "celltoolbar": "Edit Metadata",
  "kernelspec": {
   "display_name": "Python 3 (ipykernel)",
   "language": "python",
   "name": "python3"
  },
  "language_info": {
   "codemirror_mode": {
    "name": "ipython",
    "version": 3
   },
   "file_extension": ".py",
   "mimetype": "text/x-python",
   "name": "python",
   "nbconvert_exporter": "python",
   "pygments_lexer": "ipython3",
   "version": "3.9.7"
  }
 },
 "nbformat": 4,
 "nbformat_minor": 1
}
